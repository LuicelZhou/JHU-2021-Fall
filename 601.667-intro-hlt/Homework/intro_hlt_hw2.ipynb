{
  "nbformat": 4,
  "nbformat_minor": 0,
  "metadata": {
    "colab": {
      "name": "intro-hlt-hw2.ipynb",
      "provenance": [],
      "collapsed_sections": [],
      "machine_shape": "hm"
    },
    "kernelspec": {
      "name": "python3",
      "display_name": "Python 3"
    },
    "accelerator": "GPU"
  },
  "cells": [
    {
      "cell_type": "markdown",
      "metadata": {
        "id": "eLm_JxCxrkIE"
      },
      "source": [
        "# Assignment 2\n",
        "\n",
        "In the last few lectures, you have looked at two work-horses of natural language processing: recurrent neural networks, and word embeddings (distributional semantics). In this assignment, you will put the learning into practice by implementing some of these yourself, and doing some exploratory analysis.\n",
        "\n",
        "# Setup\n",
        "\n",
        "For this assignment, as in the previous one, we will be using Google Colab, for both code as well as descriptive questions. Your task is to finish all the questions in the Colab notebook and then upload a PDF version of the notebook, and a viewable link on Gradescope. \n",
        "\n",
        "### Google colaboratory\n",
        "\n",
        "Before getting started, get familiar with google colaboratory:\n",
        "https://colab.research.google.com/notebooks/welcome.ipynb\n",
        "\n",
        "This is a neat python environment that works in the cloud and does not require you to\n",
        "set up anything on your personal machine\n",
        "(it also has some built-in IDE features that make writing code easier).\n",
        "Moreover, it allows you to copy any existing collaboratory file, alter it and share\n",
        "with other people.\n",
        "\n",
        "### Submission\n",
        "\n",
        "Before you start working on this homework do the following steps:\n",
        "\n",
        "1. Press __File > Save a copy in Drive...__ tab. This will allow you to have your own copy and change it.\n",
        "2. Follow all the steps in this collaboratory file and write / change / uncomment code as necessary.\n",
        "3. Do not forget to occasionally press __File > Save__ tab to save your progress.\n",
        "4. After all the changes are done and progress is saved press __Share__ button (top right corner of the page), press __get shareable link__ and make sure you have the option __Anyone with the link can view__ selected.\n",
        "5. After completing the notebook, press __File > Download .ipynb__ to download a local copy on your computer, and then use `jupyter nbconvert --to pdf intro-hlt-hw2.ipynb` to convert the notebook into PDF format for uploading on Gradescope."
      ]
    },
    {
      "cell_type": "markdown",
      "metadata": {
        "id": "Y2kR0zyxKUh2"
      },
      "source": [
        "```\n",
        "# Paste your Colab notebook link here\n",
        "https://colab.research.google.com/drive/1JJoZYwO8ExF0PGV8dtzkF3JK6dsNZUTk?usp=sharing\n",
        "```\n",
        "\n"
      ]
    },
    {
      "cell_type": "markdown",
      "metadata": {
        "id": "hj0UWhFRmNcm"
      },
      "source": [
        "### Part 1: Language modeling with RNNs\n",
        "\n",
        "For the first part of this assignment, you will train a character-level language model on a lyrics dataset.\n",
        "\n",
        "More specifically, you will:\n",
        "1. Implement a character-level language model based on recurrent neural networks.\n",
        "2. Train it on a lyrics dataset.\n",
        "3. Sample previously unseen lyrics from our model.\n",
        "4. Augment your model with an artist information, so that you can generate songs conditioned on some artist.\n",
        "\n",
        "Let's get started!\n",
        "\n",
        "#### Character-Level language model\n",
        "\n",
        "![alt text](http://warmspringwinds.github.io/assets/img/character_level_model.jpg \"Logo Title Text 1\")\n",
        "\n",
        "Before choosing a model, let’s have a closer look at our task. Given current letter and all previous letters, we will try to predict the next character. During training we will just take a sequence, and use all its characters except the last one as an input and the same sequence starting from the second character as groundtruth (see the picture above).\n",
        "\n",
        "Our language model is defined on a character level. We will create a dictionary which will contain all English characters plus some special symbols, such as period, comma, and end-of-line symbol. Each charecter will be represented as one-hot-encoded tensor. For more information about character-level models and examples, refer to the [the following resource](https://github.com/spro/practical-pytorch).\n",
        "\n",
        "\n",
        "Our objective is to model is _p_(current letter | all previous letters). At first, the task seems intractable as the number of previous letters is variable and it might become really large in case of long sequences. \n",
        "\n",
        "__Question:__ Based on what you learned in Assignment 1, describe how you would deal with this problem? _(2 points)_"
      ]
    },
    {
      "cell_type": "markdown",
      "metadata": {
        "id": "3IDdwQ-aubA2"
      },
      "source": [
        "__Answer:__ We can use the n-gram model to specify the number of previous letters. So large scale sequences could be the same as tiny senquences."
      ]
    },
    {
      "cell_type": "markdown",
      "metadata": {
        "id": "J7b0RJuauGLd"
      },
      "source": [
        "#### Recurrent Neural Networks (RNNs)\n",
        "\n",
        "![alt text](http://warmspringwinds.github.io/assets/img/rnn_unfold.jpg \"Logo Title Text 1\")\n",
        "\n",
        "RNNs are a family of neural networks for processing sequential data. Unlike feedforward neural networks, RNNs can use their internal memory to process arbitrary sequences of inputs. Because of arbitrary size input sequences, they are concisely depicted as a graph with a cycle (see the picture). But they can be “unfolded” if the size of input sequence is known. They define a non-linear mapping from a current input $x_t$ and previous hidden state $s_{t−1}$ to the output $o_t$ and current hidden state $s_t$. Hidden state size has a predefined size and stores features which are updated on each step and affect the result of mapping.\n",
        "\n",
        "Now align the previous picture of the character-level language model and the unfolded RNN picture to see how we are using the RNN model to learn a character level language model.\n",
        "\n",
        "While the picture depicts the Vanilla RNN, LSTMs or GRUs are more commonly used in practice.\n",
        "\n",
        "For a more elaborate introduction to RNNs, we refer reader to [the following resource](http://www.wildml.com/2015/09/recurrent-neural-networks-tutorial-part-1-introduction-to-rnns/).\n",
        "\n",
        "__Question:__ Why are LSTMs/GRUs preferred over RNNs? _(3 points)_\n"
      ]
    },
    {
      "cell_type": "markdown",
      "metadata": {
        "id": "pvoUw3D7yG0r"
      },
      "source": [
        "__Answer:__ Because RNNs have the vanishing gradient problem. LSTMs and GRUs were created as a solution to the vanishing gradient problem. They have internal mechanisms called gates that can regulate the flow of information."
      ]
    },
    {
      "cell_type": "markdown",
      "metadata": {
        "id": "cxyGXlYGnkuK"
      },
      "source": [
        "#### Downloading the data\n",
        "\n",
        "For your experiments, you will use a subset of [Song Lyrics Kaggle dataset](https://www.kaggle.com/mousehead/songlyrics) which contains a good variety of recent artists and more older ones. It is stored as a Pandas file originally, but you we will provide you with a Python wrapper to use the data for training your models easily."
      ]
    },
    {
      "cell_type": "code",
      "metadata": {
        "id": "vCGNCWWLoixC",
        "colab": {
          "base_uri": "https://localhost:8080/"
        },
        "outputId": "fa745359-e1a0-4204-d3e0-98ec2d332ca7"
      },
      "source": [
        "# Downloading dataset and installing dependencies\n",
        "!wget https://www.dropbox.com/s/ge1bhvik5jya9hr/songdata.csv?dl=0\n",
        "!mv songdata.csv\\?dl\\=0 songdata.csv\n",
        "!pip install livelossplot==0.3.4"
      ],
      "execution_count": null,
      "outputs": [
        {
          "output_type": "stream",
          "name": "stdout",
          "text": [
            "--2021-10-13 20:10:18--  https://www.dropbox.com/s/ge1bhvik5jya9hr/songdata.csv?dl=0\n",
            "Resolving www.dropbox.com (www.dropbox.com)... 162.125.1.18, 2620:100:6016:18::a27d:112\n",
            "Connecting to www.dropbox.com (www.dropbox.com)|162.125.1.18|:443... connected.\n",
            "HTTP request sent, awaiting response... 301 Moved Permanently\n",
            "Location: /s/raw/ge1bhvik5jya9hr/songdata.csv [following]\n",
            "--2021-10-13 20:10:18--  https://www.dropbox.com/s/raw/ge1bhvik5jya9hr/songdata.csv\n",
            "Reusing existing connection to www.dropbox.com:443.\n",
            "HTTP request sent, awaiting response... 302 Found\n",
            "Location: https://uc5e82bc97ce5ce047eeadaba377.dl.dropboxusercontent.com/cd/0/inline/BX-P5qe0ZxJ67dWoMsUS78Tf78HIPVVw2x3NgyD4bA1pnBQtUB3yFJJhavUjmDK31ChjTmODvogTysk24zKdOcsiFSgDq1rddourHCyZF6sQRRBd3GFkzWznbP3Dlne2QT1e9W0UTzcsWHqDyKi_LQg9/file# [following]\n",
            "--2021-10-13 20:10:18--  https://uc5e82bc97ce5ce047eeadaba377.dl.dropboxusercontent.com/cd/0/inline/BX-P5qe0ZxJ67dWoMsUS78Tf78HIPVVw2x3NgyD4bA1pnBQtUB3yFJJhavUjmDK31ChjTmODvogTysk24zKdOcsiFSgDq1rddourHCyZF6sQRRBd3GFkzWznbP3Dlne2QT1e9W0UTzcsWHqDyKi_LQg9/file\n",
            "Resolving uc5e82bc97ce5ce047eeadaba377.dl.dropboxusercontent.com (uc5e82bc97ce5ce047eeadaba377.dl.dropboxusercontent.com)... 162.125.80.15, 2620:100:6016:15::a27d:10f\n",
            "Connecting to uc5e82bc97ce5ce047eeadaba377.dl.dropboxusercontent.com (uc5e82bc97ce5ce047eeadaba377.dl.dropboxusercontent.com)|162.125.80.15|:443... connected.\n",
            "HTTP request sent, awaiting response... 200 OK\n",
            "Length: 72436445 (69M) [text/plain]\n",
            "Saving to: ‘songdata.csv?dl=0’\n",
            "\n",
            "songdata.csv?dl=0   100%[===================>]  69.08M  18.9MB/s    in 4.5s    \n",
            "\n",
            "2021-10-13 20:10:24 (15.4 MB/s) - ‘songdata.csv?dl=0’ saved [72436445/72436445]\n",
            "\n",
            "Collecting livelossplot==0.3.4\n",
            "  Downloading livelossplot-0.3.4-py3-none-any.whl (12 kB)\n",
            "Requirement already satisfied: notebook in /usr/local/lib/python3.7/dist-packages (from livelossplot==0.3.4) (5.3.1)\n",
            "Requirement already satisfied: matplotlib in /usr/local/lib/python3.7/dist-packages (from livelossplot==0.3.4) (3.2.2)\n",
            "Requirement already satisfied: pyparsing!=2.0.4,!=2.1.2,!=2.1.6,>=2.0.1 in /usr/local/lib/python3.7/dist-packages (from matplotlib->livelossplot==0.3.4) (2.4.7)\n",
            "Requirement already satisfied: cycler>=0.10 in /usr/local/lib/python3.7/dist-packages (from matplotlib->livelossplot==0.3.4) (0.10.0)\n",
            "Requirement already satisfied: kiwisolver>=1.0.1 in /usr/local/lib/python3.7/dist-packages (from matplotlib->livelossplot==0.3.4) (1.3.2)\n",
            "Requirement already satisfied: numpy>=1.11 in /usr/local/lib/python3.7/dist-packages (from matplotlib->livelossplot==0.3.4) (1.19.5)\n",
            "Requirement already satisfied: python-dateutil>=2.1 in /usr/local/lib/python3.7/dist-packages (from matplotlib->livelossplot==0.3.4) (2.8.2)\n",
            "Requirement already satisfied: six in /usr/local/lib/python3.7/dist-packages (from cycler>=0.10->matplotlib->livelossplot==0.3.4) (1.15.0)\n",
            "Requirement already satisfied: terminado>=0.8.1 in /usr/local/lib/python3.7/dist-packages (from notebook->livelossplot==0.3.4) (0.12.1)\n",
            "Requirement already satisfied: Send2Trash in /usr/local/lib/python3.7/dist-packages (from notebook->livelossplot==0.3.4) (1.8.0)\n",
            "Requirement already satisfied: jinja2 in /usr/local/lib/python3.7/dist-packages (from notebook->livelossplot==0.3.4) (2.11.3)\n",
            "Requirement already satisfied: nbformat in /usr/local/lib/python3.7/dist-packages (from notebook->livelossplot==0.3.4) (5.1.3)\n",
            "Requirement already satisfied: jupyter-core>=4.4.0 in /usr/local/lib/python3.7/dist-packages (from notebook->livelossplot==0.3.4) (4.8.1)\n",
            "Requirement already satisfied: tornado>=4 in /usr/local/lib/python3.7/dist-packages (from notebook->livelossplot==0.3.4) (5.1.1)\n",
            "Requirement already satisfied: traitlets>=4.2.1 in /usr/local/lib/python3.7/dist-packages (from notebook->livelossplot==0.3.4) (5.1.0)\n",
            "Requirement already satisfied: ipykernel in /usr/local/lib/python3.7/dist-packages (from notebook->livelossplot==0.3.4) (4.10.1)\n",
            "Requirement already satisfied: ipython-genutils in /usr/local/lib/python3.7/dist-packages (from notebook->livelossplot==0.3.4) (0.2.0)\n",
            "Requirement already satisfied: nbconvert in /usr/local/lib/python3.7/dist-packages (from notebook->livelossplot==0.3.4) (5.6.1)\n",
            "Requirement already satisfied: jupyter-client>=5.2.0 in /usr/local/lib/python3.7/dist-packages (from notebook->livelossplot==0.3.4) (5.3.5)\n",
            "Requirement already satisfied: pyzmq>=13 in /usr/local/lib/python3.7/dist-packages (from jupyter-client>=5.2.0->notebook->livelossplot==0.3.4) (22.3.0)\n",
            "Requirement already satisfied: ptyprocess in /usr/local/lib/python3.7/dist-packages (from terminado>=0.8.1->notebook->livelossplot==0.3.4) (0.7.0)\n",
            "Requirement already satisfied: ipython>=4.0.0 in /usr/local/lib/python3.7/dist-packages (from ipykernel->notebook->livelossplot==0.3.4) (5.5.0)\n",
            "Requirement already satisfied: pygments in /usr/local/lib/python3.7/dist-packages (from ipython>=4.0.0->ipykernel->notebook->livelossplot==0.3.4) (2.6.1)\n",
            "Requirement already satisfied: pickleshare in /usr/local/lib/python3.7/dist-packages (from ipython>=4.0.0->ipykernel->notebook->livelossplot==0.3.4) (0.7.5)\n",
            "Requirement already satisfied: setuptools>=18.5 in /usr/local/lib/python3.7/dist-packages (from ipython>=4.0.0->ipykernel->notebook->livelossplot==0.3.4) (57.4.0)\n",
            "Requirement already satisfied: simplegeneric>0.8 in /usr/local/lib/python3.7/dist-packages (from ipython>=4.0.0->ipykernel->notebook->livelossplot==0.3.4) (0.8.1)\n",
            "Requirement already satisfied: prompt-toolkit<2.0.0,>=1.0.4 in /usr/local/lib/python3.7/dist-packages (from ipython>=4.0.0->ipykernel->notebook->livelossplot==0.3.4) (1.0.18)\n",
            "Requirement already satisfied: pexpect in /usr/local/lib/python3.7/dist-packages (from ipython>=4.0.0->ipykernel->notebook->livelossplot==0.3.4) (4.8.0)\n",
            "Requirement already satisfied: decorator in /usr/local/lib/python3.7/dist-packages (from ipython>=4.0.0->ipykernel->notebook->livelossplot==0.3.4) (4.4.2)\n",
            "Requirement already satisfied: wcwidth in /usr/local/lib/python3.7/dist-packages (from prompt-toolkit<2.0.0,>=1.0.4->ipython>=4.0.0->ipykernel->notebook->livelossplot==0.3.4) (0.2.5)\n",
            "Requirement already satisfied: MarkupSafe>=0.23 in /usr/local/lib/python3.7/dist-packages (from jinja2->notebook->livelossplot==0.3.4) (2.0.1)\n",
            "Requirement already satisfied: testpath in /usr/local/lib/python3.7/dist-packages (from nbconvert->notebook->livelossplot==0.3.4) (0.5.0)\n",
            "Requirement already satisfied: entrypoints>=0.2.2 in /usr/local/lib/python3.7/dist-packages (from nbconvert->notebook->livelossplot==0.3.4) (0.3)\n",
            "Requirement already satisfied: pandocfilters>=1.4.1 in /usr/local/lib/python3.7/dist-packages (from nbconvert->notebook->livelossplot==0.3.4) (1.5.0)\n",
            "Requirement already satisfied: bleach in /usr/local/lib/python3.7/dist-packages (from nbconvert->notebook->livelossplot==0.3.4) (4.1.0)\n",
            "Requirement already satisfied: mistune<2,>=0.8.1 in /usr/local/lib/python3.7/dist-packages (from nbconvert->notebook->livelossplot==0.3.4) (0.8.4)\n",
            "Requirement already satisfied: defusedxml in /usr/local/lib/python3.7/dist-packages (from nbconvert->notebook->livelossplot==0.3.4) (0.7.1)\n",
            "Requirement already satisfied: jsonschema!=2.5.0,>=2.4 in /usr/local/lib/python3.7/dist-packages (from nbformat->notebook->livelossplot==0.3.4) (2.6.0)\n",
            "Requirement already satisfied: packaging in /usr/local/lib/python3.7/dist-packages (from bleach->nbconvert->notebook->livelossplot==0.3.4) (21.0)\n",
            "Requirement already satisfied: webencodings in /usr/local/lib/python3.7/dist-packages (from bleach->nbconvert->notebook->livelossplot==0.3.4) (0.5.1)\n",
            "Installing collected packages: livelossplot\n",
            "Successfully installed livelossplot-0.3.4\n"
          ]
        }
      ]
    },
    {
      "cell_type": "markdown",
      "metadata": {
        "id": "6q4EfBmmox5J"
      },
      "source": [
        "#### Exploring the downloaded data\n",
        "\n",
        "First, let us create a dictionary, we will use 100 characters and some special symbols including $\\n$, which will allow our generator to decide when to move to a new line."
      ]
    },
    {
      "cell_type": "code",
      "metadata": {
        "id": "yp6UPpBRpCt1",
        "colab": {
          "base_uri": "https://localhost:8080/"
        },
        "outputId": "b3929390-dd6a-40e7-da5b-ef3780024178"
      },
      "source": [
        "import torch\n",
        "import string\n",
        "import numpy as np\n",
        "import pandas as pd\n",
        "import torch.nn as nn\n",
        "import torch.utils.data as data\n",
        "\n",
        "\n",
        "all_characters = string.printable\n",
        "number_of_characters = len(all_characters)\n",
        "\n",
        "print(all_characters)\n",
        "#print(number_of_characters)"
      ],
      "execution_count": null,
      "outputs": [
        {
          "output_type": "stream",
          "name": "stdout",
          "text": [
            "0123456789abcdefghijklmnopqrstuvwxyzABCDEFGHIJKLMNOPQRSTUVWXYZ!\"#$%&'()*+,-./:;<=>?@[\\]^_`{|}~ \t\n",
            "\r\u000b\f\n"
          ]
        }
      ]
    },
    {
      "cell_type": "markdown",
      "metadata": {
        "id": "g8mlo_01pHs8"
      },
      "source": [
        "Below we will define some helper functions that will help us to convert a character to corresponding\n",
        "labels that we will use for actual training. Read the implementations and figure out what each function does. \n",
        "\n",
        "__Question:__ Why would a `pad_sequence` function be required? _(2 points)_"
      ]
    },
    {
      "cell_type": "code",
      "metadata": {
        "id": "JFnPzBRtpMYM"
      },
      "source": [
        "def character_to_label(character):\n",
        "    character_label = all_characters.find(character)\n",
        "    #find(sub(,start,end))\n",
        "    #Returns the lowest index of the substring if it is found in a given string. If it’s not found then it returns -1.\n",
        "    return character_label\n",
        "\n",
        "def string_to_labels(character_string):    \n",
        "    return list(map(lambda character: character_to_label(character), character_string))\n",
        "    #returns the list of every character's label.\n",
        "\n",
        "def pad_sequence(seq, max_length, pad_label=100):\n",
        "    seq += [pad_label for i in range(max_length - len(seq))]\n",
        "    #返回长度为maxlength的序列 （在seq的基础上填充padlabel）\n",
        "    #如输入[1,2,3,4],10 输出为[1,2,3,4,100,100,100,100,100,100]\n",
        "    return seq"
      ],
      "execution_count": null,
      "outputs": []
    },
    {
      "cell_type": "markdown",
      "metadata": {
        "id": "3bTpXYNKpmwR"
      },
      "source": [
        "__Answer:__ Inputs of our model is a tensor, so it can only accept sequence inputs of the same length. So if the current sequence is of variable length, then pad_sequences() is used. This function converts the sequence into a new sequence of the same length after padding."
      ]
    },
    {
      "cell_type": "markdown",
      "metadata": {
        "id": "zJx5FZsvp9lj"
      },
      "source": [
        "Now we will define a dataset class that will take care of loading data from the dataset. Complete the `__getitem__` function below. Specifically, your job is to obtain padded input-output pairs of sequences from the data. _(3 points)_"
      ]
    },
    {
      "cell_type": "code",
      "metadata": {
        "id": "jxryOy3AqPDL"
      },
      "source": [
        "# The class works in two modes: train and validation, which we will\n",
        "# use during training. It also pads sequences to be of the same length.\n",
        "\n",
        "class LyricsGenerationDataset(data.Dataset):\n",
        "    \n",
        "    def __init__(self, csv_file_path,\n",
        "                 minimum_song_count=None,\n",
        "                 artists=None,\n",
        "                 train=True):\n",
        "        \n",
        "        self.lyrics_dataframe = pd.read_csv(csv_file_path)\n",
        "        \n",
        "        if artists:    \n",
        "            self.lyrics_dataframe = self.lyrics_dataframe[self.lyrics_dataframe.artist.isin(artists)]\n",
        "            self.lyrics_dataframe = self.lyrics_dataframe.reset_index()\n",
        "        \n",
        "        if minimum_song_count:\n",
        "            self.lyrics_dataframe = self.lyrics_dataframe.groupby('artist').filter(lambda x: len(x) > minimum_song_count)\n",
        "            self.lyrics_dataframe = self.lyrics_dataframe.reset_index()\n",
        "        \n",
        "        # Get the length of the biggest lyric text\n",
        "        # We will need that for padding\n",
        "        self.max_text_len = self.lyrics_dataframe.text.str.len().max()\n",
        "        whole_dataset_len = len(self.lyrics_dataframe)\n",
        "        self.indexes = range(whole_dataset_len)\n",
        "        \n",
        "        # We will use the first 500 samples for validation set\n",
        "        if train:\n",
        "          self.indexes = self.indexes[500:]\n",
        "        else:\n",
        "          self.indexes = self.indexes[:500]\n",
        "        \n",
        "        self.artists_list = list(self.lyrics_dataframe.artist.unique())\n",
        "        self.number_of_artists = len(self.artists_list)\n",
        "    \n",
        "    def __len__(self):    \n",
        "        return len(self.indexes)\n",
        "    \n",
        "    def __getitem__(self, index):    \n",
        "        \n",
        "        index = self.indexes[index]\n",
        "        sequence_raw_string = self.lyrics_dataframe.loc[index].text\n",
        "        sequence_string_labels = string_to_labels(sequence_raw_string)\n",
        "        sequence_length = len(sequence_string_labels) - 1\n",
        "\n",
        "        # Generate input and output sequence (shifted by 1 character)\n",
        "        # from the sequence_string_labels\n",
        "        # YOUR CODE\n",
        "\n",
        "        input_sequence = sequence_string_labels[:-1]\n",
        "        output_sequence = sequence_string_labels[1:]\n",
        "\n",
        "        # Pad sequences so that all of them have the same length. For\n",
        "        # the output sequence, use pad_label=-100 so that it is omitted\n",
        "        # in cross-entropy loss. \n",
        "        # YOUR CODE   \n",
        "        \n",
        "        input_string_labels_padded = pad_sequence(input_sequence,self.max_text_len) \n",
        "        output_string_labels_padded = pad_sequence(output_sequence,self.max_text_len,pad_label=-100)\n",
        "\n",
        "        return (torch.LongTensor(input_string_labels_padded),\n",
        "                torch.LongTensor(output_string_labels_padded),\n",
        "                torch.LongTensor([sequence_length]) )\n",
        "\n",
        "# Here are the artists\n",
        "artists = [\n",
        "'ABBA',\n",
        "'Ace Of Base',\n",
        "'Backstreet Boys',\n",
        "'Bob Marley',\n",
        "'Bon Jovi',\n",
        "'Britney Spears',\n",
        "'Bruno Mars',\n",
        "'Coldplay',\n",
        "'Ed Sheeran',\n",
        "'Elton John',\n",
        "'Elvis Presley',\n",
        "'Eminem',\n",
        "'Evanescence',\n",
        "'Fall Out Boy',\n",
        "'Foo Fighters',\n",
        "'Green Day',\n",
        "'HIM',\n",
        "'Imagine Dragons',\n",
        "'Justin Bieber',\n",
        "'Justin Timberlake',\n",
        "'Katy Perry',\n",
        "'Lady Gaga',\n",
        "'Lana Del Rey',\n",
        "'Linkin Park',\n",
        "'Madonna',\n",
        "'Marilyn Manson',\n",
        "'Maroon 5',\n",
        "'Metallica',\n",
        "'Michael Jackson',\n",
        "'Nickelback',\n",
        "'Oasis',\n",
        "'One Direction',\n",
        "'P!nk',\n",
        "'Queen',\n",
        "'Red Hot Chili Peppers',\n",
        "'Rihanna',\n",
        "'Robbie Williams',\n",
        "'Sting',\n",
        "'The Script',\n",
        "'Weezer',\n",
        "'Yellowcard']\n",
        "\n",
        "trainset = LyricsGenerationDataset(csv_file_path='songdata.csv', artists=artists)\n",
        "valset = LyricsGenerationDataset(csv_file_path='songdata.csv', artists=artists, train=False)"
      ],
      "execution_count": null,
      "outputs": []
    },
    {
      "cell_type": "code",
      "metadata": {
        "id": "YQQ5wQjasaf9",
        "colab": {
          "base_uri": "https://localhost:8080/",
          "height": 417
        },
        "outputId": "66e4aed2-6170-4eb3-a333-754dee174b20"
      },
      "source": [
        "# Let us inspect the dataset quickly\n",
        "trainset.lyrics_dataframe"
      ],
      "execution_count": null,
      "outputs": [
        {
          "output_type": "execute_result",
          "data": {
            "text/html": [
              "<div>\n",
              "<style scoped>\n",
              "    .dataframe tbody tr th:only-of-type {\n",
              "        vertical-align: middle;\n",
              "    }\n",
              "\n",
              "    .dataframe tbody tr th {\n",
              "        vertical-align: top;\n",
              "    }\n",
              "\n",
              "    .dataframe thead th {\n",
              "        text-align: right;\n",
              "    }\n",
              "</style>\n",
              "<table border=\"1\" class=\"dataframe\">\n",
              "  <thead>\n",
              "    <tr style=\"text-align: right;\">\n",
              "      <th></th>\n",
              "      <th>index</th>\n",
              "      <th>artist</th>\n",
              "      <th>song</th>\n",
              "      <th>link</th>\n",
              "      <th>text</th>\n",
              "    </tr>\n",
              "  </thead>\n",
              "  <tbody>\n",
              "    <tr>\n",
              "      <th>0</th>\n",
              "      <td>0</td>\n",
              "      <td>ABBA</td>\n",
              "      <td>Ahe's My Kind Of Girl</td>\n",
              "      <td>/a/abba/ahes+my+kind+of+girl_20598417.html</td>\n",
              "      <td>Look at her face, it's a wonderful face  \\nAnd...</td>\n",
              "    </tr>\n",
              "    <tr>\n",
              "      <th>1</th>\n",
              "      <td>1</td>\n",
              "      <td>ABBA</td>\n",
              "      <td>Andante, Andante</td>\n",
              "      <td>/a/abba/andante+andante_20002708.html</td>\n",
              "      <td>Take it easy with me, please  \\nTouch me gentl...</td>\n",
              "    </tr>\n",
              "    <tr>\n",
              "      <th>2</th>\n",
              "      <td>2</td>\n",
              "      <td>ABBA</td>\n",
              "      <td>As Good As New</td>\n",
              "      <td>/a/abba/as+good+as+new_20003033.html</td>\n",
              "      <td>I'll never know why I had to go  \\nWhy I had t...</td>\n",
              "    </tr>\n",
              "    <tr>\n",
              "      <th>3</th>\n",
              "      <td>3</td>\n",
              "      <td>ABBA</td>\n",
              "      <td>Bang</td>\n",
              "      <td>/a/abba/bang_20598415.html</td>\n",
              "      <td>Making somebody happy is a question of give an...</td>\n",
              "    </tr>\n",
              "    <tr>\n",
              "      <th>4</th>\n",
              "      <td>4</td>\n",
              "      <td>ABBA</td>\n",
              "      <td>Bang-A-Boomerang</td>\n",
              "      <td>/a/abba/bang+a+boomerang_20002668.html</td>\n",
              "      <td>Making somebody happy is a question of give an...</td>\n",
              "    </tr>\n",
              "    <tr>\n",
              "      <th>...</th>\n",
              "      <td>...</td>\n",
              "      <td>...</td>\n",
              "      <td>...</td>\n",
              "      <td>...</td>\n",
              "      <td>...</td>\n",
              "    </tr>\n",
              "    <tr>\n",
              "      <th>4793</th>\n",
              "      <td>57175</td>\n",
              "      <td>Yellowcard</td>\n",
              "      <td>The Finish Line</td>\n",
              "      <td>/y/yellowcard/the+finish+line_10195563.html</td>\n",
              "      <td>Hello friend, it's been too long and every tow...</td>\n",
              "    </tr>\n",
              "    <tr>\n",
              "      <th>4794</th>\n",
              "      <td>57176</td>\n",
              "      <td>Yellowcard</td>\n",
              "      <td>Twenty Three</td>\n",
              "      <td>/y/yellowcard/twenty+three_10195543.html</td>\n",
              "      <td>I got to tell you that he waited all his life ...</td>\n",
              "    </tr>\n",
              "    <tr>\n",
              "      <th>4795</th>\n",
              "      <td>57177</td>\n",
              "      <td>Yellowcard</td>\n",
              "      <td>Waiting Game</td>\n",
              "      <td>/y/yellowcard/waiting+game_20423993.html</td>\n",
              "      <td>You and me  \\nA little different  \\nThough we ...</td>\n",
              "    </tr>\n",
              "    <tr>\n",
              "      <th>4796</th>\n",
              "      <td>57178</td>\n",
              "      <td>Yellowcard</td>\n",
              "      <td>Way Away</td>\n",
              "      <td>/y/yellowcard/way+away_10195536.html</td>\n",
              "      <td>I think I'm breaking out  \\nI'm gonna leave yo...</td>\n",
              "    </tr>\n",
              "    <tr>\n",
              "      <th>4797</th>\n",
              "      <td>57179</td>\n",
              "      <td>Yellowcard</td>\n",
              "      <td>Words, Hands, Hearts</td>\n",
              "      <td>/y/yellowcard/words+hands+hearts_20424033.html</td>\n",
              "      <td>The whole world was sleeping  \\nAnd I was ther...</td>\n",
              "    </tr>\n",
              "  </tbody>\n",
              "</table>\n",
              "<p>4798 rows × 5 columns</p>\n",
              "</div>"
            ],
            "text/plain": [
              "      index  ...                                               text\n",
              "0         0  ...  Look at her face, it's a wonderful face  \\nAnd...\n",
              "1         1  ...  Take it easy with me, please  \\nTouch me gentl...\n",
              "2         2  ...  I'll never know why I had to go  \\nWhy I had t...\n",
              "3         3  ...  Making somebody happy is a question of give an...\n",
              "4         4  ...  Making somebody happy is a question of give an...\n",
              "...     ...  ...                                                ...\n",
              "4793  57175  ...  Hello friend, it's been too long and every tow...\n",
              "4794  57176  ...  I got to tell you that he waited all his life ...\n",
              "4795  57177  ...  You and me  \\nA little different  \\nThough we ...\n",
              "4796  57178  ...  I think I'm breaking out  \\nI'm gonna leave yo...\n",
              "4797  57179  ...  The whole world was sleeping  \\nAnd I was ther...\n",
              "\n",
              "[4798 rows x 5 columns]"
            ]
          },
          "metadata": {},
          "execution_count": 5
        }
      ]
    },
    {
      "cell_type": "code",
      "metadata": {
        "id": "8CVjAz47sqLJ",
        "colab": {
          "base_uri": "https://localhost:8080/"
        },
        "outputId": "7f18fb6c-fabc-4291-cb8f-2fbdd65c2cc9"
      },
      "source": [
        "print (len(trainset))\n",
        "print (len(valset))"
      ],
      "execution_count": null,
      "outputs": [
        {
          "output_type": "stream",
          "name": "stdout",
          "text": [
            "4298\n",
            "500\n"
          ]
        }
      ]
    },
    {
      "cell_type": "markdown",
      "metadata": {
        "id": "4krJ8S-jsub7"
      },
      "source": [
        "#### Implementing an RNN class\n",
        "\n",
        "First, we will implement a __vanilla RNN__ using PyTorch. Fill in the code block below to complete the implementation. _(10 points)_"
      ]
    },
    {
      "cell_type": "code",
      "metadata": {
        "id": "f3oH_06ms5sF"
      },
      "source": [
        "class VanillaRNN(nn.Module):\n",
        "    \n",
        "    def __init__(self,\n",
        "                 input_size=101,\n",
        "                 hidden_size=512,\n",
        "                 num_classes=100,\n",
        "                 n_layers=2): #两层rnn网络\n",
        "        \n",
        "        # input_size = 101 -- 100 characters + background character\n",
        "        # num_classes = 100 -- we predict what character goes next\n",
        "        \n",
        "        super(VanillaRNN, self).__init__()\n",
        "        \n",
        "        self.input_size = input_size\n",
        "        self.hidden_size = hidden_size\n",
        "        self.num_classes = num_classes\n",
        "        self.n_layers = n_layers\n",
        "        \n",
        "        # input_size -- size of the dictionary + 1 (accounts for padding constant)\n",
        "        \n",
        "        # Below use nn.Embedding to map from input_size to hidden_size\n",
        "        # nn.Embedding converts labels into one-hot encoding and runs a linear\n",
        "        # layer on each of the converted one-hot encoded elements\n",
        "        # YOUR CODE\n",
        "        \n",
        "        self.embedder = nn.Embedding(self.input_size,self.hidden_size,100)\n",
        "\n",
        "        # Below use nn.RNN that accepts hidden_size as input size,\n",
        "        # and has hidden size equal to hidden_size argument and\n",
        "        # n_layers\n",
        "        # YOUR CODE\n",
        "\n",
        "        self.rnn = nn.RNN(self.hidden_size,self.hidden_size,self.n_layers)\n",
        "\n",
        "        # Below use nn.Linear to make representation of hidden_size\n",
        "        # to the number of classes that will be fed to softmax\n",
        "        # to decide which character goes next\n",
        "        # YOUR CODE\n",
        "\n",
        "        self.logits_fc = nn.Linear(self.hidden_size,self.num_classes)\n",
        "\n",
        "    \n",
        "    def forward(self,\n",
        "                input_sequences,\n",
        "                input_sequences_lengths,\n",
        "                hidden=None):\n",
        "        \n",
        "        batch_size = input_sequences.shape[1]\n",
        "\n",
        "        embedded = self.embedder(input_sequences)\n",
        "        \n",
        "        # This is needed for efficient processing of sequences of\n",
        "        # variable lengths. Feel free to skip\n",
        "        # Here we run rnns only on non-padded regions of the batch\n",
        "        packed = torch.nn.utils.rnn.pack_padded_sequence(embedded, input_sequences_lengths)\n",
        "        \n",
        "        outputs, hidden = self.rnn(packed, hidden)\n",
        "        outputs, output_lengths = torch.nn.utils.rnn.pad_packed_sequence(outputs) # unpack (back to padded)\n",
        "        \n",
        "        \n",
        "        logits = self.logits_fc(outputs)\n",
        "        # This is needed for cross entropy loss\n",
        "        logits = logits.transpose(0, 1).contiguous()\n",
        "        logits_flatten = logits.view(-1, self.num_classes)\n",
        "        \n",
        "        return logits_flatten, hidden\n",
        "\n",
        "\n",
        "# Helper function for efficient processing of sequences of variable lengths\n",
        "# (You may skip this part)\n",
        "def post_process_sequence_batch(batch_tuple):\n",
        "  \n",
        "  input_sequences, output_sequences, lengths = batch_tuple\n",
        "\n",
        "  splitted_input_sequence_batch = input_sequences.split(split_size=1)\n",
        "  splitted_output_sequence_batch = output_sequences.split(split_size=1)\n",
        "  splitted_lengths_batch = lengths.split(split_size=1)\n",
        "\n",
        "  training_data_tuples = zip(splitted_input_sequence_batch,\n",
        "                             splitted_output_sequence_batch,\n",
        "                             splitted_lengths_batch)\n",
        "\n",
        "  training_data_tuples_sorted = sorted(training_data_tuples,\n",
        "                                       key=lambda p: int(p[2]),\n",
        "                                       reverse=True)\n",
        "\n",
        "  splitted_input_sequence_batch, splitted_output_sequence_batch, splitted_lengths_batch = zip(*training_data_tuples_sorted)\n",
        "\n",
        "  input_sequence_batch_sorted = torch.cat(splitted_input_sequence_batch)\n",
        "  output_sequence_batch_sorted = torch.cat(splitted_output_sequence_batch)\n",
        "  lengths_batch_sorted = torch.cat(splitted_lengths_batch)\n",
        "\n",
        "  input_sequence_batch_sorted = input_sequence_batch_sorted[:, :lengths_batch_sorted[0, 0]]\n",
        "  output_sequence_batch_sorted = output_sequence_batch_sorted[:, :lengths_batch_sorted[0, 0]]\n",
        "\n",
        "  input_sequence_batch_transposed = input_sequence_batch_sorted.transpose(0, 1)\n",
        "\n",
        "  # pytorch's api for rnns wants lenghts to be list of ints\n",
        "  lengths_batch_sorted_list = list(lengths_batch_sorted)\n",
        "  lengths_batch_sorted_list = list(map(lambda x: int(x), lengths_batch_sorted_list))\n",
        "\n",
        "\n",
        "  return input_sequence_batch_transposed, output_sequence_batch_sorted, lengths_batch_sorted_list"
      ],
      "execution_count": null,
      "outputs": []
    },
    {
      "cell_type": "markdown",
      "metadata": {
        "id": "1K_LSKqK6Eog"
      },
      "source": [
        "#### Training the vanilla RNN\n",
        "\n",
        "__Note:__ \n",
        "1. You may need to change your Runtime setting to GPU in order to run the following code blocks.\n",
        "2. On changing the Runtime setting, you would be required to run the previous code-blocks again."
      ]
    },
    {
      "cell_type": "code",
      "metadata": {
        "id": "_BSZbQ065lrc"
      },
      "source": [
        "trainset_loader = torch.utils.data.DataLoader(trainset,\n",
        "                                              batch_size=50,\n",
        "                                              shuffle=True,\n",
        "                                              num_workers=4,\n",
        "                                              drop_last=True)\n",
        "\n",
        "\n",
        "valset_loader = torch.utils.data.DataLoader(valset,\n",
        "                                            batch_size=50,\n",
        "                                            shuffle=True,\n",
        "                                            num_workers=1,\n",
        "                                            drop_last=True)\n",
        "\n",
        "\n",
        "rnn = VanillaRNN(input_size=len(all_characters) + 1, hidden_size=512, num_classes=len(all_characters))\n",
        "rnn.cuda()\n",
        "\n",
        "learning_rate = 0.001\n",
        "optimizer = torch.optim.Adam(rnn.parameters(), lr=learning_rate)\n",
        "criterion = torch.nn.CrossEntropyLoss().cuda()"
      ],
      "execution_count": null,
      "outputs": []
    },
    {
      "cell_type": "code",
      "metadata": {
        "id": "o9Ayee598MLH"
      },
      "source": [
        "from livelossplot import PlotLosses\n",
        "\n",
        "liveloss = PlotLosses()\n",
        "\n",
        "# We will get back to this function later on,\n",
        "# Just ignore it so far -- we will use it to generate\n",
        "# samples during our training\n",
        "def sample_from_rnn(starting_string=\"I\", sample_length=300, temperature=0.5):\n",
        "    assert temperature >= 0.0\n",
        "    sampled_string = starting_string\n",
        "    hidden = None\n",
        "\n",
        "    first_input = torch.LongTensor( string_to_labels(starting_string) ).cuda()\n",
        "    first_input = first_input.unsqueeze(1)\n",
        "    current_input = first_input\n",
        "\n",
        "    output, hidden = rnn(current_input, [len(sampled_string)], hidden=hidden)\n",
        "    output = output[-1, :].unsqueeze(0)\n",
        "\n",
        "    for i in range(sample_length):\n",
        "        output_dist = nn.functional.softmax( output.view(-1).div(temperature + 1e-4) ).data\n",
        "        predicted_label = torch.multinomial(output_dist, 1)\n",
        "        sampled_string += all_characters[int(predicted_label[0])]\n",
        "        current_input = predicted_label.unsqueeze(1)\n",
        "        output, hidden = rnn(current_input, [1], hidden=hidden)\n",
        "    \n",
        "    return sampled_string"
      ],
      "execution_count": null,
      "outputs": []
    },
    {
      "cell_type": "code",
      "metadata": {
        "id": "sDUy9ne58YKL",
        "colab": {
          "base_uri": "https://localhost:8080/",
          "height": 746
        },
        "outputId": "6ff7a759-325e-479f-e384-ef8cd9dd854a"
      },
      "source": [
        "# We now run the actual training\n",
        "epochs_number = 8\n",
        "\n",
        "\n",
        "for epoch_number in range(epochs_number):\n",
        "\n",
        "    for batch in trainset_loader:\n",
        "        post_processed_batch_tuple = post_process_sequence_batch(batch)\n",
        "        input_sequences_batch, output_sequences_batch, sequences_lengths = post_processed_batch_tuple\n",
        "        output_sequences_batch_var =  output_sequences_batch.contiguous().view(-1).cuda()\n",
        "        input_sequences_batch_var = input_sequences_batch.cuda()\n",
        "        \n",
        "        optimizer.zero_grad()\n",
        "        logits, _ = rnn(input_sequences_batch_var, sequences_lengths)\n",
        "        \n",
        "        train_loss = criterion(logits, output_sequences_batch_var)\n",
        "        train_loss.backward()\n",
        "        \n",
        "        optimizer.step()\n",
        "    \n",
        "    val_loss_list = []\n",
        "    \n",
        "    with torch.no_grad():\n",
        "      \n",
        "      for batch in valset_loader:\n",
        "\n",
        "        post_processed_batch_tuple = post_process_sequence_batch(batch)\n",
        "        input_sequences_batch, output_sequences_batch, sequences_lengths = post_processed_batch_tuple\n",
        "        output_sequences_batch_var =  output_sequences_batch.contiguous().view(-1).cuda()\n",
        "        input_sequences_batch_var = input_sequences_batch.cuda()\n",
        "        \n",
        "        logits, _ = rnn(input_sequences_batch_var, sequences_lengths)\n",
        "        loss = criterion(logits, output_sequences_batch_var)\n",
        "        \n",
        "        val_loss_list.append(loss.item())\n",
        "      \n",
        "    liveloss.update({'Validation loss': sum(val_loss_list) / len(val_loss_list),\n",
        "                     'Training loss': train_loss.item()})\n",
        "    liveloss.draw()\n",
        "    \n",
        "    print('Example of a text generated by current model:')\n",
        "    print(sample_from_rnn(starting_string='I', temperature=0.5))"
      ],
      "execution_count": null,
      "outputs": [
        {
          "output_type": "display_data",
          "data": {
            "image/png": "[encoded data removed]",
            "text/plain": [
              "<Figure size 864x576 with 2 Axes>"
            ]
          },
          "metadata": {
            "needs_background": "light"
          }
        },
        {
          "output_type": "stream",
          "name": "stdout",
          "text": [
            "Validation loss:\n",
            "training   (min:    1.246, max:    1.636, cur:    1.246)\n",
            "\n",
            "Training loss:\n",
            "training   (min:    1.235, max:    1.653, cur:    1.256)\n",
            "Example of a text generated by current model:\n",
            "I said you don't know  \n",
            "Baby don't you go  \n",
            "  \n",
            "Oh the coldier  \n",
            "The way you said to be  \n",
            "I won't let it love is to me  \n",
            "  \n",
            "I got me so feeling  \n",
            "  \n",
            "I will be mine  \n",
            "And I would be an end  \n",
            "The rain  \n",
            "I'm so sorry  \n",
            "  \n",
            "I'm looking for you  \n",
            "  \n",
            "Don't wanna live it all to the truth  \n",
            "  \n",
            "So tell me that \n"
          ]
        }
      ]
    },
    {
      "cell_type": "markdown",
      "metadata": {
        "id": "klRB_YxJbtTd"
      },
      "source": [
        "#### Text Generation\n",
        "\n",
        "During the text generation process we can define a starting prefix of characters that our model will condition on and generate the rest of the sequence. \n",
        "\n",
        "The model generates each new token (characters in our case) by sampling from the output probability distribution. When sampling, we can set a `temperature` parameter that controls the randomness of the sampling process. When this parameter approaches zero, the sampling is equivalent to argmax and when it is close to infinity the sampling is equivalent to sampling from a uniform distribution.\n",
        "\n",
        "Complete the following `sample_from_rnn` function, using the hints provided in the comments. _(10 points)_"
      ]
    },
    {
      "cell_type": "code",
      "metadata": {
        "id": "ii0czcn2b71A"
      },
      "source": [
        "def sample_from_rnn(starting_string=\"Why\", sample_length=300, temperature=1):\n",
        "    assert temperature >= 0.0\n",
        "    sampled_string = starting_string\n",
        "    hidden = None\n",
        "\n",
        "    # Prepare the first input to the RNN\n",
        "    first_input = torch.LongTensor( string_to_labels(starting_string) ).cuda()\n",
        "    first_input = first_input.unsqueeze(1)\n",
        "    current_input = first_input\n",
        "\n",
        "    # Now run the RNN model using current_input as first input. \n",
        "    # Note: You may need to look at the Pytorch RNN documentation to\n",
        "    # understand what it outputs. Hint: It outputs a tuple. \n",
        "    \n",
        "    # YOUR CODE HERE\n",
        "    output, hidden = rnn(current_input, [len(sampled_string)], hidden=hidden)\n",
        "    output = output[-1, :].unsqueeze(0)\n",
        "\n",
        "    # The output of the RNN for each time-step are actually logits \n",
        "    # (to be fed into a softmax to get a distribution). To further\n",
        "    # add randomness to the logits, we will use the temperature parameter.\n",
        "    # Scale the logits (output of RNN above) by dividing by the temperature\n",
        "    # (+ 1e-4 so that it is not zero), and then obtain a distribution by\n",
        "    # feeding this into nn.functional.softmax. Then use torch.multinomial\n",
        "    # to sample 1 character from this distribution.\n",
        "    \n",
        "    for i in range(sample_length):\n",
        "\n",
        "        output_dist = nn.functional.softmax( output.view(-1).div(temperature + 1e-4) ).data\n",
        "        predicted_label = torch.multinomial(output_dist, 1) #you code here\n",
        "        sampled_string += all_characters[int(predicted_label[0])] #you code here\n",
        "        current_input = predicted_label.unsqueeze(1)\n",
        "        output, hidden = rnn(current_input, [1], hidden=hidden)\n",
        "    \n",
        "    return sampled_string"
      ],
      "execution_count": null,
      "outputs": []
    },
    {
      "cell_type": "code",
      "metadata": {
        "id": "ZZFZq9fscOCH",
        "colab": {
          "base_uri": "https://localhost:8080/"
        },
        "outputId": "88631f65-16bf-46c1-acb1-ea2a0452439a"
      },
      "source": [
        "print(sample_from_rnn(starting_string='I', temperature=0.5))"
      ],
      "execution_count": null,
      "outputs": [
        {
          "output_type": "stream",
          "name": "stderr",
          "text": [
            "/usr/local/lib/python3.7/dist-packages/ipykernel_launcher.py:29: UserWarning: Implicit dimension choice for softmax has been deprecated. Change the call to include dim=X as an argument.\n"
          ]
        },
        {
          "output_type": "stream",
          "name": "stdout",
          "text": [
            "I, I'm alright  \n",
            "I wanna be will never let me play off the story  \n",
            "And we wanna live to help me  \n",
            "Cause I can't take you the sky  \n",
            "This is the same man  \n",
            "  \n",
            "I'm the song  \n",
            "  \n",
            "I'm so say  \n",
            "It's wearing my love is a sinner  \n",
            "And we touch me and some real to be so good  \n",
            "When he said to be  \n",
            "But sometim\n"
          ]
        }
      ]
    },
    {
      "cell_type": "markdown",
      "metadata": {
        "id": "1XKMJfkf5j0R"
      },
      "source": [
        "__Question:__ How do you obtain probability distribution over the possible characters? _(2 points)_\n",
        "\n",
        "__Answer:__ We can obtain the probability distribution by dividing logit by temperature, and then use the softmax function.\n",
        "\n",
        "__Question:__ How does the `temperature` affect the generated text? Describe using some values of temperature. _(3 points)_\n",
        "\n",
        "__Answer:__ Low temperature values(such as 0.2) result in extremely repetitive and predictable text, but with a very realistic local structure. As temperature rises, the generated text becomes richer, and it sometimes invents new words that sound somewhat reasonable. At high temperatures(suach as 2.0), the local structure starts to break down and most words look like semi-random strings.\n",
        "\n",
        "__Question:__ Explain why the sequential nature of recurrent neural networks makes them less efficient compared to methods based on convolutions, for example. _(2 points)_\n",
        "\n",
        "__Answer:__ The sequence-dependent structure of RNN always occurs the problem of vanishing gradient. RNN training applies the same BP algorithm of loss computation backpropagation as CNN training. The difference is that the parameters U, V, and W are shared in RNN, and in the stochastic gradient descent algorithm, the output of each step depends not only on the network of the current step, but also on the network of the time step before the current step. In CNN, the parameters W1 , W2, and W3 of each layer are independent of each other, and W1 , W2W3 perform concatenated multiplication. On the one hand, they are all sparse matrices, and on the other hand, W1 , W2 , and W3 are different from each other, which largely cancel out the effect of gradient explosion. So CNN is more efficient than RNN.\n",
        "\n",
        "\n",
        "__Question:__ In the homework exercise we have loaded whole text sequences into the GPU memory. Imagine that we will work with sequences of much greater length, how that will this affect GPU memory consumption? How can you solve this problem? _(3 points)_\n",
        "\n",
        "__Answer:__ The computational complexity of forward propagation of Recurrent neural network is O(|Sequence Length|). The longer the Sequence is, the more computation is required. And each time step in a long Sequence includes a memory I/O operation. This is very slow and is bounded by the maximum threads and maximum memory bandwidth of the GPU.\n",
        "How to solve: 1.truncated backpropagation through time 2.Use CPU memory to cache activation vectors 3. Parallelize RNN models\n"
      ]
    },
    {
      "cell_type": "markdown",
      "metadata": {
        "id": "oTQ8E4Nk0NIs"
      },
      "source": [
        "__Extra credit:__ In the above class, we used a vanilla RNN. Replace the RNN layers with LSTM or GRU and perform training on the same data. Does it converge faster/slower than the RNN? Try sampling from this model with the same starting string and temperature. Do you observe any difference? _(10 points)_\n",
        "\n"
      ]
    },
    {
      "cell_type": "code",
      "metadata": {
        "id": "hZ7QWmW20WOC"
      },
      "source": [
        "# Your code here"
      ],
      "execution_count": null,
      "outputs": []
    },
    {
      "cell_type": "markdown",
      "metadata": {
        "id": "BA4sBKikfbPs"
      },
      "source": [
        "#### Implementing a conditional RNNLM\n",
        "\n",
        "So far our RNN has been trained on lyrics from all the songs without knowledge of artists. Next, we will condition our training by providing the LM with artist information as well.\n",
        "\n",
        "Below we provide updated functions and dataset class that can be used to train language model that is conditioned on the artist. Complete the functions to implement this conditioned LM. _(10 points)_"
      ]
    },
    {
      "cell_type": "code",
      "metadata": {
        "id": "z8jFZRMMgZr7"
      },
      "source": [
        "class LyricsGenerationDatasetConditional(data.Dataset):\n",
        "    \n",
        "    def __init__(self, csv_file_path, minimum_song_count=None, artists=None):\n",
        "        \n",
        "        self.lyrics_dataframe = pd.read_csv(csv_file_path)\n",
        "        \n",
        "        if artists:\n",
        "            self.lyrics_dataframe = self.lyrics_dataframe[self.lyrics_dataframe.artist.isin(artists)]\n",
        "            self.lyrics_dataframe = self.lyrics_dataframe.reset_index()\n",
        "        \n",
        "        if minimum_song_count:\n",
        "            # Getting artists that have 70+ songs\n",
        "            self.lyrics_dataframe = self.lyrics_dataframe.groupby('artist').filter(lambda x: len(x) > minimum_song_count)\n",
        "            # Reindex .loc after we fetched random songs\n",
        "            self.lyrics_dataframe = self.lyrics_dataframe.reset_index()\n",
        "        \n",
        "        # Get the length of the biggest lyric text\n",
        "        # We will need that for padding\n",
        "        self.max_text_len = self.lyrics_dataframe.text.str.len().max()\n",
        "        whole_dataset_len = len(self.lyrics_dataframe)\n",
        "        self.indexes = range(whole_dataset_len)\n",
        "        \n",
        "        # Let's get unique artists and form a list\n",
        "        self.artists_list = list(self.lyrics_dataframe.artist.unique())\n",
        "\n",
        "        # We will need the overall number of artists for \n",
        "        self.number_of_artists = len(self.artists_list)\n",
        "    \n",
        "    def __len__(self):\n",
        "        return len(self.indexes)\n",
        "    \n",
        "    def __getitem__(self, index):\n",
        "        \n",
        "        index = self.indexes[index]\n",
        "        sequence_raw_string = self.lyrics_dataframe.loc[index].text\n",
        "        sequence_string_labels = string_to_labels(sequence_raw_string)\n",
        "        sequence_length = len(sequence_string_labels) - 1\n",
        "        \n",
        "        # Generate input and output sequence (shifted by 1 character)\n",
        "        # from the sequence_string_labels\n",
        "        \n",
        "        # YOUR CODE (SAME AS EARLIER)\n",
        "        input_sequence = sequence_string_labels[:-1]\n",
        "        output_sequence = sequence_string_labels[1:]        \n",
        "\n",
        "        # Pad sequences so that all of them have the same length. For\n",
        "        # the output sequence, use pad_label=-100 so that it is omitted\n",
        "        # in cross-entropy loss. \n",
        "\n",
        "        # YOUR CODE (SAME AS EARLIER)\n",
        "        input_string_labels_padded = pad_sequence(input_sequence,self.max_text_len) \n",
        "        output_string_labels_padded = pad_sequence(output_sequence,self.max_text_len,pad_label=-100)\n",
        "\n",
        "        # For the given index argument, obtain the artist name from self.lyrics_dataframe\n",
        "        # and then get the corresponding index from self.artists_list. Store this\n",
        "        # value as sequence_artist_label\n",
        "        \n",
        "        # YOUR CODE HERE\n",
        "        artist_name = self.lyrics_dataframe.loc[index].artist\n",
        "        sequence_artist_label = self.artists_list.index(artist_name)\n",
        "\n",
        "        return (torch.LongTensor(input_string_labels_padded),\n",
        "                torch.LongTensor(output_string_labels_padded),\n",
        "                torch.LongTensor([sequence_artist_label]),\n",
        "                torch.LongTensor([sequence_length]) )\n",
        "\n",
        "\n",
        "# This function can be skipped\n",
        "def post_process_sequence_batch_conditional(batch_tuple):\n",
        "    \n",
        "    input_sequences, output_sequences, artists, lengths = batch_tuple\n",
        "    \n",
        "    splitted_input_sequence_batch = input_sequences.split(split_size=1)\n",
        "    splitted_output_sequence_batch = output_sequences.split(split_size=1)\n",
        "    splitted_artists_batch = artists.split(split_size=1)\n",
        "    splitted_lengths_batch = lengths.split(split_size=1)\n",
        "\n",
        "    training_data_tuples = zip(splitted_input_sequence_batch,\n",
        "                               splitted_output_sequence_batch,\n",
        "                               splitted_artists_batch,\n",
        "                               splitted_lengths_batch)\n",
        "\n",
        "    training_data_tuples_sorted = sorted(training_data_tuples,\n",
        "                                         key=lambda p: int(p[3]),\n",
        "                                         reverse=True)\n",
        "\n",
        "    splitted_input_sequence_batch, splitted_output_sequence_batch, splitted_artists_batch, splitted_lengths_batch = zip(*training_data_tuples_sorted)\n",
        "\n",
        "    input_sequence_batch_sorted = torch.cat(splitted_input_sequence_batch)\n",
        "    output_sequence_batch_sorted = torch.cat(splitted_output_sequence_batch)\n",
        "    artists_batch_sorted = torch.cat(splitted_artists_batch)\n",
        "    lengths_batch_sorted = torch.cat(splitted_lengths_batch)\n",
        "    \n",
        "    \n",
        "    # Here we trim overall data matrix using the size of the longest sequence\n",
        "    input_sequence_batch_sorted = input_sequence_batch_sorted[:, :lengths_batch_sorted[0, 0]]\n",
        "    output_sequence_batch_sorted = output_sequence_batch_sorted[:, :lengths_batch_sorted[0, 0]]\n",
        "    \n",
        "    # We should probably repeat this over the whole input sequence\n",
        "    artists_batch_sorted = artists_batch_sorted.expand_as(input_sequence_batch_sorted)\n",
        "\n",
        "    input_sequence_batch_transposed = input_sequence_batch_sorted.transpose(0, 1)\n",
        "    artists_batch_sorted_transposed = artists_batch_sorted.transpose(0, 1)\n",
        "    \n",
        "    # pytorch's api for rnns wants lenghts to be list of ints\n",
        "    lengths_batch_sorted_list = list(lengths_batch_sorted)\n",
        "    lengths_batch_sorted_list = list(map(lambda x: int(x), lengths_batch_sorted_list))\n",
        "    \n",
        "    return input_sequence_batch_transposed, output_sequence_batch_sorted, artists_batch_sorted_transposed, lengths_batch_sorted_list\n",
        "\n",
        "\n",
        "class RNN_Conditional(nn.Module):\n",
        "    \n",
        "    def __init__(self, input_size, hidden_size, num_classes, num_conditions, n_layers=2):\n",
        "        \n",
        "        super(RNN_Conditional, self).__init__()\n",
        "        \n",
        "        self.input_size = input_size\n",
        "        self.hidden_size = hidden_size\n",
        "        self.num_classes = num_classes\n",
        "        self.n_layers = n_layers\n",
        "        self.num_conditions = num_conditions\n",
        "        \n",
        "        # Converts labels into one-hot encoding and runs a linear\n",
        "        # layer on each of the converted one-hot encoded elements\n",
        "        \n",
        "        # input_size -- size of the dictionary + 1 (accounts for padding constant)\n",
        "        `\n",
        "        \n",
        "        \n",
        "        `\n",
        "        \n",
        "        self.characters_embedder = nn.Embedding(self.input_size,self.hidden_size,100) # YOUR CODE HERE\n",
        "        self.artist_embedder = nn.Embedding(self.num_conditions,self.hidden_size) # YOUR CODE HERE\n",
        "        self.rnn = nn.RNN(self.hidden_size*2,self.hidden_size,self.n_layers) # YOUR CODE HERE\n",
        "        self.logits_fc = nn.Linear(self.hidden_size,self.num_classes) # YOUR CODE HERE\n",
        "    \n",
        "    \n",
        "    def forward(self, input_sequences, input_sequences_conditions, input_sequences_lengths, hidden=None):\n",
        "        \n",
        "        batch_size = input_sequences.shape[1]\n",
        "\n",
        "        characters_embedded = self.characters_embedder(input_sequences)\n",
        "        conditions_embedded = self.artist_embedder(input_sequences_conditions)\n",
        "        \n",
        "        embedded_combined = torch.cat((characters_embedded, conditions_embedded), dim=2)\n",
        "\n",
        "        # Here we run rnns only on non-padded regions of the batch\n",
        "        packed = torch.nn.utils.rnn.pack_padded_sequence(embedded_combined, input_sequences_lengths)\n",
        "        outputs, hidden = self.rnn(packed, hidden)\n",
        "        outputs, output_lengths = torch.nn.utils.rnn.pad_packed_sequence(outputs) # unpack (back to padded)\n",
        "        \n",
        "        logits = self.logits_fc(outputs)\n",
        "        logits = logits.transpose(0, 1).contiguous()\n",
        "        logits_flatten = logits.view(-1, self.num_classes)\n",
        "        \n",
        "        return logits_flatten, hidden"
      ],
      "execution_count": null,
      "outputs": []
    },
    {
      "cell_type": "markdown",
      "metadata": {
        "id": "cyaSbqCPiM7R"
      },
      "source": [
        "#### Training the conditional LM"
      ]
    },
    {
      "cell_type": "code",
      "metadata": {
        "id": "r5DxocaNiOst"
      },
      "source": [
        "trainset = LyricsGenerationDatasetConditional(csv_file_path='songdata.csv', artists=artists)\n",
        "\n",
        "trainset_loader = torch.utils.data.DataLoader(trainset,\n",
        "                                              batch_size=50,\n",
        "                                              shuffle=True, num_workers=4, drop_last=True)"
      ],
      "execution_count": null,
      "outputs": []
    },
    {
      "cell_type": "code",
      "metadata": {
        "id": "1m6YjkJGiQHD"
      },
      "source": [
        "rnn = RNN_Conditional(input_size=len(all_characters) + 1,\n",
        "          hidden_size=512,\n",
        "          num_classes=len(all_characters),\n",
        "          num_conditions=trainset.number_of_artists)\n",
        "\n",
        "rnn.cuda()\n",
        "\n",
        "learning_rate = 0.001\n",
        "optimizer = torch.optim.Adam(rnn.parameters(), lr=learning_rate)\n",
        "criterion = torch.nn.CrossEntropyLoss().cuda()"
      ],
      "execution_count": null,
      "outputs": []
    },
    {
      "cell_type": "code",
      "metadata": {
        "id": "pXnz-XC1iSRl"
      },
      "source": [
        "from livelossplot import PlotLosses\n",
        "\n",
        "liveloss_train = PlotLosses()\n",
        "liveloss_val = PlotLosses()"
      ],
      "execution_count": null,
      "outputs": []
    },
    {
      "cell_type": "code",
      "metadata": {
        "id": "jWJQZ14hihNa",
        "colab": {
          "base_uri": "https://localhost:8080/",
          "height": 714
        },
        "outputId": "acc18340-be63-4554-8083-d8f60ba2ed87"
      },
      "source": [
        "# Conditional model takes more to converge,\n",
        "# Try training for more epochs for better results\n",
        "epochs_number = 500\n",
        "\n",
        "for epoch_number in range(epochs_number):\n",
        "\n",
        "    for batch in trainset_loader:\n",
        "\n",
        "        post_processed_batch_tuple = post_process_sequence_batch_conditional(batch)\n",
        "        input_sequences_batch, output_sequences_batch, artists_batch, sequences_lengths = post_processed_batch_tuple\n",
        "        output_sequences_batch_var = output_sequences_batch.contiguous().view(-1).cuda()\n",
        "        \n",
        "        input_sequences_batch_var = input_sequences_batch.cuda()\n",
        "        artists_batch_var = artists_batch.cuda()\n",
        "        \n",
        "        optimizer.zero_grad()\n",
        "\n",
        "        logits, _ = rnn(input_sequences_batch_var,  `` artists_batch_var, sequences_lengths)\n",
        "        \n",
        "        loss = criterion(logits, output_sequences_batch_var)\n",
        "        loss.backward()\n",
        "        \n",
        "    liveloss_train.update({'Training loss': loss.item()})\n",
        "    liveloss_train.draw()\n",
        "\n",
        "    #torch.nn.utils.clip_grad_norm(rnn.parameters(), clip)\n",
        "\n",
        "    optimizer.step()\n",
        "        \n",
        "    torch.save(rnn.state_dict(), 'conditional_rnn.pth')"
      ],
      "execution_count": 22,
      "outputs": [
        {
          "output_type": "display_data",
          "data": {
            "image/png": "[encoded data removed]",
            "text/plain": [
              "<Figure size 864x576 with 1 Axes>"
            ]
          },
          "metadata": {
            "needs_background": "light"
          }
        },
        {
          "output_type": "stream",
          "name": "stdout",
          "text": [
            "Training loss:\n",
            "training   (min:    1.254, max:    4.635, cur:    1.312)\n"
          ]
        },
        {
          "output_type": "error",
          "ename": "KeyboardInterrupt",
          "evalue": "ignored",
          "traceback": [
            "\u001b[0;31m---------------------------------------------------------------------------\u001b[0m",
            "\u001b[0;31mKeyboardInterrupt\u001b[0m                         Traceback (most recent call last)",
            "\u001b[0;32m<ipython-input-22-184967d341d4>\u001b[0m in \u001b[0;36m<module>\u001b[0;34m()\u001b[0m\n\u001b[1;32m     19\u001b[0m \u001b[0;34m\u001b[0m\u001b[0m\n\u001b[1;32m     20\u001b[0m         \u001b[0mloss\u001b[0m \u001b[0;34m=\u001b[0m \u001b[0mcriterion\u001b[0m\u001b[0;34m(\u001b[0m\u001b[0mlogits\u001b[0m\u001b[0;34m,\u001b[0m \u001b[0moutput_sequences_batch_var\u001b[0m\u001b[0;34m)\u001b[0m\u001b[0;34m\u001b[0m\u001b[0;34m\u001b[0m\u001b[0m\n\u001b[0;32m---> 21\u001b[0;31m         \u001b[0mloss\u001b[0m\u001b[0;34m.\u001b[0m\u001b[0mbackward\u001b[0m\u001b[0;34m(\u001b[0m\u001b[0;34m)\u001b[0m\u001b[0;34m\u001b[0m\u001b[0;34m\u001b[0m\u001b[0m\n\u001b[0m\u001b[1;32m     22\u001b[0m \u001b[0;34m\u001b[0m\u001b[0m\n\u001b[1;32m     23\u001b[0m     \u001b[0mliveloss_train\u001b[0m\u001b[0;34m.\u001b[0m\u001b[0mupdate\u001b[0m\u001b[0;34m(\u001b[0m\u001b[0;34m{\u001b[0m\u001b[0;34m'Training loss'\u001b[0m\u001b[0;34m:\u001b[0m \u001b[0mloss\u001b[0m\u001b[0;34m.\u001b[0m\u001b[0mitem\u001b[0m\u001b[0;34m(\u001b[0m\u001b[0;34m)\u001b[0m\u001b[0;34m}\u001b[0m\u001b[0;34m)\u001b[0m\u001b[0;34m\u001b[0m\u001b[0;34m\u001b[0m\u001b[0m\n",
            "\u001b[0;32m/usr/local/lib/python3.7/dist-packages/torch/_tensor.py\u001b[0m in \u001b[0;36mbackward\u001b[0;34m(self, gradient, retain_graph, create_graph, inputs)\u001b[0m\n\u001b[1;32m    253\u001b[0m                 \u001b[0mcreate_graph\u001b[0m\u001b[0;34m=\u001b[0m\u001b[0mcreate_graph\u001b[0m\u001b[0;34m,\u001b[0m\u001b[0;34m\u001b[0m\u001b[0;34m\u001b[0m\u001b[0m\n\u001b[1;32m    254\u001b[0m                 inputs=inputs)\n\u001b[0;32m--> 255\u001b[0;31m         \u001b[0mtorch\u001b[0m\u001b[0;34m.\u001b[0m\u001b[0mautograd\u001b[0m\u001b[0;34m.\u001b[0m\u001b[0mbackward\u001b[0m\u001b[0;34m(\u001b[0m\u001b[0mself\u001b[0m\u001b[0;34m,\u001b[0m \u001b[0mgradient\u001b[0m\u001b[0;34m,\u001b[0m \u001b[0mretain_graph\u001b[0m\u001b[0;34m,\u001b[0m \u001b[0mcreate_graph\u001b[0m\u001b[0;34m,\u001b[0m \u001b[0minputs\u001b[0m\u001b[0;34m=\u001b[0m\u001b[0minputs\u001b[0m\u001b[0;34m)\u001b[0m\u001b[0;34m\u001b[0m\u001b[0;34m\u001b[0m\u001b[0m\n\u001b[0m\u001b[1;32m    256\u001b[0m \u001b[0;34m\u001b[0m\u001b[0m\n\u001b[1;32m    257\u001b[0m     \u001b[0;32mdef\u001b[0m \u001b[0mregister_hook\u001b[0m\u001b[0;34m(\u001b[0m\u001b[0mself\u001b[0m\u001b[0;34m,\u001b[0m \u001b[0mhook\u001b[0m\u001b[0;34m)\u001b[0m\u001b[0;34m:\u001b[0m\u001b[0;34m\u001b[0m\u001b[0;34m\u001b[0m\u001b[0m\n",
            "\u001b[0;32m/usr/local/lib/python3.7/dist-packages/torch/autograd/__init__.py\u001b[0m in \u001b[0;36mbackward\u001b[0;34m(tensors, grad_tensors, retain_graph, create_graph, grad_variables, inputs)\u001b[0m\n\u001b[1;32m    147\u001b[0m     Variable._execution_engine.run_backward(\n\u001b[1;32m    148\u001b[0m         \u001b[0mtensors\u001b[0m\u001b[0;34m,\u001b[0m \u001b[0mgrad_tensors_\u001b[0m\u001b[0;34m,\u001b[0m \u001b[0mretain_graph\u001b[0m\u001b[0;34m,\u001b[0m \u001b[0mcreate_graph\u001b[0m\u001b[0;34m,\u001b[0m \u001b[0minputs\u001b[0m\u001b[0;34m,\u001b[0m\u001b[0;34m\u001b[0m\u001b[0;34m\u001b[0m\u001b[0m\n\u001b[0;32m--> 149\u001b[0;31m         allow_unreachable=True, accumulate_grad=True)  # allow_unreachable flag\n\u001b[0m\u001b[1;32m    150\u001b[0m \u001b[0;34m\u001b[0m\u001b[0m\n\u001b[1;32m    151\u001b[0m \u001b[0;34m\u001b[0m\u001b[0m\n",
            "\u001b[0;31mKeyboardInterrupt\u001b[0m: "
          ]
        }
      ]
    },
    {
      "cell_type": "markdown",
      "metadata": {
        "id": "X0uSmNpLdBSI"
      },
      "source": [
        "__Note: After 5 hours' exceuting, the colab said \"Busy\" and cannot proceed to more epoches, so I interrupted at this time.__"
      ]
    },
    {
      "cell_type": "markdown",
      "metadata": {
        "id": "aFr9jXf7iqcY"
      },
      "source": [
        "#### Generating from the conditional LM\n",
        "\n",
        "__Question:__ Implement a function `sample_from_rnn_conditionally(artist_label, starting_string, temperature)` similar to the `sample_from_rnn()` function shown earlier. Use this function to generate an Eminem song starting with \"Why\". _(10 points)_"
      ]
    },
    {
      "cell_type": "code",
      "metadata": {
        "id": "VwyGLqBziuop"
      },
      "source": [
        "# YOUR CODE HERE\n",
        "\n",
        "def sample_from_rnn_conditionally(artist_label,starting_string=\"Why\", temperature=1):\n",
        "    assert temperature >= 0.0\n",
        "    sampled_string = starting_string\n",
        "    hidden = None\n",
        "\n",
        "    # Prepare the first input to the RNN\n",
        "    first_input = torch.LongTensor(string_to_labels(starting_string)).cuda()\n",
        "    first_input = first_input.unsqueeze(1)\n",
        "\n",
        "    # Prepare the second input to the RNN\n",
        "    second_input = torch.LongTensor(string_to_labels(artist_label)).cuda()\n",
        "    second_input = first_input.unsqueeze(1)\n",
        "\n",
        "    output, hidden = rnn(first_input, second_input, [len(sampled_string)],hidden = hidden)\n",
        "    output = output[-1, :].unsqueeze(0)\n",
        "    \n",
        "    for i in range(sample_length):\n",
        "\n",
        "        output_dist = nn.functional.softmax( output.view(-1).div(temperature + 1e-4) ).data\n",
        "        predicted_label = torch.multinomial(output_dist, 1) #you code here\n",
        "        sampled_string += all_characters[int(predicted_label[0])] #you code here\n",
        "        current_input = predicted_label.unsqueeze(1)\n",
        "        output, hidden = rnn(current_input, [1], hidden=hidden)\n",
        "    \n",
        "    return sampled_string\n"
      ],
      "execution_count": 25,
      "outputs": []
    },
    {
      "cell_type": "code",
      "metadata": {
        "id": "FGF4idtvsp2F",
        "colab": {
          "base_uri": "https://localhost:8080/"
        },
        "outputId": "f18737a6-43e4-4aeb-fa50-44530ffe4749"
      },
      "source": [
        "sample_from_rnn_conditionally('Eminem','Why',temperature = 0.5 )"
      ],
      "execution_count": null,
      "outputs": [
        {
          "output_type": "stream",
          "name": "stdout",
          "text": [
            "Why do you say I have something but you can see you  \n",
            "I won't let you all we all go  \n",
            "  \n",
            "Cause you're our life with me  \n",
            "  \n",
            "I wanna stand what you know you're gonna rain to be  \n",
            "  \n",
            "I'm a little more  \n",
            "I want to call me to spend it and me  \n",
            "  \n",
            "I'm so slipped to be with you  \n",
            "And say what you can't be th\n"
          ]
        },
        {
          "output_type": "stream",
          "name": "stderr",
          "text": [
            "/usr/local/lib/python3.7/dist-packages/ipykernel_launcher.py:29: UserWarning: Implicit dimension choice for softmax has been deprecated. Change the call to include dim=X as an argument.\n"
          ]
        }
      ]
    },
    {
      "cell_type": "markdown",
      "metadata": {
        "id": "8nnPlCIpjAZf"
      },
      "source": [
        "__Answer:__ lyrics as above."
      ]
    },
    {
      "cell_type": "markdown",
      "metadata": {
        "id": "GZw9_-l8jLCU"
      },
      "source": [
        "### Part 2: Distributional Semantics: The Word2Vec model\n",
        "\n",
        "In Part 2 of this assignment, you will use Word2Vec to analyze some of interesting phenomena that arises from distributional semantics. For this, we will use a pretrained model from the [Gensim](https://radimrehurek.com/gensim/) package.\n",
        "\n",
        "\n",
        "Before we dive into this analysis, first read a little bit of theory about the Word2Vec model and answer a few questions below."
      ]
    },
    {
      "cell_type": "markdown",
      "metadata": {
        "id": "bDaseIPkANWm"
      },
      "source": [
        "#### Understanding word2vec\n",
        "\n",
        "The basic architecture of the skip-gram model is shown below (taken from [this post](https://israelg99.github.io/2017-03-23-Word2Vec-Explained/)):\n",
        "\n",
        "![](https://israelg99.github.io/images/2017-03-23-Word2Vec-Explained/skip_gram_net_arch.png)\n",
        "\n",
        "In this model, word embeddings are trained using a classification task, where the task is that given a word, you have to predict its context words (i.e. words which occur before and after it in a context of size, say, 2). The objective is to learn the probability of any word $O$ given a center word $C$, i.e. $P(O=o \\mid C=c)$.\n",
        "\n",
        "In this model, this probability is computed by taking the vector dot product of the embeddings for $o$ and $c$, and then applying a softmax (to convert it into a probability distribution):\n",
        "\n",
        "$$\n",
        "P(O=o \\mid C=c)=\\frac{\\exp \\left(\\boldsymbol{v}_{o}^{\\top} \\boldsymbol{v}_{c}\\right)}{\\sum_{w \\in \\operatorname{Vocab}} \\exp \\left(\\boldsymbol{v}_{w}^{\\top} \\boldsymbol{v}_{c}\\right)}\n",
        "$$\n",
        "\n",
        "The vectors $\\boldsymbol{v}_{w}$ are initialized randomly for all the words in the vocabulary and then updated during training. The objective, in fact, tries to maximize the above probability of words in context occuring together. Stating it different, it miniimized the negative log-probability, i.e.,\n",
        "\n",
        "$$ J = -\\log P(O=o \\mid C=c). $$\n",
        "\n",
        "Here is another interpretation of this objective function. Suppose ${y}$ and $\\hat{y}$ are vectors of length $|V|$ (size of vocabulary), and the index $k$ in each of these denotes the conditional probability of word $k$ being in the context of given word $c$. $y$ is the empirical distribution (ground truth), i.e., it is a one-hot vector, whereas $\\hat{y}$ is the predicted distribution. In our case, we would have $P(O=o \\mid C=c) = \\hat{y}_o$. Then the loss function $J$ above is equivalent to the binary cross-entropy loss between $y$ and $\\hat{y}$.\n",
        "\n",
        "__Question:__ The cross-entropy loss between 2 distributions is given as $-\\sum_i p_i \\log q_i$. With this information, show that the cross-entropy between $y$ and $\\hat{y}$ is equal to $-\\log \\hat{y}_o$. _(5 points)_"
      ]
    },
    {
      "cell_type": "markdown",
      "metadata": {
        "id": "3n2TDbWcJkTP"
      },
      "source": [
        "__Answer:__ Because the true distribution $y$ is a one-hot vector, i.e., the value is 1 only at the current position of the true contextual word $O$. Therefore:\n",
        "\n",
        "$$-\\sum_{w\\in Vocab} y_w \\log \\hat y_w = - 1 \\times \\log \\hat y_o = - \\log P(O = o | C = c)$$"
      ]
    },
    {
      "cell_type": "markdown",
      "metadata": {
        "id": "Vh6D5LUmJnyk"
      },
      "source": [
        "Note that in the softmax computation, the denominator computes a sum over the entire vocabulary. This is very computationally expensive. In the actual word2vec implementation, we use something called Negative Sampling instead of computing the softmax this way:\n",
        "\n",
        "$$J^{\\prime} = -\\log \\sigma(v_o v_c) - \\sum_{k=1}^K \\log \\sigma(-v_k v_c)$$\n",
        "\n",
        "Here, $v_k$ is the embedding for a word which is not present in the context. Intuitively, this loss function pushes $v_c$ closer to its context word $v_o$ while pulling it away from randomly sampled $K$ non-context (or negative) words, hence the name negative sampling.\n",
        "\n",
        "An important component of the above objective is the sigmoid function $\\sigma(x) = \\frac{e^x}{e^x + 1}$.\n",
        "\n",
        "__Question:__ Compute the derivative of $\\sigma(x)$ w.r.t $x$. Write the derivative in terms of $\\sigma(x)$. (Show the derivation steps.) _(5 points)_ \n"
      ]
    },
    {
      "cell_type": "markdown",
      "metadata": {
        "id": "FBCyjU7LCGZ5"
      },
      "source": [
        "__Answer:__  First, we get the the derivative of sigmoid function $\\sigma(x)$,  which is : $$\\frac{\\partial \\sigma(x)}{\\partial x} = \\frac{e^{-x}}{(1+e^{-x})} = \\sigma (x) (1-\\sigma (x))$$.\n",
        "\n",
        "Then, we compute the derivative of $v_c$ in terms of $\\sigma(x)$:\n",
        "\n",
        "$$\\frac {\\partial J'}{\\partial v_c} = -(1-\\sigma(u_{o}^Tv_c))u_o + \\sum_{k=1}^K(1-\\sigma(-u_{k}^Tv_c))u_k$$\n",
        "\n",
        "the derivative of $u_k$ in terms of $\\sigma(x)$:\n",
        "\n",
        "$$\\frac {\\partial J'}{\\partial u_k} = -(1-\\sigma(u_{o}^Tv_c))v_c$$"
      ]
    },
    {
      "cell_type": "markdown",
      "metadata": {
        "id": "MXAvtTl5COQC"
      },
      "source": [
        "$\\sigma(x)$ has the nice property that its derivative can be represented using it directly. This makes it useful for gradient-based optimization. In the following, we will use the `gensim` implementation of Word2Vec, which means you don't need to implement any of the training yourself, but it is important to understand what goes on under the hood."
      ]
    },
    {
      "cell_type": "markdown",
      "metadata": {
        "id": "8GRWFeCRkcFP"
      },
      "source": [
        "#### Using word2vec\n",
        "\n",
        "In this section, we will use the GenSim implementation of Word2Vec for some exploration. First, let us train a Word2Vec model on our corpus.\n"
      ]
    },
    {
      "cell_type": "code",
      "metadata": {
        "id": "xsEmWXPAhBDL"
      },
      "source": [
        "def load_embedding_model():\n",
        "  \"\"\" Load GloVe Vectors\n",
        "      Return:\n",
        "          wv_from_bin: All 400000 embeddings, each lengh 200\n",
        "  \"\"\"\n",
        "  import gensim.downloader as api\n",
        "  wv_from_bin = api.load(\"glove-wiki-gigaword-200\")\n",
        "  print(\"Loaded vocab size %i\" % len(wv_from_bin.vocab.keys()))\n",
        "  return wv_from_bin"
      ],
      "execution_count": 26,
      "outputs": []
    },
    {
      "cell_type": "code",
      "metadata": {
        "id": "eInUSXOOhIcP",
        "colab": {
          "base_uri": "https://localhost:8080/",
          "height": 0
        },
        "outputId": "bf32e3cf-2ad6-4de9-aa0f-63c1cf0b6ec9"
      },
      "source": [
        "# -----------------------------------\n",
        "# Run Cell to Load Word Vectors\n",
        "# Note: This will take several minutes\n",
        "# -----------------------------------\n",
        "wv_from_bin = load_embedding_model()\n",
        "print(wv_from_bin)"
      ],
      "execution_count": 27,
      "outputs": [
        {
          "output_type": "stream",
          "name": "stdout",
          "text": [
            "[==================================================] 100.0% 252.1/252.1MB downloaded\n",
            "Loaded vocab size 400000\n",
            "<gensim.models.keyedvectors.Word2VecKeyedVectors object at 0x7f87f9044190>\n"
          ]
        }
      ]
    },
    {
      "cell_type": "code",
      "metadata": {
        "id": "VVFXG06UbN5P",
        "colab": {
          "base_uri": "https://localhost:8080/",
          "height": 0
        },
        "outputId": "6261525e-5cad-4da4-caa6-19ec81fdf66d"
      },
      "source": [
        "# access vector for one word\n",
        "print(wv_from_bin['man'])"
      ],
      "execution_count": 28,
      "outputs": [
        {
          "output_type": "stream",
          "name": "stdout",
          "text": [
            "[ 1.0627e-01 -5.8248e-01 -2.7217e-01 -2.6772e-01 -1.1844e-01 -1.3373e-03\n",
            " -1.8707e-01  1.5110e-01  2.0336e-01 -5.0561e-01 -5.6029e-02 -1.4278e-01\n",
            "  2.7876e-01  5.6570e-01  1.0539e-01  2.0012e-01 -1.0245e-01  3.8694e-01\n",
            "  4.9881e-03 -2.0792e-01  4.3314e-01  2.7799e+00 -3.7724e-03 -1.5376e-01\n",
            "  3.5440e-03 -3.2788e-01 -2.2937e-01 -3.2938e-01  1.0435e-01  1.8370e-01\n",
            " -2.0869e-01 -1.2898e-01  1.9762e-01  5.7719e-01  4.8807e-01 -2.2012e-01\n",
            " -7.8150e-01 -2.6464e-01 -4.6928e-01  4.8230e-01 -7.2708e-01  1.7301e-02\n",
            " -3.5347e-01  1.6986e-01 -4.0509e-01  3.1622e-02 -8.5332e-02  1.1077e-01\n",
            "  2.3554e-01 -1.8391e-01  2.3047e-01  5.0146e-01  1.8733e-01  3.3038e-01\n",
            "  3.8698e-01 -1.6126e-01 -1.2255e-01 -6.4396e-02  5.2114e-01 -1.9056e-01\n",
            " -2.9464e-01 -2.8260e-01 -8.4987e-01  2.0800e-01 -4.2650e-02 -3.0999e-01\n",
            "  4.5363e-01  3.4151e-01 -6.6935e-03  6.2788e-02  4.3688e-02 -3.1161e-01\n",
            " -1.7607e-01  6.5094e-01 -5.8473e-01 -3.6569e-01 -3.4423e-01 -4.3389e-01\n",
            "  6.5343e-02 -1.2442e-01  1.7572e-01 -2.8400e-01  1.9135e-02 -5.3385e-01\n",
            " -4.0021e-01  2.1464e-01  1.4933e-02  1.6345e-02 -3.1991e-01 -6.8469e-01\n",
            " -5.7154e-02  3.1403e-01 -2.8191e-01  6.2003e-01 -5.9969e-01  7.5217e-02\n",
            " -1.7093e-01 -2.1516e-01  3.1219e-01  6.4726e-01  5.7606e-02 -2.3318e-01\n",
            "  1.7409e-01  1.8636e-01  1.2784e-01 -8.5055e-01 -1.2307e-01  1.1455e+00\n",
            " -3.7782e-02  3.2608e-01  3.2714e-01 -4.1493e-01 -3.3780e-02 -2.0761e-02\n",
            " -7.4910e-01  2.6303e-01 -3.4439e-01  3.2692e-01 -7.0086e-01 -4.6634e-02\n",
            " -5.0236e-02  2.5610e-01  4.6046e-02  2.1670e-01  2.7547e-02 -1.9104e-01\n",
            "  2.9514e-01 -2.6253e-01  5.1427e-01 -4.7265e-01 -3.9650e-01 -1.4644e-02\n",
            "  1.1092e-01 -4.2111e-01 -1.7097e-01 -2.7003e-01  2.3945e-01  2.7820e-01\n",
            " -7.5243e-01 -1.2806e-01  4.9752e-01  2.5289e-01  7.3583e-01 -2.5678e-01\n",
            "  1.8087e+00  2.6838e-01  5.8882e-01  4.4866e-02  4.3145e-01  2.7810e-01\n",
            "  3.4408e-01  1.7439e-01 -1.2762e-01  1.1552e-01 -3.9833e-01  1.2771e-01\n",
            " -2.2887e-01 -1.4351e-01 -5.2339e-01 -2.9325e-01  8.8909e-02  8.4056e-01\n",
            "  1.8710e-01 -1.3646e-01  1.9423e-01 -6.6192e-01  8.5687e-05  2.4278e-01\n",
            " -6.8090e-01 -6.2710e-02  2.5439e-01 -3.0117e-01  3.8821e-01  1.3239e-01\n",
            " -3.1887e-01 -2.7511e-01 -4.7149e-01 -3.0114e-01  3.2686e-01 -3.8738e-03\n",
            "  1.0342e+00  1.7300e-01 -7.7236e-01  5.9479e-02 -3.8417e-01 -2.6487e-01\n",
            "  8.1626e-02  1.1445e-01  1.5213e-01  1.2093e-01 -3.4896e-01 -1.3335e-01\n",
            "  2.3203e-01 -2.1832e-02  6.5154e-01  1.1376e-01  1.3703e-01  4.5007e-01\n",
            "  5.1510e-02  7.0033e-01]\n"
          ]
        }
      ]
    },
    {
      "cell_type": "markdown",
      "metadata": {
        "id": "XxBXR4oOcKDk"
      },
      "source": [
        "__Embedding analysis:__ Choose 20 words at random from the lexicon and obtain their corresponding embeddings. Reduce the embedding dimensionality to 2 (using PCA or T-SNE) and plot them. Do you observe any clusters forming? _(10 points)_\n",
        "\n"
      ]
    },
    {
      "cell_type": "code",
      "metadata": {
        "id": "VWtJJKhAc9ua",
        "colab": {
          "base_uri": "https://localhost:8080/",
          "height": 374
        },
        "outputId": "b1f804e4-1137-4714-b995-afebf0c90c95"
      },
      "source": [
        "# Your code here\n",
        "import random\n",
        "from sklearn.decomposition import PCA\n",
        "from matplotlib import pyplot as plt\n",
        "random_words = random.sample(list(wv_from_bin.vocab.keys()),20)\n",
        "embedding_list = []\n",
        "for word in random_words:\n",
        "  embedding_list.append(wv_from_bin[word])\n",
        "\n",
        "pca = PCA(n_components=2)\n",
        "result = pca.fit_transform(embedding_list)\n",
        "# 可视化展示\n",
        "plt.figure(figsize=(7,6)) \n",
        "plt.scatter(result[:, 0], result[:, 1])\n",
        "words = list(random_words)\n",
        "for i, word in enumerate(words):\n",
        "\tplt.annotate(word, xy=(result[i, 0], result[i, 1]))\n",
        "plt.show()\n",
        "\n"
      ],
      "execution_count": 29,
      "outputs": [
        {
          "output_type": "display_data",
          "data": {
            "image/png": "[encoded data removed]",
            "text/plain": [
              "<Figure size 504x432 with 1 Axes>"
            ]
          },
          "metadata": {
            "needs_background": "light"
          }
        }
      ]
    },
    {
      "cell_type": "markdown",
      "metadata": {
        "id": "f383hVjoc_aw"
      },
      "source": [
        "__Answer:__ Yes, obvious clusters on the figure can easily be observed."
      ]
    },
    {
      "cell_type": "markdown",
      "metadata": {
        "id": "I1mn9cK7ef3H"
      },
      "source": [
        "__Synonyms and antonyms:__ Find three words (w1,w2,w3) where w1 and w2 are synonyms and w1 and w3 are antonyms, but Cosine Distance(w1,w3) < Cosine Distance(w1,w2). For example, w1=\"happy\" is closer to w3=\"sad\" than to w2=\"cheerful\".\n",
        "\n",
        "Once you have found your example, please give a possible explanation for why this counter-intuitive result may have happened.\n",
        "\n",
        "You should use the the `wv_from_bin.distance(w1, w2)` function here in order to compute the cosine distance between two words. _(5 points)_"
      ]
    },
    {
      "cell_type": "code",
      "metadata": {
        "id": "dSEd4KGPe5mB",
        "colab": {
          "base_uri": "https://localhost:8080/",
          "height": 0
        },
        "outputId": "f170d272-e02f-4334-c776-39d8001be648"
      },
      "source": [
        "# Your code here\n",
        "import math\n",
        "def find_pairs(compare_word,syn,ant):\n",
        "  for word1,prob1 in syn:\n",
        "    dist1 = math.cos(wv_from_bin.distance(compare_word,word1))\n",
        "    for word2,prob2 in ant:\n",
        "      dist2 =  math.cos(wv_from_bin.distance(compare_word,word2))\n",
        "      if dist1 > dist2:\n",
        "        return word1,word2\n",
        "'''vocab = list(wv_from_bin.vocab)\n",
        "for compare_word in vocab[:100]:\n",
        "  syn = wv_from_bin.most_similar(positive=compare_word,topn=200)\n",
        "  ant = wv_from_bin.most_similar(negative=compare_word,topn=200)\n",
        "  w= find_pairs(compare_word,syn,ant)\n",
        "  if w:\n",
        "    print(compare_word,w[0],w[1])'''\n",
        "compare_word = 'nice'\n",
        "syn = wv_from_bin.most_similar(positive=compare_word,topn=100)\n",
        "ant = wv_from_bin.most_similar(negative=compare_word,topn=100)\n",
        "w= find_pairs(compare_word,syn,ant)\n",
        "print(compare_word,w[0],w[1])\n"
      ],
      "execution_count": 30,
      "outputs": [
        {
          "output_type": "stream",
          "name": "stdout",
          "text": [
            "nice good m.sambucetti\n"
          ]
        }
      ]
    },
    {
      "cell_type": "markdown",
      "metadata": {
        "id": "O8MVeoWJdlfi"
      },
      "source": [
        "__Finding analogies:__ Implement a function `analogy()` which solves the analogy problem, e.g., `man:king::woman:x`. Use the `most_similar()` function provided in Gensim for your implementation. _(5 points)_ "
      ]
    },
    {
      "cell_type": "code",
      "metadata": {
        "id": "YkUrl7oFx5Fr"
      },
      "source": [
        "def analogy(x1, x2, y1):\n",
        "  \"\"\"Solves for x1:x2::y1:?\"\"\"\n",
        "  # YOUR CODE HERE\n",
        "  return wv_from_bin.most_similar(positive=[y1, x2], negative=[x1],topn = 1)\n"
      ],
      "execution_count": 31,
      "outputs": []
    },
    {
      "cell_type": "markdown",
      "metadata": {
        "id": "BwvZAOEnyclt"
      },
      "source": [
        "Use your `analogy()` function to check if the analogy `man:king::woman:queen` holds for the trained model. Find another such analogy which makes semantic sense. _(5 points)_"
      ]
    },
    {
      "cell_type": "code",
      "metadata": {
        "id": "CN9nvq-seHgF",
        "colab": {
          "base_uri": "https://localhost:8080/",
          "height": 0
        },
        "outputId": "119a8a5a-876a-4503-fbc8-a5573238b5fc"
      },
      "source": [
        "# YOUR CODE HERE\n",
        "\n",
        "a1 = analogy('man','king','woman')\n",
        "print('man',':','king','::','woman',':',a1[0][0])\n",
        "\n",
        "a2 = analogy('man', 'woman','father')\n",
        "print('man',':','woman','::','father',':',a2[0][0])"
      ],
      "execution_count": 32,
      "outputs": [
        {
          "output_type": "stream",
          "name": "stdout",
          "text": [
            "man : king :: woman : queen\n",
            "man : woman :: father : mother\n"
          ]
        }
      ]
    },
    {
      "cell_type": "markdown",
      "metadata": {
        "id": "LsdSyUpue6yX"
      },
      "source": [
        "__Answer:__ This model can esaily find the answer of the analogy. Another analogy: man:woman::father:mother"
      ]
    },
    {
      "cell_type": "markdown",
      "metadata": {
        "id": "eKkAv9Rze8TQ"
      },
      "source": [
        "__Analyzing bias:__ Complete the following analogies: `man:worker::woman:x` and `woman:worker::man:x` and list the most likely outputs in both cases. Point out the difference between the list of female-associated words and the list of male-associated words, and explain how it is reflecting gender bias. _(5 points)_"
      ]
    },
    {
      "cell_type": "code",
      "metadata": {
        "id": "Z9ofG0SHfPxW",
        "colab": {
          "base_uri": "https://localhost:8080/",
          "height": 0
        },
        "outputId": "526108b3-a10f-41a4-8051-c4c45d26c0eb"
      },
      "source": [
        "# YOUR CODE HERE\n",
        "# YOUR CODE HERE\n",
        "a3 = analogy('man', 'worker','woman')\n",
        "print('man',':','worker','::','woman',':',a3[0][0])\n",
        "\n",
        "a4 = analogy('woman', 'worker','man')\n",
        "print('woman',':','worker','::','man',':',a4[0][0])\n",
        "\n",
        "a5 = analogy('father', 'doctor','mother')\n",
        "print('father',':','doctor','::','monther',':',a5[0][0])\n",
        "\n",
        "a6 = analogy('he', 'guitarist','she')\n",
        "print('he',':','guitarist','::','she',':',a6[0][0])\n",
        "\n"
      ],
      "execution_count": 33,
      "outputs": [
        {
          "output_type": "stream",
          "name": "stdout",
          "text": [
            "man : worker :: woman : employee\n",
            "woman : worker :: man : workers\n",
            "father : doctor :: monther : nurse\n",
            "he : guitarist :: she : vocalist\n"
          ]
        }
      ]
    },
    {
      "cell_type": "markdown",
      "metadata": {
        "id": "lffjBbCP8XTf"
      },
      "source": [
        "__Answer:__ Due to these two answers for analogies: man:worker::woman:x and woman:worker::man:x, they are obviously different. When it comes to male:female pairs, the answer is like “man is to worker as woman is to x” with x=employee. There are also many different cases such as doctor - nurse and guitarist - vocalist. In additon, words such as \"beautiful\" and \"dance\" are also associated with women, while words such as \"outstanding\" and \"genius\" are more associated with men. \" However, the attributes of these words should have been gender neutral, which reflects the gender bias."
      ]
    },
    {
      "cell_type": "markdown",
      "metadata": {
        "id": "ZJ0oXYwSw5af"
      },
      "source": [
        "__Question:__ Suggest some ways to deal with the gender (or racial) bias when training word embedding models, or when using pre-trained models. _(5 points)_"
      ]
    },
    {
      "cell_type": "markdown",
      "metadata": {
        "id": "7gMQZq2zzN8_"
      },
      "source": [
        "__Answer:__ (1) Ensure that gender neutral words such as nurse are equidistant between gender pairs such as he and she.\n",
        "\n",
        "\n",
        "(2) Reduce gender associations that pervade the embedding even among gender neutral words."
      ]
    }
  ]
}