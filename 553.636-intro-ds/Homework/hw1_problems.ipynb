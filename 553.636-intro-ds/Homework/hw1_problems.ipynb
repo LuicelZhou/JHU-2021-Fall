{
 "cells": [
  {
   "cell_type": "markdown",
   "id": "248ad18c",
   "metadata": {},
   "source": [
    "# Homework 1\n",
    "### Introduction to Data Science EN.553.436/EN.553.636 - Fall 2021\n",
    "\n",
    "Due date: Wednesday, September 22 at midnight."
   ]
  },
  {
   "cell_type": "markdown",
   "id": "179ab7dc",
   "metadata": {},
   "source": [
    "## Guidelines\n",
    "* Answer in the cells immediately below the problem statements. If a problem calls for code, a code cell will follow. If a problem calls for a text response, a Markdown cell will follow.\n",
    "* Your code should include some comments. Insufficient commentary may result in loss of points. But you do not necessarily need to comment every line or problem. Further guidelines:\n",
    "    - If the the meaning of some line of code would be obvious to the average Python novice, you do not need to comment (e.g., you do not need to comment _import numpy_). \n",
    "    - If your code is moderately complex, you should comment (e.g., if you nest several functions in one line, you should comment). \n",
    "    - It may be proper to comment before a code block to describe generally what you are doing (e.g., you should comment before a function definition to explain the function and its parameters)."
   ]
  },
  {
   "cell_type": "markdown",
   "id": "8cb62d85",
   "metadata": {},
   "source": [
    "# Problem 1"
   ]
  },
  {
   "cell_type": "markdown",
   "id": "8a7afdc9",
   "metadata": {},
   "source": [
    "## 1.1\n",
    "Load the _lowbwt_ dataset from the OpenML repository as a Pandas DataFrame from following URL: https://www.openml.org/data/get_csv/3640/dataset_2189_lowbwt.arff. Use a function that is able to handle loading the data directly into Jupyter from the URL. The function should take the URL as an argument. **Do not load the data using a filepath on your hard drive:** again, load the data directly into Jupyter using the URL.\n",
    "\n",
    "Print the loaded DataFrame. Read the [description](https://www.openml.org/d/203) of the dataset to better understand it. Check the column names and values to see if they match the variables discussed in the description. One or more variables may have been renamed."
   ]
  },
  {
   "cell_type": "code",
   "execution_count": 23,
   "id": "c9da2e01",
   "metadata": {
    "scrolled": true
   },
   "outputs": [
    {
     "name": "stdout",
     "output_type": "stream",
     "text": [
      "     LOW  AGE  LWT  RACE  SMOKE  PTL  HT  UI  FTV   BWT\n",
      "0      0   19  182     2      0    0   0   1    0  2523\n",
      "1      0   33  155     3      0    0   0   0    3  2551\n",
      "2      0   20  105     1      1    0   0   0    1  2557\n",
      "3      0   21  108     1      1    0   0   1    2  2594\n",
      "4      0   18  107     1      1    0   0   1    0  2600\n",
      "..   ...  ...  ...   ...    ...  ...  ..  ..  ...   ...\n",
      "184    1   28   95     1      1    0   0   0    2  2466\n",
      "185    1   14  100     3      0    0   0   0    2  2495\n",
      "186    1   23   94     3      1    0   0   0    0  2495\n",
      "187    1   17  142     2      0    0   1   0    0  2495\n",
      "188    1   21  130     1      1    0   1   0    3  2495\n",
      "\n",
      "[189 rows x 10 columns]\n"
     ]
    }
   ],
   "source": [
    "import pandas as pd\n",
    "\n",
    "url = \"https://www.openml.org/data/get_csv/3640/dataset_2189_lowbwt.arff\"\n",
    "df = pd.read_csv(url)\n",
    "#rename the last column to its true name: Birth Weight in Grams BWT\n",
    "df.rename(columns={'class':'BWT'}, inplace = True) \n",
    "print(df)"
   ]
  },
  {
   "cell_type": "markdown",
   "id": "571d8bdc",
   "metadata": {},
   "source": [
    "## 1.2\n",
    "From the full DataFrame, extract and print a DataFrame with the birthweight column (and only the birthweight column) for mothers who smoked during pregnancy and had low-birthweight deliveries."
   ]
  },
  {
   "cell_type": "code",
   "execution_count": 3,
   "id": "a05a95f5",
   "metadata": {},
   "outputs": [
    {
     "data": {
      "text/plain": [
       "130     709\n",
       "132    1135\n",
       "139    1790\n",
       "140    1818\n",
       "141    1885\n",
       "144    1928\n",
       "145    1928\n",
       "147    1936\n",
       "152    2084\n",
       "153    2084\n",
       "155    2125\n",
       "156    2126\n",
       "157    2187\n",
       "159    2211\n",
       "160    2225\n",
       "164    2296\n",
       "165    2296\n",
       "168    2353\n",
       "170    2367\n",
       "171    2381\n",
       "172    2381\n",
       "175    2410\n",
       "176    2410\n",
       "177    2414\n",
       "178    2424\n",
       "182    2466\n",
       "183    2466\n",
       "184    2466\n",
       "186    2495\n",
       "188    2495\n",
       "Name: BWT, dtype: int64"
      ]
     },
     "execution_count": 3,
     "metadata": {},
     "output_type": "execute_result"
    }
   ],
   "source": [
    "df1 = df[(df['SMOKE']==1) & (df['LOW']==1)] #use df1 to store the selected dataframes\n",
    "df1['BWT']"
   ]
  },
  {
   "cell_type": "markdown",
   "id": "05b58d44",
   "metadata": {},
   "source": [
    "## 1.3\n",
    "Print the following statistics for the birthweights in the original full dataset:\n",
    "- Standard deviation\n",
    "- 0.16 Quantile\n",
    "- Mean\n",
    "- Median\n",
    "- 0.84 Quantile\n",
    "\n",
    "Afterwards, print the same statistics for the birthweights in the subset you selected in 1.2."
   ]
  },
  {
   "cell_type": "code",
   "execution_count": 4,
   "id": "cbd9adef",
   "metadata": {
    "scrolled": true
   },
   "outputs": [
    {
     "name": "stdout",
     "output_type": "stream",
     "text": [
      "statictics for original dataset:\n",
      "Standard deviation: 729.022417\n",
      "0.16 quantile: 2226.200000\n",
      "mean : 2944.656085\n",
      "median: 2977.000000\n",
      "0.84 quantile: 3695.160000\n",
      "\n",
      "\n",
      "statictics for subset of original dataset:\n",
      "Standard deviation: 399.807409\n",
      "0.16 quantile: 1912.520000\n",
      "mean : 2143.033333\n",
      "median: 2260.500000\n",
      "0.84 quantile: 2439.120000\n"
     ]
    }
   ],
   "source": [
    "# statistics for original dataset\n",
    "df2 = df['BWT'] #use df2,df3 to store the BWT column\n",
    "print(\"statictics for original dataset:\")\n",
    "print('Standard deviation: %f' % (df2.std()))\n",
    "print('0.16 quantile: %f' % (df2.quantile(0.16)))\n",
    "print('mean : %f' % (df2.mean()))\n",
    "print('median: %f' % (df2.median()))\n",
    "print('0.84 quantile: %f' % (df2.quantile(0.84)))\n",
    "print('\\n')\n",
    "\n",
    "# statistics for subset of original dataset\n",
    "df3 = df1['BWT']\n",
    "print(\"statictics for subset of original dataset:\")\n",
    "print('Standard deviation: %f' % (df3.std()))\n",
    "print('0.16 quantile: %f' % (df3.quantile(0.16)))\n",
    "print('mean : %f' % (df3.mean()))\n",
    "print('median: %f' % (df3.median()))\n",
    "print('0.84 quantile: %f' % (df3.quantile(0.84)))"
   ]
  },
  {
   "cell_type": "markdown",
   "id": "161ecee4",
   "metadata": {},
   "source": [
    "## 1.4\n",
    "Plot two density histograms: one for the birthweights in the full dataset, and one for the birthweights in the subset you selected in 1.2. Label the histograms."
   ]
  },
  {
   "cell_type": "code",
   "execution_count": 18,
   "id": "f5963a5c",
   "metadata": {
    "scrolled": true
   },
   "outputs": [
    {
     "data": {
      "text/plain": [
       "<matplotlib.legend.Legend at 0x2445fd831c0>"
      ]
     },
     "execution_count": 18,
     "metadata": {},
     "output_type": "execute_result"
    },
    {
     "data": {
      "image/png": "[encoded data removed]",
      "text/plain": [
       "<Figure size 432x288 with 1 Axes>"
      ]
     },
     "metadata": {
      "needs_background": "light"
     },
     "output_type": "display_data"
    }
   ],
   "source": [
    "import matplotlib.pyplot as plt\n",
    "import numpy as np\n",
    "#plot full dataset's histogram\n",
    "fig,ax = plt.subplots(1,1)\n",
    "#plot density histogram with label\n",
    "ax.hist(df2,density = True,label = 'Full dataset') \n",
    "plt.legend()#show labels\n"
   ]
  },
  {
   "cell_type": "code",
   "execution_count": 19,
   "id": "74cfddc1",
   "metadata": {},
   "outputs": [
    {
     "data": {
      "text/plain": [
       "<matplotlib.legend.Legend at 0x2445febd880>"
      ]
     },
     "execution_count": 19,
     "metadata": {},
     "output_type": "execute_result"
    },
    {
     "data": {
      "image/png": "[encoded data removed]",
      "text/plain": [
       "<Figure size 432x288 with 1 Axes>"
      ]
     },
     "metadata": {
      "needs_background": "light"
     },
     "output_type": "display_data"
    }
   ],
   "source": [
    "fig,ax = plt.subplots(1,1)\n",
    "#plot subset's histogram\n",
    "ax.hist(df3,density = True,label = 'subset')\n",
    "plt.legend()#show labels"
   ]
  },
  {
   "cell_type": "markdown",
   "id": "19d2b9c2",
   "metadata": {},
   "source": [
    "## 1.5\n",
    "Is a normal distribution a plausible model for birthweight in either of the two datasets? Back up your answer using the previous results. This image of a normal PDF may be useful:\n",
    "\n",
    "\n",
    "![Normal PDF](bell-curve.jpg)"
   ]
  },
  {
   "cell_type": "markdown",
   "id": "a6fd116e",
   "metadata": {},
   "source": [
    "### _Answer:_  .  \n",
    "From the codes below, the normal distribution is a plausible model for the BWT in full datasets, but not in the subset. As the graphs below, the first density histogram fits the normal distribution nicely. It is centered at the mean data point(2945), and uses the standard deviation of the dataset as the sigma of normal distribution, the quartile near the mean has much higher density than the ones behind. \n",
    "But for the latter one, it is not centered on the mean datapoint, and also doesn't fit with other normal distribution features."
   ]
  },
  {
   "cell_type": "code",
   "execution_count": 13,
   "id": "83788e0b",
   "metadata": {},
   "outputs": [
    {
     "data": {
      "text/plain": [
       "<matplotlib.legend.Legend at 0x2445f730400>"
      ]
     },
     "execution_count": 13,
     "metadata": {},
     "output_type": "execute_result"
    },
    {
     "data": {
      "image/png": "[encoded data removed]",
      "text/plain": [
       "<Figure size 432x288 with 1 Axes>"
      ]
     },
     "metadata": {
      "needs_background": "light"
     },
     "output_type": "display_data"
    },
    {
     "data": {
      "image/png": "[encoded data removed]",
      "text/plain": [
       "<Figure size 432x288 with 1 Axes>"
      ]
     },
     "metadata": {
      "needs_background": "light"
     },
     "output_type": "display_data"
    }
   ],
   "source": [
    "from scipy.stats import norm\n",
    "\n",
    "fig,ax = plt.subplots(1,1)\n",
    "#plot full dataset's hostogram\n",
    "ax.hist(df2,density = True,label = 'Full dataset') \n",
    "# use mean, standard deviation as normal distribution's mu and sigma\n",
    "mu, sig = df2.mean(), df2.std()\n",
    "x = np.linspace(1000,5000,100) # determine x axis's limit\n",
    "# plot normal distribution to fit the density histogram\n",
    "ax.plot(x, norm.pdf(x,mu,sig),'r-',label='norm pdf') \n",
    "plt.legend()\n",
    "\n",
    "fig,ax = plt.subplots(1,1)\n",
    "#plot subset's hostogram\n",
    "ax.hist(df3,density = True, label = 'subset') \n",
    "# use mean, standard deviation as normal distribution's mu and sigma\n",
    "mu, sig = df3.mean(), df3.std()\n",
    "x =np.linspace(750,3000,100) # determine x axis's limit\n",
    "# plot normal distribution to fit the density histogram\n",
    "ax.plot(x, norm.pdf(x,mu,sig),'r-',label='norm pdf')\n",
    "plt.legend()\n"
   ]
  },
  {
   "cell_type": "markdown",
   "id": "d44b6864",
   "metadata": {},
   "source": [
    "# Problem 2\n",
    "In this exercise, we will proceed in steps to perform rejection sampling of a [beta random variable](https://docs.scipy.org/doc/scipy/reference/generated/scipy.stats.beta.html) using a [triangular random variable](https://docs.scipy.org/doc/scipy/reference/generated/scipy.stats.triang.html) as candidate."
   ]
  },
  {
   "cell_type": "markdown",
   "id": "a6887a8e",
   "metadata": {},
   "source": [
    "## 2.1\n",
    "Plot an overlay of a beta PDF and a triangular PDF with the following parameters:\n",
    "- For the beta PDF, a=2, b=2, loc=0, scale=1.\n",
    "- For the triangular PDF, c=0.50, loc=0, scale=1."
   ]
  },
  {
   "cell_type": "code",
   "execution_count": 193,
   "id": "1db616bb",
   "metadata": {},
   "outputs": [
    {
     "data": {
      "text/plain": [
       "<matplotlib.legend.Legend at 0x2cde07c9940>"
      ]
     },
     "execution_count": 193,
     "metadata": {},
     "output_type": "execute_result"
    },
    {
     "data": {
      "image/png": "[encoded data removed]",
      "text/plain": [
       "<Figure size 432x288 with 1 Axes>"
      ]
     },
     "metadata": {
      "needs_background": "light"
     },
     "output_type": "display_data"
    }
   ],
   "source": [
    "from scipy.stats import beta,triang\n",
    "import numpy as np\n",
    "\n",
    "fig, ax = plt.subplots(1, 1)\n",
    "x = np.linspace(beta.ppf(0.01, a=2, b=2),\n",
    "                beta.ppf(0.99, a=2, b=2), 100) # define the range of x\n",
    "# plot beta pdf with given parameters\n",
    "ax.plot(x, beta.pdf(x, a=2, b=2, loc=0, scale=1),label='beta pdf') \n",
    "x = np.linspace(triang.ppf(0.01, c = 0.50), # define the range of x\n",
    "                triang.ppf(0.99, c = 0.50), 100)\n",
    "# plot triangular pdf with given parameters\n",
    "ax.plot(x, triang.pdf(x, c = 0.50,loc=0, scale=1), label='triang pdf')\n",
    "plt.legend()"
   ]
  },
  {
   "cell_type": "markdown",
   "id": "dc2eaa1e",
   "metadata": {},
   "source": [
    "## 2.2\n",
    "We will perform 10,000 trials of the rejection sampling procedure. Simulate and store 10,000 random variables distributed as $\\text{Uniform}[0,1]$ using random state 436. Simulate and store 10,000 triangular random variables from the specified triangular distribution using random state 636."
   ]
  },
  {
   "cell_type": "code",
   "execution_count": 194,
   "id": "fb1e0eff",
   "metadata": {},
   "outputs": [],
   "source": [
    "import random\n",
    "from scipy.stats import uniform\n",
    "from scipy.stats import expon\n",
    "\n",
    "N = 10000\n",
    "# generate 10000 random variables on Uniform distribution\n",
    "U1 = uniform.rvs(size=N,random_state=436)\n",
    "\n",
    "# generate 10000 random variables on triangular distribution\n",
    "G1 = triang.rvs(c = 0.50,size = N, random_state=636 )\n"
   ]
  },
  {
   "cell_type": "markdown",
   "id": "c073366a",
   "metadata": {},
   "source": [
    "## 2.3\n",
    "Let $f$ be the beta PDF and $g$ the triangular PDF. Using 1.50 as an estimate of $\\sup f/g$, generate samples from the beta distribution by rejection sampling. Store your samples. Print the number of samples you obtain."
   ]
  },
  {
   "cell_type": "code",
   "execution_count": 195,
   "id": "9dada35e",
   "metadata": {},
   "outputs": [
    {
     "name": "stdout",
     "output_type": "stream",
     "text": [
      "6674\n"
     ]
    }
   ],
   "source": [
    "from scipy.stats import beta,triang\n",
    "\n",
    "# use triangular distribution g1 as the candidate distribution\n",
    "f1 = beta.pdf(x, a=2, b=2, loc=0, scale=1)\n",
    "g1 = triang.pdf(x, c = 0.50,loc=0, scale=1)\n",
    "# and beta distribution as the target distribution\n",
    "\n",
    "c = 1.5 # c is the supress f/g\n",
    "sample = [] # list to store the obtained samples\n",
    "# loop for 10000 times, calculate each time to select the samples\n",
    "for i in range(10000):\n",
    "    U = U1[i] # variable from Uniform distribustion\n",
    "    Y = G1[i] # variable from triangular distribution\n",
    "    ratio =  beta.pdf(x = Y,a=2, b=2, loc=0, scale=1) / triang.pdf(x = Y,c = 0.50,loc=0, scale=1) # target / candidate\n",
    "    if U <= ratio / c: # when get the sample\n",
    "        # Append to list of samples.\n",
    "        sample.append(Y)\n",
    "    # Form new estimate of supremum.\n",
    "    c = max(c, ratio)\n",
    "\n",
    "print(len(sample))"
   ]
  },
  {
   "cell_type": "markdown",
   "id": "ad73a593",
   "metadata": {},
   "source": [
    "## 2.4\n",
    "Plot a density histogram of your samples overlaid with the beta and triangular PDFs. Use 100 bins."
   ]
  },
  {
   "cell_type": "code",
   "execution_count": 200,
   "id": "163ec994",
   "metadata": {
    "scrolled": true
   },
   "outputs": [
    {
     "data": {
      "image/png": "[encoded data removed]",
      "text/plain": [
       "<Figure size 432x288 with 1 Axes>"
      ]
     },
     "metadata": {
      "needs_background": "light"
     },
     "output_type": "display_data"
    }
   ],
   "source": [
    "fig, ax = plt.subplots(1, 1)\n",
    "#plot the beta, triangular distribution PDF's, and the histogram of the samples\n",
    "ax.plot(x, f1,'r-', lw=3, alpha=0.8, label='beta pdf') # define some properties of the lines and histogram\n",
    "ax.plot(x,g1,'y-', lw=3, alpha=0.8, label='triang pdf')\n",
    "ax.hist(sample, alpha = 0.6, color = 'blue',bins = 100, density = True, edgecolor = 'k' )\n",
    "plt.legend()\n",
    "plt.show()"
   ]
  },
  {
   "cell_type": "markdown",
   "id": "ba687088",
   "metadata": {},
   "source": [
    "# Problem 3"
   ]
  },
  {
   "cell_type": "markdown",
   "id": "abd0a313",
   "metadata": {},
   "source": [
    "## 3.1\n",
    "The Epanechnikov kernel is defined by\n",
    "$$K(u) = \\frac{3}{4}\\left(1 - u^{2}\\right)\\qquad\\text{for }\\lvert u \\rvert \\leq 1$$\n",
    "Perform Epanechnikov kernel density estimation on 1,000 simulated samples from a [lognormal distribution](https://docs.scipy.org/doc/scipy/reference/generated/scipy.stats.lognorm.html) with s=1 and random state 636. Use a bandwidth of 2.0. Plot the density estimate over the support of the lognormal distribution. (You can use 2 times the maximum of your samples as an upper bound for the support.)"
   ]
  },
  {
   "cell_type": "code",
   "execution_count": 178,
   "id": "1db4268b",
   "metadata": {},
   "outputs": [
    {
     "data": {
      "text/plain": [
       "[<matplotlib.lines.Line2D at 0x2cde04ef1c0>]"
      ]
     },
     "execution_count": 178,
     "metadata": {},
     "output_type": "execute_result"
    },
    {
     "data": {
      "image/png": "[encoded data removed]",
      "text/plain": [
       "<Figure size 432x288 with 1 Axes>"
      ]
     },
     "metadata": {
      "needs_background": "light"
     },
     "output_type": "display_data"
    }
   ],
   "source": [
    "from scipy.stats import lognorm\n",
    "import sklearn.neighbors\n",
    "\n",
    "s = 1\n",
    "# generate 1000 variables from lognoraml distribution\n",
    "L1 = lognorm.rvs(s,size = 1000, random_state = 636)\n",
    "#reshape the variables to a 1000 * 1 vector\n",
    "samples = L1.reshape(1000,1) # L1.T\n",
    "# compute kde\n",
    "kde = sklearn.neighbors.KernelDensity(kernel='epanechnikov', bandwidth=2.0).fit(samples)\n",
    "# define x range\n",
    "x = np.linspace(0,2*max(L1),1000)\n",
    "# compute log density from reshaped x values\n",
    "density = kde.score_samples(x.reshape((1000,1)))\n",
    "#plot the density graph (expontentional the density values to make it historical)\n",
    "plt.plot(x,np.exp(density),label = \"kde\")\n",
    "#plot the lognormal distribution's PDF\n",
    "plt.plot(x,lognorm.pdf(x,s = 1), label = 'lognorm')\n"
   ]
  },
  {
   "cell_type": "markdown",
   "id": "7b8d1e35",
   "metadata": {},
   "source": [
    "## 3.2\n",
    "Test whether the estimate integrates to unity over the support of the lognormal distribution."
   ]
  },
  {
   "cell_type": "code",
   "execution_count": 179,
   "id": "09bd0888",
   "metadata": {},
   "outputs": [
    {
     "name": "stdout",
     "output_type": "stream",
     "text": [
      "estimate integrates to: 0.821810 \n"
     ]
    }
   ],
   "source": [
    "x = np.linspace(0,2*max(L1),1000)\n",
    "print(\"estimate integrates to: %f \" % np.trapz(np.exp(density), x) )"
   ]
  },
  {
   "cell_type": "markdown",
   "id": "293ce053",
   "metadata": {},
   "source": [
    "## 3.3\n",
    "Explain the results of your integration."
   ]
  },
  {
   "cell_type": "markdown",
   "id": "86b7071e",
   "metadata": {},
   "source": [
    "### _Answer:_  \n",
    "From the codes below, when I change the bandwith from 2.0 to 0.3, the two density plots are fitted very well, and we can also get a nice estimate which integrates to almost 1. So I think that maybe the chosen value of bandwith influences the estimate integrates to unity."
   ]
  },
  {
   "cell_type": "code",
   "execution_count": 180,
   "id": "05aeda78",
   "metadata": {},
   "outputs": [
    {
     "name": "stdout",
     "output_type": "stream",
     "text": [
      "estimate integrates to: 0.988721 \n"
     ]
    },
    {
     "data": {
      "image/png": "[encoded data removed]",
      "text/plain": [
       "<Figure size 432x288 with 1 Axes>"
      ]
     },
     "metadata": {
      "needs_background": "light"
     },
     "output_type": "display_data"
    }
   ],
   "source": [
    "# compute kde\n",
    "kde = sklearn.neighbors.KernelDensity(kernel='epanechnikov', bandwidth=0.3).fit(samples)\n",
    "# define x range\n",
    "x = np.linspace(0,2*max(L1),1000)\n",
    "# compute log density from reshaped x values\n",
    "density = kde.score_samples(x.reshape((1000,1)))\n",
    "#plot the density graph (expontentional the density values to make it historical)\n",
    "plt.plot(x,np.exp(density),label = \"kde\")\n",
    "#plot the lognormal distribution's PDF\n",
    "plt.plot(x,lognorm.pdf(x,s = 1), label = 'lognorm')\n",
    "\n",
    "#estimate\n",
    "print(\"estimate integrates to: %f \" % np.trapz(np.exp(density), x) )"
   ]
  },
  {
   "cell_type": "markdown",
   "id": "466f585d",
   "metadata": {},
   "source": [
    "# Problem 4"
   ]
  },
  {
   "cell_type": "markdown",
   "id": "430da839",
   "metadata": {},
   "source": [
    "## 4.1\n",
    "Below we load the [Boston house prices dataset](https://scikit-learn.org/stable/datasets/toy_dataset.html#boston-dataset). We also store the labels of the predictor variables for you.\n",
    "\n",
    "Our goal will be to predict house price (MEDV) by regression. Split the dataset into a training and test set using 1/3 as the test size and a random state of 553. Use the function [_train_test_split_](https://scikit-learn.org/stable/modules/generated/sklearn.model_selection.train_test_split.html) from _sklearn.model_selection_ for this purpose."
   ]
  },
  {
   "cell_type": "code",
   "execution_count": 181,
   "id": "a5ceade1",
   "metadata": {},
   "outputs": [],
   "source": [
    "# Loading data:\n",
    "\n",
    "# Import function for loading the 'boston' dataset.\n",
    "from sklearn.datasets import load_boston\n",
    "# Load a 'bunch' containing data and descriptions.\n",
    "boston_bunch = load_boston()\n",
    "# Extract and store predictor variables.\n",
    "X = boston_bunch.data\n",
    "# Extract and store the variable that is the target for prediction.\n",
    "y = boston_bunch.target\n",
    "# Extract and store labels of predictor variables.\n",
    "labels = boston_bunch.feature_names"
   ]
  },
  {
   "cell_type": "code",
   "execution_count": 182,
   "id": "3c6be9d9",
   "metadata": {},
   "outputs": [],
   "source": [
    "# Your code:\n",
    "from sklearn.model_selection import train_test_split\n",
    "#split the data\n",
    "train_x,test_x,train_y,test_y = train_test_split(X,y,test_size = 1/3, random_state=553)"
   ]
  },
  {
   "cell_type": "markdown",
   "id": "1dabfc03",
   "metadata": {},
   "source": [
    "## 4.2\n",
    "Fit three different linear models on the training set by ordinary least squares (OLS): \n",
    "- A model using all predictor variables.\n",
    "- A model using only AGE, NOX, DIS, and RAD as predictor variables.\n",
    "- A model using all polynomial combinations of degree $\\leq 2$ of the original thirteen predictor variables."
   ]
  },
  {
   "cell_type": "code",
   "execution_count": 183,
   "id": "b1cea95b",
   "metadata": {},
   "outputs": [
    {
     "data": {
      "text/plain": [
       "LinearRegression()"
      ]
     },
     "execution_count": 183,
     "metadata": {},
     "output_type": "execute_result"
    }
   ],
   "source": [
    "import numpy as np\n",
    "from sklearn import datasets, linear_model\n",
    "from sklearn.preprocessing import PolynomialFeatures\n",
    "\n",
    "# model1 using all variables\n",
    "#create the linear regression model\n",
    "regr1 = linear_model.LinearRegression()\n",
    "# use training data to fit the model\n",
    "regr1.fit(train_x, train_y)\n",
    "\n",
    "# model2 using only AGE, NOX, DIS, and RAD as predictor variables.\n",
    "# select the columns contain only AGE, NOX, DIS, and RAD \n",
    "col = [4,6,7,8]\n",
    "train_x_selected = train_x[:,col] \n",
    "#create the linear regression model\n",
    "regr2 = linear_model.LinearRegression()\n",
    "# use training data to fit the model\n",
    "regr2.fit(train_x_selected, train_y)\n",
    "\n",
    "# model3 using all polynomial combinations of degree≤2 of the original thirteen predictor variables\n",
    "# max degree 2\n",
    "# create polynomial features object and transform training datas\n",
    "pf = PolynomialFeatures(degree=2,include_bias= True) \n",
    "xpf = pf.fit_transform(train_x)\n",
    "#create the linear regression model\n",
    "regr3 = linear_model.LinearRegression()\n",
    "# use training data to fit the model\n",
    "regr3.fit(xpf,train_y)"
   ]
  },
  {
   "cell_type": "markdown",
   "id": "a6870645",
   "metadata": {},
   "source": [
    "## 4.3\n",
    "For model assessment, print the following for each of the three models:\n",
    "- The $R^{2}$ of the predictions on the training set.\n",
    "- The $R^{2}$ of the predictions on the test set.\n",
    "- Predicted MEDV for the first five sample points in the test set.\n",
    "- True MEDV for the first five sample points in the test set."
   ]
  },
  {
   "cell_type": "code",
   "execution_count": 184,
   "id": "fa2770b0",
   "metadata": {},
   "outputs": [
    {
     "name": "stdout",
     "output_type": "stream",
     "text": [
      "Variance score of regression 1 on training set: 0.76670\n",
      "Variance score of regression 1 on test set: 0.68726\n",
      "Variance score of regression 2 on training set: 0.28151\n",
      "Variance score of regression 2 on test set: 0.18524\n",
      "Variance score of regression 3 on training set: 0.90708\n",
      "Variance score of regression 3 on test set: 0.75438\n",
      "the true MEDV for the first five sample points: [24.6  5.6 27.1 21.9 20. ] \n",
      "the predicted MEDV for the first five sample points on model1: [24.2652595  12.11746393 27.67012303 24.11419114 21.83525384] \n",
      "the predicted MEDV for the first five sample points on model2: [27.88749751 15.41806533 25.36918791 24.09219392 26.37783049] \n",
      "the predicted MEDV for the first five sample points on model3: [25.04007125  9.5174551  31.16530728 17.50326896 22.02355313] \n"
     ]
    }
   ],
   "source": [
    "# Explained variance score: 1 is perfect prediction \n",
    "\n",
    "# R2 of the traning and test set\n",
    "print('Variance score of regression 1 on training set: %.5f' % regr1.score(train_x, train_y))\n",
    "print('Variance score of regression 1 on test set: %.5f' % regr1.score(test_x, test_y))\n",
    "\n",
    "print('Variance score of regression 2 on training set: %.5f' % regr2.score(train_x_selected, train_y))\n",
    "print('Variance score of regression 2 on test set: %.5f' % regr2.score(test_x[:,col], test_y))\n",
    "\n",
    "# combine the test data\n",
    "xpf2 = pf.fit_transform(test_x)\n",
    "print('Variance score of regression 3 on training set: %.5f' % regr3.score(xpf, train_y))\n",
    "print('Variance score of regression 3 on test set: %.5f' % regr3.score(xpf2, test_y))\n",
    "\n",
    "# True MEDV values\n",
    "print('the true MEDV for the first five sample points: %s ' %  test_y[:5])\n",
    "\n",
    "# first 5 predictions of 3 models\n",
    "pred1 = regr1.predict(test_x[:5])\n",
    "print('the predicted MEDV for the first five sample points on model1: %s ' % pred1)\n",
    "\n",
    "pred2 = regr2.predict(test_x[:5][:,col])\n",
    "print('the predicted MEDV for the first five sample points on model2: %s ' % pred2)\n",
    "\n",
    "# combine the test features\n",
    "test_x_3 = test_x[:5]\n",
    "xpf3 = pf.fit_transform(test_x_3)\n",
    "pred3 = regr3.predict(xpf3)\n",
    "# python version 3.8.8 so the R2 value maybe different from other versions\n",
    "print('the predicted MEDV for the first five sample points on model3: %s ' % pred3)\n"
   ]
  },
  {
   "cell_type": "markdown",
   "id": "b1616690",
   "metadata": {},
   "source": [
    "## 4.4\n",
    "Comment on your results in 4.3, which model do you think is the best? Explain you answer."
   ]
  },
  {
   "cell_type": "markdown",
   "id": "718c0a15",
   "metadata": {},
   "source": [
    "### _Answer:_\n",
    "The third model is the best. Because R2 score of this model is the most closest to 1 value among the three models(0.91 train/0.75 test), and the first five predict MEDV is also very close to the first five true MEDV compared to other two models."
   ]
  },
  {
   "cell_type": "markdown",
   "id": "bf8555dd",
   "metadata": {},
   "source": [
    "## 4.5\n",
    "Consider the linear regression model using all original features you built above. Holding all other variables equal, what effect does the model predict that an increase in 0.1 parts per 10 million nitric oxide concentration in a place will have on the median value of of owner-occupied homes in that place? Write code that will return and print the answer."
   ]
  },
  {
   "cell_type": "code",
   "execution_count": 187,
   "id": "b5b653ca",
   "metadata": {},
   "outputs": [
    {
     "name": "stdout",
     "output_type": "stream",
     "text": [
      "The difference between two values(0.1*w4): 1.65\n",
      "the NOX coefficient of regression(w4): -16.50\n"
     ]
    }
   ],
   "source": [
    "# get prediction results\n",
    "pred1 = regr1.predict(test_x)\n",
    "\n",
    "# make test_x a copy to make changes\n",
    "new_test_x = test_x.copy()\n",
    "# add 0.1 to each NOX line \n",
    "for i in range(len(new_test_x[:,4])):\n",
    "    new_test_x[:,4][i] += 0.1\n",
    "# make new prediction\n",
    "pred2 = regr1.predict(new_test_x)\n",
    "\n",
    "# difference between two predictions\n",
    "diff = pred1[0] - pred2[0]\n",
    "\n",
    "# difference must be feature NOX's coefficient value times 0.1\n",
    "print(\"The difference between two values(0.1*w4): %.2f\" % diff)\n",
    "print(\"the NOX coefficient of regression(w4): %.2f\" % regr1.coef_[4])"
   ]
  },
  {
   "cell_type": "code",
   "execution_count": null,
   "id": "96bcd4fc",
   "metadata": {},
   "outputs": [],
   "source": []
  },
  {
   "cell_type": "code",
   "execution_count": null,
   "id": "cf47ef72",
   "metadata": {},
   "outputs": [],
   "source": []
  }
 ],
 "metadata": {
  "kernelspec": {
   "display_name": "Python 3",
   "language": "python",
   "name": "python3"
  },
  "language_info": {
   "codemirror_mode": {
    "name": "ipython",
    "version": 3
   },
   "file_extension": ".py",
   "mimetype": "text/x-python",
   "name": "python",
   "nbconvert_exporter": "python",
   "pygments_lexer": "ipython3",
   "version": "3.8.8"
  },
  "varInspector": {
   "cols": {
    "lenName": 16,
    "lenType": 16,
    "lenVar": 40
   },
   "kernels_config": {
    "python": {
     "delete_cmd_postfix": "",
     "delete_cmd_prefix": "del ",
     "library": "var_list.py",
     "varRefreshCmd": "print(var_dic_list())"
    },
    "r": {
     "delete_cmd_postfix": ") ",
     "delete_cmd_prefix": "rm(",
     "library": "var_list.r",
     "varRefreshCmd": "cat(var_dic_list()) "
    }
   },
   "types_to_exclude": [
    "module",
    "function",
    "builtin_function_or_method",
    "instance",
    "_Feature"
   ],
   "window_display": false
  }
 },
 "nbformat": 4,
 "nbformat_minor": 5
}
