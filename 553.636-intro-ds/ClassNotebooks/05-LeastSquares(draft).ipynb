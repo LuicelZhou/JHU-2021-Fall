{
 "cells": [
  {
   "cell_type": "markdown",
   "metadata": {},
   "source": [
    "<hr/>\n",
    "\n",
    "# Introduction to Data Science - Fall 2021\n",
    "**Jinchao Feng and Christian Kuemmerle** - introdsfall2021@jh.edu <br/>\n",
    "\n",
    "\n",
    "- Method of Least Squares\n",
    "\n",
    "- Linear Regression\n",
    "<hr/>"
   ]
  },
  {
   "cell_type": "markdown",
   "metadata": {
    "slideshow": {
     "slide_type": "slide"
    }
   },
   "source": [
    "<h1><font color=\"darkblue\">Method of Least Squares</font></h1>"
   ]
  },
  {
   "cell_type": "markdown",
   "metadata": {},
   "source": [
    "### Supervised learning vs Unsupervised learning\n",
    "\n",
    "- Fit a model to training set $\\big\\{ (x_i, y_i) \\big\\}$\n",
    "\n",
    "> input variables (X) and output variables (Y) \n",
    ">\n",
    "> learn the mapping function  $Y = f(X)$\n",
    ">\n",
    "> * Classification: when the output variable is a category (discrete)\n",
    ">\n",
    "> * Regression: when the output variable is a real value (continuous)\n",
    "\n",
    "\n",
    "- Model the underlying structure or distribution in the training set $\\big\\{ (x_i) \\big\\}$\n",
    "\n",
    "> you only have input data (X) \n",
    ">\n",
    "> Clustering and Dimensionality Reduction\n"
   ]
  },
  {
   "cell_type": "markdown",
   "metadata": {},
   "source": [
    "### The Idea (least squares)\n",
    "\n",
    "- Parameterized function $f(x;\\theta)$, where $\\theta$ can represent multiple parameters\n",
    "\n",
    "- Minimize the mean or sum of square errors or residuals (SSE误差平方和, MSE, SSR残差平方和? MSR?)\n",
    "\n",
    "> Residual   \n",
    ">$r_i(\\theta) = y_i - f(x_i;\\theta)$\n",
    ">\n",
    "> Estimation  \n",
    ">$\\displaystyle \\hat{\\theta} = \\arg\\min_{\\theta} \\sum_i \\big[y_i-f(x_i;\\theta)\\big]^2$\n",
    " \n",
    "- Optimization is simple for certain models"
   ]
  },
  {
   "cell_type": "markdown",
   "metadata": {},
   "source": [
    "### The Simplest Case\n",
    "- Fitting a constant? Model with $f(x;\\mu)=\\mu$\n",
    "\n",
    ">$\\displaystyle C(\\mu) = \\sum_{i=1}^N \\big(y_i\\!-\\!\\mu\\big)^2$\n",
    "\n",
    "- Derivative $C'= dC \\big/ d\\mu$ vanishes at solution $\\hat{\\mu}$\n",
    "\n",
    ">$\\displaystyle C'(\\hat{\\mu}) = 0$\n",
    ">\n",
    ">$\\displaystyle 2\\sum_{i=1}^N \\big(y_i\\!-\\!\\hat{\\mu}\\big)(-1)=0$\n",
    ">\n",
    ">$\\displaystyle \\sum_{i=1}^N y_i - N \\hat{\\mu} = 0 $\n",
    ">\n",
    ">$\\displaystyle \\hat{\\mu} = \\frac{1}{N}\\sum_{i=1}^N y_i \\ \\ \\ \\ \\ $  -  average"
   ]
  },
  {
   "cell_type": "markdown",
   "metadata": {},
   "source": [
    "<!--<img src='https://en.wikipedia.org/wiki/Heteroscedasticity#/media/File:Heteroscedasticity.png' width=400 align=left>-->\n",
    "\n",
    "<img src='files/Heteroscedasticity.png' width=400 align=left>"
   ]
  },
  {
   "cell_type": "markdown",
   "metadata": {},
   "source": [
    "### Heteroscedasticity\n",
    "\n",
    "- Same model with $f(x;\\mu)=\\mu$\n",
    "\n",
    ">$\\displaystyle C(\\mu) = \\sum_{i=1}^N \\frac{\\big(y_i\\!-\\!\\mu\\big)^2}{\\sigma_i^2} $\n",
    ">\n",
    "> with  $\\ w_i=1 \\big/ \\sigma_i^2$\n",
    ">\n",
    ">$\\displaystyle  C(\\mu) = \\sum_{i=1}^N w_i\\big(y_i\\!-\\!\\mu\\big)^2 $\n",
    "\n",
    "- Derivative $C'= dC \\big/ d\\mu$ vanishes at $\\hat{\\mu}$\n",
    "\n",
    ">$\\displaystyle C'(\\hat{\\mu}) = 0$\n",
    ">\n",
    ">$\\displaystyle 2\\sum_{i} w_i \\big(y_i\\!-\\!\\hat{\\mu}\\big)(-1)=0$\n",
    ">\n",
    ">$\\displaystyle \\sum_{i} w_i y_i - \\hat{\\mu}\\sum_{i} w_i  = 0 $\n",
    ">\n",
    ">$\\displaystyle \\hat{\\mu} = \\frac{\\sum w_i y_i}{\\sum w_i} \\ \\ \\ \\ \\ \\ $ - weighted average"
   ]
  },
  {
   "cell_type": "markdown",
   "metadata": {},
   "source": [
    "### Simple Fitting\n",
    "- A linear model with $\\boldsymbol{\\theta}=(a,b)^T$ parametrization $f(x;\\boldsymbol{\\theta}) = a + b\\,x$\n",
    "  \n",
    ">$\\displaystyle \\hat{\\boldsymbol\\theta} = \\arg\\min \\sum_i \\big[y_i-(a + b\\,x_i)\\big]^2$\n",
    "\n",
    "- Derivatives w.r.t. $a$ and $b$ should vanish\n",
    "\n",
    "> We have 2 variables and 2 equations\n",
    "> <br/><br/>\n",
    "> Quadratic becomes linear $\\rightarrow$ analytic solution!"
   ]
  },
  {
   "cell_type": "markdown",
   "metadata": {},
   "source": [
    "#### Unhomework\n",
    "\n",
    "1. Derive the best fit parameters of $(a,b)$"
   ]
  },
  {
   "cell_type": "markdown",
   "metadata": {},
   "source": [
    "### Linear Regression\n",
    "- A linear combination of known $\\phi_k(\\cdot)$ functions (basis functions)\n",
    "\n",
    ">$\\displaystyle f(x;\\boldsymbol{\\beta}) = \\sum_{k=1}^K \\beta_k\\, \\phi_k(x) $\n",
    "> <br/><br/>\n",
    "> It's a dot product\n",
    "> <br/><br/>\n",
    ">$\\displaystyle f(x;\\boldsymbol{\\beta}) = \\boldsymbol\\beta^T \\boldsymbol\\phi(x)$ \n",
    "> <br/><br/>\n",
    ">with $\\boldsymbol{\\beta}=(\\beta_1,\\dots,\\beta_K)^T$\n",
    "\n",
    "\n",
    "- Linear in $\\boldsymbol{\\beta}$, cost function is quadratic\n",
    "\n",
    ">$\\displaystyle C = \\sum_{i=1}^N \\left\\{ y_i - \\sum_{k=1}^K \\beta_k\\, \\phi_k(x_i) \\right\\}^2$"
   ]
  },
  {
   "cell_type": "markdown",
   "metadata": {},
   "source": [
    "\n",
    "- Introducing matrix $X$ with components\n",
    "\n",
    ">$\\displaystyle X_{ik} = \\phi_k(x_i) $\n",
    "\n",
    "- Linear in $\\boldsymbol{\\beta}$, cost function is quadratic\n",
    "\n",
    ">$\\displaystyle C = \\sum_{i=1}^N \\left\\{ y_i - \\sum_{k=1}^K X_{ik}\\beta_k\\right\\}^2$\n",
    "\n",
    "\n"
   ]
  },
  {
   "cell_type": "markdown",
   "metadata": {},
   "source": [
    "### Minimization\n",
    "\n",
    "- Partial derivatives\n",
    "  \n",
    "\n",
    ">$\\displaystyle \\frac{\\partial{}C}{\\partial{}\\beta_l} = 2\\sum_i \\left\\{ y_i - \\sum_{k=1}^K X_{ik}\\beta_k \\right\\} \n",
    "\\left[ -\\frac{\\partial f(x_i;\\boldsymbol{\\beta})}{\\partial \\beta_l} \\right]$\n",
    "> <br/><br/>\n",
    "> and\n",
    "> <br/><br/>\n",
    ">$\\displaystyle \\frac{\\partial f(x_i;\\boldsymbol{\\beta})}{\\partial \\beta_l} =\\sum_k \\frac{\\partial{}\\beta_k}{\\partial{}\\beta_l}\\,\\phi_k(x_i) = \\phi_l(x_i) = X_{il}$\n",
    "> <br/><br/>\n",
    "> **Note:** $\\partial{}\\beta_k \\big/ \\partial{}\\beta_l=\\delta_{kl}$ Kronecker delta"
   ]
  },
  {
   "cell_type": "markdown",
   "metadata": {},
   "source": [
    "### Detour: The Kronecker Delta\n",
    "\n",
    "- Definition\n",
    "\n",
    ">$ \\delta_{kl} = \\left\\{ \\begin{array}{ll}\n",
    "         1 & \\mbox{if $k=l$}\\\\\n",
    "         0 & \\mbox{if $k\\neq{}l$}\\end{array} \\right.  $\n",
    "         \n",
    "- Useful to remember\n",
    "\n",
    ">$ \\displaystyle \\sum_l \\delta_{kl}\\,a_l = a_k$\n",
    "> <br/><br/>\n",
    "> Cf. identity matrix:\n",
    ">$ I\\, \\boldsymbol{a} = \\boldsymbol{a}$"
   ]
  },
  {
   "cell_type": "markdown",
   "metadata": {},
   "source": [
    "### Result\n",
    "\n",
    "- At the optimum we have\n",
    "\n",
    "\n",
    ">$\\displaystyle \\sum_i \\left\\{ y_i - \\sum_{k} \\hat\\beta_k\\, \\phi_k(x_i) \\right\\}\\, \\phi_l(x_i)  = 0$\n",
    "> <br/><br/>\n",
    ">$\\displaystyle \\sum_i \\left\\{ y_i - \\sum_{k} X_{ik}\\hat\\beta_k\\ \\right\\}\\, X_{il}  = 0$\n",
    "> <br/><br/>\n",
    ">$\\displaystyle \\sum_i X_{il} y_i  - \\sum_i \\sum_k  X_{il} X_{ik} \\hat{\\beta}_k = 0$\n",
    "> <br/><br/>\n",
    ">$\\displaystyle \\sum_i  X_{il} y_i = \\sum_k \\left(\\sum_i X_{il} X_{ik}\\right) \\hat{\\beta}_k$\n",
    "\n",
    "- I.e.,\n",
    "\n",
    ">$\\displaystyle X^T y = X^T X \\hat{\\beta} $\n",
    "> <br/><br/>\n",
    ">$\\displaystyle \\hat\\beta = (X^T X)^{-1} X^T y = X^+ y$\n",
    "\n",
    "- See **Moore-Penrose pseudoinverse**, **generalized inverse**\n",
    "\n",
    "- See also **Singular Value Decomposition**"
   ]
  },
  {
   "cell_type": "markdown",
   "metadata": {},
   "source": [
    "### Hat matrix\n",
    "\n",
    "- Looking at the definition of $X$ we see that the model at $\\hat{\\beta}$ predicts $\\hat{y}_i$ values\n",
    "\n",
    ">$\\displaystyle \\hat{y} = X\\,\\hat\\beta = X\\,(X^T X)^{-1} X^T y $\n",
    "> <br/><br/>\n",
    "> which is\n",
    "> <br/><br/>\n",
    ">$\\displaystyle \\hat{y}  = H\\,y\\ \\ \\ $\n",
    "> with \n",
    ">$\\ \\ \\displaystyle {H} = X\\,(X^T X)^{-1} X^T$"
   ]
  },
  {
   "cell_type": "code",
   "execution_count": 2,
   "metadata": {},
   "outputs": [
    {
     "name": "stdout",
     "output_type": "stream",
     "text": [
      "Populating the interactive namespace from numpy and matplotlib\n"
     ]
    }
   ],
   "source": [
    "%pylab inline"
   ]
  },
  {
   "cell_type": "code",
   "execution_count": 16,
   "metadata": {},
   "outputs": [
    {
     "data": {
      "image/png": "[encoded data removed]",
      "text/plain": [
       "<Figure size 432x288 with 1 Axes>"
      ]
     },
     "metadata": {
      "needs_background": "light"
     },
     "output_type": "display_data"
    }
   ],
   "source": [
    "# generate sample with error\n",
    "x = 3 * random.rand(30) # between 0 and 3\n",
    "e = 1 * random.randn(x.size) # noise\n",
    "#y = (0.1*x**3 + 0.5*x**2 + 2*x + 1) + e;  plot(x,y,'bo');\n",
    "y = 10*cos(x+1) + e;  plot(x,y,'bx');"
   ]
  },
  {
   "cell_type": "code",
   "execution_count": 17,
   "metadata": {},
   "outputs": [
    {
     "data": {
      "text/plain": [
       "array([ 0.12845284, -4.17752646])"
      ]
     },
     "execution_count": 17,
     "metadata": {},
     "output_type": "execute_result"
    },
    {
     "data": {
      "image/png": "[encoded data removed]",
      "text/plain": [
       "<Figure size 432x288 with 1 Axes>"
      ]
     },
     "metadata": {
      "needs_background": "light"
     },
     "output_type": "display_data"
    }
   ],
   "source": [
    "# linear model f(x) = b0 + b1 x\n",
    "X = np.ones((x.size,2));\n",
    "X[:,1] = x\n",
    "Xpinv = dot(inv(dot(X.T,X)),X.T)\n",
    "bHat = dot(Xpinv,y)\n",
    "yHat = dot(X,bHat)\n",
    "\n",
    "plot(x,y,'bx'); plot(x,yHat,'ro'); bHat"
   ]
  },
  {
   "cell_type": "code",
   "execution_count": 18,
   "metadata": {},
   "outputs": [
    {
     "data": {
      "text/plain": [
       "array([ 0.12845284, -4.17752646])"
      ]
     },
     "execution_count": 18,
     "metadata": {},
     "output_type": "execute_result"
    },
    {
     "data": {
      "image/png": "[encoded data removed]",
      "text/plain": [
       "<Figure size 432x288 with 1 Axes>"
      ]
     },
     "metadata": {
      "needs_background": "light"
     },
     "output_type": "display_data"
    }
   ],
   "source": [
    "# same using methods\n",
    "Xpinv = inv(X.T.dot(X)).dot(X.T)\n",
    "bHat = Xpinv.dot(y)\n",
    "yHat = X.dot(bHat)\n",
    "\n",
    "plot(x,y,'bx'); plot(x,yHat,'ro'); bHat"
   ]
  },
  {
   "cell_type": "code",
   "execution_count": 19,
   "metadata": {},
   "outputs": [
    {
     "data": {
      "image/png": "[encoded data removed]",
      "text/plain": [
       "<Figure size 432x288 with 1 Axes>"
      ]
     },
     "metadata": {
      "needs_background": "light"
     },
     "output_type": "display_data"
    }
   ],
   "source": [
    "# same again with pinv() and the Hat matrix\n",
    "H = X.dot(linalg.pinv(X)) \n",
    "yHat = H.dot(y)\n",
    "\n",
    "plot(x,y,'bx'); plot(x,yHat,'ro');"
   ]
  },
  {
   "cell_type": "code",
   "execution_count": 55,
   "metadata": {},
   "outputs": [
    {
     "name": "stdout",
     "output_type": "stream",
     "text": [
      "training MSE is: 5.93004\n",
      "R-squared is: 0.51311\n"
     ]
    }
   ],
   "source": [
    "# MSE and R-squared\n",
    "print('training MSE is: %.5f' % mean((y-yHat)**2))\n",
    "print('R-squared is: %.5f' % (1- sum((y-yHat)**2)/sum((y-mean(y))**2))) # 1- sum of squares of residuals/total sum of squares "
   ]
  },
  {
   "cell_type": "code",
   "execution_count": 56,
   "metadata": {},
   "outputs": [
    {
     "data": {
      "image/png": "[encoded data removed]",
      "text/plain": [
       "<Figure size 432x288 with 1 Axes>"
      ]
     },
     "metadata": {
      "needs_background": "light"
     },
     "output_type": "display_data"
    }
   ],
   "source": [
    "# linear model f(x) = b0 + b1 x + b2 * x^2\n",
    "X = np.ones((x.size,3));\n",
    "X[:,1] = x # partials wrt. b1\n",
    "X[:,2] = x*x # wrt. b2\n",
    "\n",
    "# sames as before\n",
    "bHatQ = linalg.pinv(X).dot(y)\n",
    "yHatQ = X.dot(bHatQ)\n",
    "\n",
    "# or like this\n",
    "H = dot(X,linalg.pinv(X))\n",
    "yHatQ = dot(H,y)\n",
    "\n",
    "plot(x,y,'bx'); plot(x,yHatQ,'ro');"
   ]
  },
  {
   "cell_type": "code",
   "execution_count": 57,
   "metadata": {},
   "outputs": [
    {
     "name": "stdout",
     "output_type": "stream",
     "text": [
      "training MSE is: 0.71986\n",
      "R-squared is: 0.94090\n"
     ]
    }
   ],
   "source": [
    "# MSE and R-squared\n",
    "print('training MSE is: %.5f' % mean((y-yHatQ)**2))\n",
    "print('R-squared is: %.5f' % (1- sum((y-yHatQ)**2)/sum((y-mean(y))**2))) "
   ]
  },
  {
   "cell_type": "code",
   "execution_count": 58,
   "metadata": {},
   "outputs": [
    {
     "data": {
      "image/png": "[encoded data removed]",
      "text/plain": [
       "<Figure size 432x288 with 1 Axes>"
      ]
     },
     "metadata": {
      "needs_background": "light"
     },
     "output_type": "display_data"
    }
   ],
   "source": [
    "def poly(x,n):\n",
    "    X = np.zeros((x.size,n+1));\n",
    "    for k in range(X.shape[1]):\n",
    "        X[:,k] = x**k\n",
    "    return X\n",
    "\n",
    "# show data in black\n",
    "plot(x,y,'kx'); ylim(-20,20);\n",
    "\n",
    "xx = np.linspace(-1,4,500) # grid on x\n",
    "color = 'yrgbm' * 5 # color sequence\n",
    "for n in range(0,3):\n",
    "    X = poly(x,n) # design matrix for fitting\n",
    "    bHat = linalg.pinv(X) @ y # matrix multiply\n",
    "    yy = poly(xx,n) @ bHat # prediction\n",
    "    plot(xx,yy,'-',c=color[n],alpha=0.5);     "
   ]
  },
  {
   "cell_type": "markdown",
   "metadata": {},
   "source": [
    "### Unhomework\n",
    "\n",
    "1. Fit a 3rd order polynomial to the same data\n",
    "\n",
    "1. Fit $f(x;\\beta_0,\\beta_1) = \\beta_0\\sin(x) + \\beta_1\\cos(x)$\n",
    "\n",
    "1. Evaluate the best fits on a grid of 1000 equally-spaced points in $[-1,4]$\n",
    "\n",
    "1. Plot them in one figure"
   ]
  },
  {
   "cell_type": "markdown",
   "metadata": {},
   "source": [
    "\n",
    "### Heteroscedastic error\n",
    "\n",
    "- Simple modification\n",
    "\n",
    ">$\\displaystyle C = \\sum_{i=1}^N w_i \\left\\{ y_i - \\sum_{k=1}^K X_{ik}\\beta_k\\right\\}^2$\n",
    "> <br/><br/>\n",
    "> yields\n",
    "> <br/><br/>\n",
    ">$\\displaystyle \\sum_i w_i \\left\\{ y_i - \\sum_{k} X_{ik} \\hat\\beta_k\\ \\right\\}\\, X_{il}  = 0$\n",
    "> <br/><br/>\n",
    ">$\\displaystyle \\sum_i  X_{il} w_i y_i = \\sum_k \\left(\\sum_i X_{il} w_i X_{ik}\\right) \\hat{\\beta}_k$\n",
    "\n",
    "\n",
    "- Diagonal weight matrix $W$\n",
    "\n",
    ">$\\displaystyle X^T W y = X^T W X \\hat{\\beta} $\n",
    "> <br/><br/>\n",
    ">$\\displaystyle \\hat\\beta = (X^T W X)^{-1} X^T W y $\n",
    "> <br/><br/>\n",
    "> If not diagonal, correlated errors!\n",
    "\n"
   ]
  },
  {
   "cell_type": "markdown",
   "metadata": {},
   "source": [
    "### Underfitting vs. Overfitting"
   ]
  },
  {
   "cell_type": "code",
   "execution_count": 59,
   "metadata": {},
   "outputs": [],
   "source": [
    "from sklearn.preprocessing import PolynomialFeatures\n",
    "from sklearn.linear_model import LinearRegression"
   ]
  },
  {
   "cell_type": "code",
   "execution_count": 66,
   "metadata": {},
   "outputs": [
    {
     "name": "stdout",
     "output_type": "stream",
     "text": [
      "training MSE is: 0.44259\n",
      "R-squared is: 0.96366\n",
      "testing MSE is: 66447964.22122\n",
      "R-squared is: -2631307.20636\n"
     ]
    }
   ],
   "source": [
    "k = 15\n",
    "pf = PolynomialFeatures(degree=k,include_bias=False)\n",
    "lr = LinearRegression()\n",
    "xpf = pf.fit_transform(array(x)[:, np.newaxis])\n",
    "lr.fit(xpf,y)\n",
    "yHat = lr.predict(xpf)\n",
    "print('training MSE is: %.5f' % mean((y-yHat)**2))\n",
    "print('R-squared is: %.5f' % lr.score(xpf,y)) # R-squared = 1- sum((y-yHat)**2)/sum((y-mean(y))**2)\n",
    "\n",
    "xtest = 3 * random.rand(50)\n",
    "xtpf = pf.fit_transform(array(xtest)[:, np.newaxis])\n",
    "e = 1 * random.randn(xtest.size) # noise\n",
    "#y = (0.1*x**3 + 0.5*x**2 + 2*x + 1) + e;  plot(x,y,'bo');\n",
    "ytest = 10*cos(xtest+1) + e; \n",
    "print('testing MSE is: %.5f' % mean((ytest-lr.predict(xtpf))**2))\n",
    "print('R-squared is: %.5f' % lr.score(xtpf,ytest))"
   ]
  },
  {
   "cell_type": "code",
   "execution_count": 67,
   "metadata": {},
   "outputs": [
    {
     "data": {
      "text/plain": [
       "<matplotlib.legend.Legend at 0x7f98b3f51588>"
      ]
     },
     "execution_count": 67,
     "metadata": {},
     "output_type": "execute_result"
    },
    {
     "data": {
      "image/png": "[encoded data removed]",
      "text/plain": [
       "<Figure size 432x288 with 1 Axes>"
      ]
     },
     "metadata": {
      "needs_background": "light"
     },
     "output_type": "display_data"
    }
   ],
   "source": [
    "xx = np.linspace(0, 3, 1000)\n",
    "plt.plot(xx, lr.predict(pf.fit_transform(xx[:, np.newaxis])), label=\"Model\")\n",
    "plt.plot(xx, 10*cos(xx+1), label=\"True function\")\n",
    "plt.scatter(x, y, edgecolor='b', s=20, label=\"Samples\")\n",
    "plt.xlabel(\"x\")\n",
    "plt.ylabel(\"y\")\n",
    "plt.xlim((0, 3))\n",
    "plt.ylim((-14, 6))\n",
    "plt.legend(loc=\"best\")"
   ]
  },
  {
   "cell_type": "markdown",
   "metadata": {},
   "source": [
    "### Bias-Variance Tradeoff\n",
    "\n",
    "- $\\displaystyle \\mathbb{E}[(y-\\hat f(x))^2] = \\big(\\mathbb{E}[\\hat{f}(x)] - f(x)\\big)^2 + \\mathbb{E}\\big[(\\hat{f}(x) - \\mathbb{E}[\\hat{f}(x)])^2\\big] + \\sigma^2_{\\epsilon}$\n",
    "> unhomework: prove it.\n",
    "\n",
    "- Bias: the difference between the average prediction of our model and the correct value which we are trying to predict. \n",
    "> Model with high bias pays very little attention to the training data and oversimplifies the model. It always leads to high error on training and test data (underfitting).\n",
    "\n",
    "- Variance: the variability of model prediction for a given data point or a value which tells us spread of our data.\n",
    "> Model with high variance pays a lot of attention to training data and does not generalize on the data which it hasn’t seen before. As a result, such models perform very well on training data but has high error rates on test data (overfitting).\n",
    "\n",
    "<img src='files/BiasVarianceTradeoff.png' width=400 align=left>"
   ]
  },
  {
   "cell_type": "markdown",
   "metadata": {},
   "source": [
    "### Regularization\n",
    "\n",
    "Penalize large coefficients in $\\beta$\n",
    "\n",
    "- **Ridge regression** uses $L_2$\n",
    "\n",
    "> $\\displaystyle \\hat{\\beta} = \\arg\\!\\min_{\\beta} \\, \\lvert y- X\\beta \\,\\rvert^2_2\\ + \\lambda\\,\\lvert\\beta\\rvert^2_2$  \n",
    "><br/>\n",
    "> or even with a constant matrix $\\Gamma$\n",
    "><br/><br/>\n",
    "> $\\displaystyle \\hat{\\beta} = \\arg\\!\\min_{\\beta} \\, \\lvert y- X\\beta \\,\\rvert^2_2 + \\lambda\\,\\lvert\\Gamma\\beta\\rvert^2_2$  \n",
    "\n",
    "- **Lasso regression** uses $L_1$\n",
    "\n",
    "> $\\displaystyle \\hat{\\beta} = \\arg\\!\\min_{\\beta}  \\, \\lvert y- X\\beta \\,\\rvert^2_2 + \\lambda\\,\\lvert\\beta\\rvert_1$ \n",
    "><br/><br/>\n",
    "> $L_1$ yields sparse results\n",
    "\n",
    "Different geometric meanings! "
   ]
  },
  {
   "cell_type": "code",
   "execution_count": null,
   "metadata": {},
   "outputs": [],
   "source": []
  }
 ],
 "metadata": {
  "anaconda-cloud": {},
  "kernelspec": {
   "display_name": "Python 3",
   "language": "python",
   "name": "python3"
  },
  "language_info": {
   "codemirror_mode": {
    "name": "ipython",
    "version": 3
   },
   "file_extension": ".py",
   "mimetype": "text/x-python",
   "name": "python",
   "nbconvert_exporter": "python",
   "pygments_lexer": "ipython3",
   "version": "3.8.8"
  }
 },
 "nbformat": 4,
 "nbformat_minor": 1
}
