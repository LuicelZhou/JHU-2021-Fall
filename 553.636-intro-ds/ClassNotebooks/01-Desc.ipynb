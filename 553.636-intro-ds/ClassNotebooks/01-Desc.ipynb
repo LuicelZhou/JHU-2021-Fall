{
 "cells": [
  {
   "cell_type": "markdown",
   "metadata": {
    "slideshow": {
     "slide_type": "slide"
    }
   },
   "source": [
    "<hr/>\n",
    "\n",
    "# Introduction to Data Science - Fall 2021\n",
    "**Jinchao Feng and Christian Kuemmerle** - introdsfall2021@jh.edu <br/>\n",
    "\n",
    "- Python and Jupyter Notebook \n",
    "- Summary statistics of data sets\n",
    "\n",
    "<hr/>"
   ]
  },
  {
   "cell_type": "markdown",
   "metadata": {
    "slideshow": {
     "slide_type": "slide"
    }
   },
   "source": [
    "<h1><font color=\"darkblue\">Descriptive Statistics</font></h1>"
   ]
  },
  {
   "cell_type": "markdown",
   "metadata": {},
   "source": [
    "## Data Sets\n",
    "\n",
    "Q: What is a _data set_?\n",
    "\n",
    "Most generally: Collection of numbers (1D or higher dimensional) associated to \"something\" we want to understand and/or predict.\n",
    "\n",
    "For example, a set of $N$ scalar measurements \n",
    "\n",
    ">$ \\displaystyle \\big\\{x_i\\big\\}_{i=1}^N $.\n",
    "\n",
    "#### Example: Maximum temperature at a weather station in different years. \n",
    "\n",
    "http://unstats.un.org/unsd/snaama/selbasicFast.asp.\n",
    "\n",
    "http://www.metoffice.gov.uk/pub/data/weather/uk/climate/stationdata/oxforddata.txt\n",
    "\n",
    "Corresponds to maximum temperatures in Oxford, England in $N=150$ different years."
   ]
  },
  {
   "cell_type": "markdown",
   "metadata": {},
   "source": [
    "### How to characterize the data?\n",
    "\n",
    "Powerful idea: \n",
    "\n",
    "Consider data points $ \\displaystyle \\big\\{x_i\\big\\}_{i=1}^N $ to be **samples** from a **(probability) distribution** which is _unknown_ a priori.\n",
    "\n",
    "Therefore: How to obtain estimates of\n",
    "\n",
    "- Location,\n",
    "- Dispersion,\n",
    "- Shape\n",
    "\n",
    "of data set?\n",
    "\n",
    "- Histograms"
   ]
  },
  {
   "cell_type": "markdown",
   "metadata": {},
   "source": [
    "## Jupyter Notebooks\n",
    "- Interactive data analysis made easy\n",
    "- And here is how you do it\n",
    "\n",
    "### Some basic Python\n",
    "\n",
    "With the following line, we use a for-loop to create a _list_:"
   ]
  },
  {
   "cell_type": "code",
   "execution_count": null,
   "metadata": {},
   "outputs": [],
   "source": [
    "list1 = [i*i for i in range(5)]\n",
    "list1"
   ]
  },
  {
   "cell_type": "code",
   "execution_count": null,
   "metadata": {},
   "outputs": [],
   "source": [
    "len(list1)"
   ]
  },
  {
   "cell_type": "markdown",
   "metadata": {},
   "source": [
    "### [numpy](https://numpy.org/doc/stable/)\n",
    "\n",
    "One of most important Python packages for our purposes.\n",
    "\n",
    "Some features:\n",
    "  - Manipulation of multidimensional arrays (simple data representation)\n",
    "  - Common mathematical functions, such as linear algebra operations\n",
    "  - Pseudo-random number generation for sampling from distributions"
   ]
  },
  {
   "cell_type": "code",
   "execution_count": 4,
   "metadata": {},
   "outputs": [],
   "source": [
    "# Let's first import the numpy module.\n",
    "import numpy as np # it is a very common convention to import numpy as \"np\" (since shorter) "
   ]
  },
  {
   "cell_type": "markdown",
   "metadata": {},
   "source": [
    "We simulate a data set that behaves like a _standard normal distribution_:"
   ]
  },
  {
   "cell_type": "code",
   "execution_count": 5,
   "metadata": {},
   "outputs": [],
   "source": [
    "N = 1000;\n",
    "x = np.random.randn(N);"
   ]
  },
  {
   "cell_type": "code",
   "execution_count": 6,
   "metadata": {},
   "outputs": [
    {
     "name": "stdout",
     "output_type": "stream",
     "text": [
      "0.3635891253821584\n"
     ]
    }
   ],
   "source": [
    "print (x[0])"
   ]
  },
  {
   "cell_type": "code",
   "execution_count": null,
   "metadata": {},
   "outputs": [],
   "source": [
    "# indexing from 0\n",
    "print (\"%f, %f, ..., %f , %f\" % (x[0], x[1], x[N-2], x[N-1]))\n",
    "\n",
    "# last element: Can be also accessed via index \"-1\":\n",
    "print (\"%f = %f\" % (x[N-1], x[-1]))"
   ]
  },
  {
   "cell_type": "code",
   "execution_count": null,
   "metadata": {},
   "outputs": [],
   "source": [
    "# another way of printing some of the data\n",
    "for i in (range(0,4) and range(N-3,N)):\n",
    "    print (\"%d : \\t %r\" % (i, x[i]))"
   ]
  },
  {
   "cell_type": "code",
   "execution_count": null,
   "metadata": {},
   "outputs": [],
   "source": [
    "# example of error due to index out of bounds\n",
    "for i in range(N-3,N+1):\n",
    "    print (\"%d : \\t %r\" % (i, x[i]))"
   ]
  },
  {
   "cell_type": "code",
   "execution_count": null,
   "metadata": {},
   "outputs": [],
   "source": [
    "# error handling with exceptions\n",
    "for i in range(N-3,N+5):\n",
    "    try: \n",
    "        print (\"%d : \\t %r\" % (i, x[i]))\n",
    "    except IndexError as err: \n",
    "        print (err)"
   ]
  },
  {
   "cell_type": "markdown",
   "metadata": {},
   "source": [
    "### [matplotlib](https://matplotlib.org)\n",
    "\n",
    "A very popular and powerful Python package for visualization and plotting.\n",
    "\n",
    "  - line charts\n",
    "  - scatter plots\n",
    "  - histograms\n",
    "\n",
    "Sometimes a lot of scrolling through documentation needed in order to obtain what you want."
   ]
  },
  {
   "cell_type": "code",
   "execution_count": 2,
   "metadata": {},
   "outputs": [],
   "source": [
    "import matplotlib.pyplot as plt # common convention to import matplotlib.pyplot as \"plt\""
   ]
  },
  {
   "cell_type": "markdown",
   "metadata": {},
   "source": [
    "The following useful _magic commands_ use IPython and are Jupyter-specfic (start with \"%\"), cf. https://ipython.readthedocs.io/en/stable/interactive/magics.html?highlight=magic:\n",
    "\n",
    "With \"inline\", plots created by matplotlib appear below cell in line."
   ]
  },
  {
   "cell_type": "code",
   "execution_count": 7,
   "metadata": {},
   "outputs": [
    {
     "data": {
      "image/png": "[encoded data removed]",
      "text/plain": [
       "<Figure size 432x288 with 1 Axes>"
      ]
     },
     "metadata": {
      "needs_background": "light"
     },
     "output_type": "display_data"
    }
   ],
   "source": [
    "%matplotlib inline\n",
    "plt.plot(x,'bo');"
   ]
  },
  {
   "cell_type": "markdown",
   "metadata": {},
   "source": [
    "With \"notebook\", plots created by matplotlib are interactive. Especially helpful for more complicated visualizations (e.g., 3D)."
   ]
  },
  {
   "cell_type": "code",
   "execution_count": 8,
   "metadata": {},
   "outputs": [
    {
     "data": {
      "application/javascript": [
       "/* Put everything inside the global mpl namespace */\n",
       "/* global mpl */\n",
       "window.mpl = {};\n",
       "\n",
       "mpl.get_websocket_type = function () {\n",
       "    if (typeof WebSocket !== 'undefined') {\n",
       "        return WebSocket;\n",
       "    } else if (typeof MozWebSocket !== 'undefined') {\n",
       "        return MozWebSocket;\n",
       "    } else {\n",
       "        alert(\n",
       "            'Your browser does not have WebSocket support. ' +\n",
       "                'Please try Chrome, Safari or Firefox ≥ 6. ' +\n",
       "                'Firefox 4 and 5 are also supported but you ' +\n",
       "                'have to enable WebSockets in about:config.'\n",
       "        );\n",
       "    }\n",
       "};\n",
       "\n",
       "mpl.figure = function (figure_id, websocket, ondownload, parent_element) {\n",
       "    this.id = figure_id;\n",
       "\n",
       "    this.ws = websocket;\n",
       "\n",
       "    this.supports_binary = this.ws.binaryType !== undefined;\n",
       "\n",
       "    if (!this.supports_binary) {\n",
       "        var warnings = document.getElementById('mpl-warnings');\n",
       "        if (warnings) {\n",
       "            warnings.style.display = 'block';\n",
       "            warnings.textContent =\n",
       "                'This browser does not support binary websocket messages. ' +\n",
       "                'Performance may be slow.';\n",
       "        }\n",
       "    }\n",
       "\n",
       "    this.imageObj = new Image();\n",
       "\n",
       "    this.context = undefined;\n",
       "    this.message = undefined;\n",
       "    this.canvas = undefined;\n",
       "    this.rubberband_canvas = undefined;\n",
       "    this.rubberband_context = undefined;\n",
       "    this.format_dropdown = undefined;\n",
       "\n",
       "    this.image_mode = 'full';\n",
       "\n",
       "    this.root = document.createElement('div');\n",
       "    this.root.setAttribute('style', 'display: inline-block');\n",
       "    this._root_extra_style(this.root);\n",
       "\n",
       "    parent_element.appendChild(this.root);\n",
       "\n",
       "    this._init_header(this);\n",
       "    this._init_canvas(this);\n",
       "    this._init_toolbar(this);\n",
       "\n",
       "    var fig = this;\n",
       "\n",
       "    this.waiting = false;\n",
       "\n",
       "    this.ws.onopen = function () {\n",
       "        fig.send_message('supports_binary', { value: fig.supports_binary });\n",
       "        fig.send_message('send_image_mode', {});\n",
       "        if (fig.ratio !== 1) {\n",
       "            fig.send_message('set_dpi_ratio', { dpi_ratio: fig.ratio });\n",
       "        }\n",
       "        fig.send_message('refresh', {});\n",
       "    };\n",
       "\n",
       "    this.imageObj.onload = function () {\n",
       "        if (fig.image_mode === 'full') {\n",
       "            // Full images could contain transparency (where diff images\n",
       "            // almost always do), so we need to clear the canvas so that\n",
       "            // there is no ghosting.\n",
       "            fig.context.clearRect(0, 0, fig.canvas.width, fig.canvas.height);\n",
       "        }\n",
       "        fig.context.drawImage(fig.imageObj, 0, 0);\n",
       "    };\n",
       "\n",
       "    this.imageObj.onunload = function () {\n",
       "        fig.ws.close();\n",
       "    };\n",
       "\n",
       "    this.ws.onmessage = this._make_on_message_function(this);\n",
       "\n",
       "    this.ondownload = ondownload;\n",
       "};\n",
       "\n",
       "mpl.figure.prototype._init_header = function () {\n",
       "    var titlebar = document.createElement('div');\n",
       "    titlebar.classList =\n",
       "        'ui-dialog-titlebar ui-widget-header ui-corner-all ui-helper-clearfix';\n",
       "    var titletext = document.createElement('div');\n",
       "    titletext.classList = 'ui-dialog-title';\n",
       "    titletext.setAttribute(\n",
       "        'style',\n",
       "        'width: 100%; text-align: center; padding: 3px;'\n",
       "    );\n",
       "    titlebar.appendChild(titletext);\n",
       "    this.root.appendChild(titlebar);\n",
       "    this.header = titletext;\n",
       "};\n",
       "\n",
       "mpl.figure.prototype._canvas_extra_style = function (_canvas_div) {};\n",
       "\n",
       "mpl.figure.prototype._root_extra_style = function (_canvas_div) {};\n",
       "\n",
       "mpl.figure.prototype._init_canvas = function () {\n",
       "    var fig = this;\n",
       "\n",
       "    var canvas_div = (this.canvas_div = document.createElement('div'));\n",
       "    canvas_div.setAttribute(\n",
       "        'style',\n",
       "        'border: 1px solid #ddd;' +\n",
       "            'box-sizing: content-box;' +\n",
       "            'clear: both;' +\n",
       "            'min-height: 1px;' +\n",
       "            'min-width: 1px;' +\n",
       "            'outline: 0;' +\n",
       "            'overflow: hidden;' +\n",
       "            'position: relative;' +\n",
       "            'resize: both;'\n",
       "    );\n",
       "\n",
       "    function on_keyboard_event_closure(name) {\n",
       "        return function (event) {\n",
       "            return fig.key_event(event, name);\n",
       "        };\n",
       "    }\n",
       "\n",
       "    canvas_div.addEventListener(\n",
       "        'keydown',\n",
       "        on_keyboard_event_closure('key_press')\n",
       "    );\n",
       "    canvas_div.addEventListener(\n",
       "        'keyup',\n",
       "        on_keyboard_event_closure('key_release')\n",
       "    );\n",
       "\n",
       "    this._canvas_extra_style(canvas_div);\n",
       "    this.root.appendChild(canvas_div);\n",
       "\n",
       "    var canvas = (this.canvas = document.createElement('canvas'));\n",
       "    canvas.classList.add('mpl-canvas');\n",
       "    canvas.setAttribute('style', 'box-sizing: content-box;');\n",
       "\n",
       "    this.context = canvas.getContext('2d');\n",
       "\n",
       "    var backingStore =\n",
       "        this.context.backingStorePixelRatio ||\n",
       "        this.context.webkitBackingStorePixelRatio ||\n",
       "        this.context.mozBackingStorePixelRatio ||\n",
       "        this.context.msBackingStorePixelRatio ||\n",
       "        this.context.oBackingStorePixelRatio ||\n",
       "        this.context.backingStorePixelRatio ||\n",
       "        1;\n",
       "\n",
       "    this.ratio = (window.devicePixelRatio || 1) / backingStore;\n",
       "\n",
       "    var rubberband_canvas = (this.rubberband_canvas = document.createElement(\n",
       "        'canvas'\n",
       "    ));\n",
       "    rubberband_canvas.setAttribute(\n",
       "        'style',\n",
       "        'box-sizing: content-box; position: absolute; left: 0; top: 0; z-index: 1;'\n",
       "    );\n",
       "\n",
       "    // Apply a ponyfill if ResizeObserver is not implemented by browser.\n",
       "    if (this.ResizeObserver === undefined) {\n",
       "        if (window.ResizeObserver !== undefined) {\n",
       "            this.ResizeObserver = window.ResizeObserver;\n",
       "        } else {\n",
       "            var obs = _JSXTOOLS_RESIZE_OBSERVER({});\n",
       "            this.ResizeObserver = obs.ResizeObserver;\n",
       "        }\n",
       "    }\n",
       "\n",
       "    this.resizeObserverInstance = new this.ResizeObserver(function (entries) {\n",
       "        var nentries = entries.length;\n",
       "        for (var i = 0; i < nentries; i++) {\n",
       "            var entry = entries[i];\n",
       "            var width, height;\n",
       "            if (entry.contentBoxSize) {\n",
       "                if (entry.contentBoxSize instanceof Array) {\n",
       "                    // Chrome 84 implements new version of spec.\n",
       "                    width = entry.contentBoxSize[0].inlineSize;\n",
       "                    height = entry.contentBoxSize[0].blockSize;\n",
       "                } else {\n",
       "                    // Firefox implements old version of spec.\n",
       "                    width = entry.contentBoxSize.inlineSize;\n",
       "                    height = entry.contentBoxSize.blockSize;\n",
       "                }\n",
       "            } else {\n",
       "                // Chrome <84 implements even older version of spec.\n",
       "                width = entry.contentRect.width;\n",
       "                height = entry.contentRect.height;\n",
       "            }\n",
       "\n",
       "            // Keep the size of the canvas and rubber band canvas in sync with\n",
       "            // the canvas container.\n",
       "            if (entry.devicePixelContentBoxSize) {\n",
       "                // Chrome 84 implements new version of spec.\n",
       "                canvas.setAttribute(\n",
       "                    'width',\n",
       "                    entry.devicePixelContentBoxSize[0].inlineSize\n",
       "                );\n",
       "                canvas.setAttribute(\n",
       "                    'height',\n",
       "                    entry.devicePixelContentBoxSize[0].blockSize\n",
       "                );\n",
       "            } else {\n",
       "                canvas.setAttribute('width', width * fig.ratio);\n",
       "                canvas.setAttribute('height', height * fig.ratio);\n",
       "            }\n",
       "            canvas.setAttribute(\n",
       "                'style',\n",
       "                'width: ' + width + 'px; height: ' + height + 'px;'\n",
       "            );\n",
       "\n",
       "            rubberband_canvas.setAttribute('width', width);\n",
       "            rubberband_canvas.setAttribute('height', height);\n",
       "\n",
       "            // And update the size in Python. We ignore the initial 0/0 size\n",
       "            // that occurs as the element is placed into the DOM, which should\n",
       "            // otherwise not happen due to the minimum size styling.\n",
       "            if (fig.ws.readyState == 1 && width != 0 && height != 0) {\n",
       "                fig.request_resize(width, height);\n",
       "            }\n",
       "        }\n",
       "    });\n",
       "    this.resizeObserverInstance.observe(canvas_div);\n",
       "\n",
       "    function on_mouse_event_closure(name) {\n",
       "        return function (event) {\n",
       "            return fig.mouse_event(event, name);\n",
       "        };\n",
       "    }\n",
       "\n",
       "    rubberband_canvas.addEventListener(\n",
       "        'mousedown',\n",
       "        on_mouse_event_closure('button_press')\n",
       "    );\n",
       "    rubberband_canvas.addEventListener(\n",
       "        'mouseup',\n",
       "        on_mouse_event_closure('button_release')\n",
       "    );\n",
       "    // Throttle sequential mouse events to 1 every 20ms.\n",
       "    rubberband_canvas.addEventListener(\n",
       "        'mousemove',\n",
       "        on_mouse_event_closure('motion_notify')\n",
       "    );\n",
       "\n",
       "    rubberband_canvas.addEventListener(\n",
       "        'mouseenter',\n",
       "        on_mouse_event_closure('figure_enter')\n",
       "    );\n",
       "    rubberband_canvas.addEventListener(\n",
       "        'mouseleave',\n",
       "        on_mouse_event_closure('figure_leave')\n",
       "    );\n",
       "\n",
       "    canvas_div.addEventListener('wheel', function (event) {\n",
       "        if (event.deltaY < 0) {\n",
       "            event.step = 1;\n",
       "        } else {\n",
       "            event.step = -1;\n",
       "        }\n",
       "        on_mouse_event_closure('scroll')(event);\n",
       "    });\n",
       "\n",
       "    canvas_div.appendChild(canvas);\n",
       "    canvas_div.appendChild(rubberband_canvas);\n",
       "\n",
       "    this.rubberband_context = rubberband_canvas.getContext('2d');\n",
       "    this.rubberband_context.strokeStyle = '#000000';\n",
       "\n",
       "    this._resize_canvas = function (width, height, forward) {\n",
       "        if (forward) {\n",
       "            canvas_div.style.width = width + 'px';\n",
       "            canvas_div.style.height = height + 'px';\n",
       "        }\n",
       "    };\n",
       "\n",
       "    // Disable right mouse context menu.\n",
       "    this.rubberband_canvas.addEventListener('contextmenu', function (_e) {\n",
       "        event.preventDefault();\n",
       "        return false;\n",
       "    });\n",
       "\n",
       "    function set_focus() {\n",
       "        canvas.focus();\n",
       "        canvas_div.focus();\n",
       "    }\n",
       "\n",
       "    window.setTimeout(set_focus, 100);\n",
       "};\n",
       "\n",
       "mpl.figure.prototype._init_toolbar = function () {\n",
       "    var fig = this;\n",
       "\n",
       "    var toolbar = document.createElement('div');\n",
       "    toolbar.classList = 'mpl-toolbar';\n",
       "    this.root.appendChild(toolbar);\n",
       "\n",
       "    function on_click_closure(name) {\n",
       "        return function (_event) {\n",
       "            return fig.toolbar_button_onclick(name);\n",
       "        };\n",
       "    }\n",
       "\n",
       "    function on_mouseover_closure(tooltip) {\n",
       "        return function (event) {\n",
       "            if (!event.currentTarget.disabled) {\n",
       "                return fig.toolbar_button_onmouseover(tooltip);\n",
       "            }\n",
       "        };\n",
       "    }\n",
       "\n",
       "    fig.buttons = {};\n",
       "    var buttonGroup = document.createElement('div');\n",
       "    buttonGroup.classList = 'mpl-button-group';\n",
       "    for (var toolbar_ind in mpl.toolbar_items) {\n",
       "        var name = mpl.toolbar_items[toolbar_ind][0];\n",
       "        var tooltip = mpl.toolbar_items[toolbar_ind][1];\n",
       "        var image = mpl.toolbar_items[toolbar_ind][2];\n",
       "        var method_name = mpl.toolbar_items[toolbar_ind][3];\n",
       "\n",
       "        if (!name) {\n",
       "            /* Instead of a spacer, we start a new button group. */\n",
       "            if (buttonGroup.hasChildNodes()) {\n",
       "                toolbar.appendChild(buttonGroup);\n",
       "            }\n",
       "            buttonGroup = document.createElement('div');\n",
       "            buttonGroup.classList = 'mpl-button-group';\n",
       "            continue;\n",
       "        }\n",
       "\n",
       "        var button = (fig.buttons[name] = document.createElement('button'));\n",
       "        button.classList = 'mpl-widget';\n",
       "        button.setAttribute('role', 'button');\n",
       "        button.setAttribute('aria-disabled', 'false');\n",
       "        button.addEventListener('click', on_click_closure(method_name));\n",
       "        button.addEventListener('mouseover', on_mouseover_closure(tooltip));\n",
       "\n",
       "        var icon_img = document.createElement('img');\n",
       "        icon_img.src = '_images/' + image + '.png';\n",
       "        icon_img.srcset = '_images/' + image + '_large.png 2x';\n",
       "        icon_img.alt = tooltip;\n",
       "        button.appendChild(icon_img);\n",
       "\n",
       "        buttonGroup.appendChild(button);\n",
       "    }\n",
       "\n",
       "    if (buttonGroup.hasChildNodes()) {\n",
       "        toolbar.appendChild(buttonGroup);\n",
       "    }\n",
       "\n",
       "    var fmt_picker = document.createElement('select');\n",
       "    fmt_picker.classList = 'mpl-widget';\n",
       "    toolbar.appendChild(fmt_picker);\n",
       "    this.format_dropdown = fmt_picker;\n",
       "\n",
       "    for (var ind in mpl.extensions) {\n",
       "        var fmt = mpl.extensions[ind];\n",
       "        var option = document.createElement('option');\n",
       "        option.selected = fmt === mpl.default_extension;\n",
       "        option.innerHTML = fmt;\n",
       "        fmt_picker.appendChild(option);\n",
       "    }\n",
       "\n",
       "    var status_bar = document.createElement('span');\n",
       "    status_bar.classList = 'mpl-message';\n",
       "    toolbar.appendChild(status_bar);\n",
       "    this.message = status_bar;\n",
       "};\n",
       "\n",
       "mpl.figure.prototype.request_resize = function (x_pixels, y_pixels) {\n",
       "    // Request matplotlib to resize the figure. Matplotlib will then trigger a resize in the client,\n",
       "    // which will in turn request a refresh of the image.\n",
       "    this.send_message('resize', { width: x_pixels, height: y_pixels });\n",
       "};\n",
       "\n",
       "mpl.figure.prototype.send_message = function (type, properties) {\n",
       "    properties['type'] = type;\n",
       "    properties['figure_id'] = this.id;\n",
       "    this.ws.send(JSON.stringify(properties));\n",
       "};\n",
       "\n",
       "mpl.figure.prototype.send_draw_message = function () {\n",
       "    if (!this.waiting) {\n",
       "        this.waiting = true;\n",
       "        this.ws.send(JSON.stringify({ type: 'draw', figure_id: this.id }));\n",
       "    }\n",
       "};\n",
       "\n",
       "mpl.figure.prototype.handle_save = function (fig, _msg) {\n",
       "    var format_dropdown = fig.format_dropdown;\n",
       "    var format = format_dropdown.options[format_dropdown.selectedIndex].value;\n",
       "    fig.ondownload(fig, format);\n",
       "};\n",
       "\n",
       "mpl.figure.prototype.handle_resize = function (fig, msg) {\n",
       "    var size = msg['size'];\n",
       "    if (size[0] !== fig.canvas.width || size[1] !== fig.canvas.height) {\n",
       "        fig._resize_canvas(size[0], size[1], msg['forward']);\n",
       "        fig.send_message('refresh', {});\n",
       "    }\n",
       "};\n",
       "\n",
       "mpl.figure.prototype.handle_rubberband = function (fig, msg) {\n",
       "    var x0 = msg['x0'] / fig.ratio;\n",
       "    var y0 = (fig.canvas.height - msg['y0']) / fig.ratio;\n",
       "    var x1 = msg['x1'] / fig.ratio;\n",
       "    var y1 = (fig.canvas.height - msg['y1']) / fig.ratio;\n",
       "    x0 = Math.floor(x0) + 0.5;\n",
       "    y0 = Math.floor(y0) + 0.5;\n",
       "    x1 = Math.floor(x1) + 0.5;\n",
       "    y1 = Math.floor(y1) + 0.5;\n",
       "    var min_x = Math.min(x0, x1);\n",
       "    var min_y = Math.min(y0, y1);\n",
       "    var width = Math.abs(x1 - x0);\n",
       "    var height = Math.abs(y1 - y0);\n",
       "\n",
       "    fig.rubberband_context.clearRect(\n",
       "        0,\n",
       "        0,\n",
       "        fig.canvas.width / fig.ratio,\n",
       "        fig.canvas.height / fig.ratio\n",
       "    );\n",
       "\n",
       "    fig.rubberband_context.strokeRect(min_x, min_y, width, height);\n",
       "};\n",
       "\n",
       "mpl.figure.prototype.handle_figure_label = function (fig, msg) {\n",
       "    // Updates the figure title.\n",
       "    fig.header.textContent = msg['label'];\n",
       "};\n",
       "\n",
       "mpl.figure.prototype.handle_cursor = function (fig, msg) {\n",
       "    var cursor = msg['cursor'];\n",
       "    switch (cursor) {\n",
       "        case 0:\n",
       "            cursor = 'pointer';\n",
       "            break;\n",
       "        case 1:\n",
       "            cursor = 'default';\n",
       "            break;\n",
       "        case 2:\n",
       "            cursor = 'crosshair';\n",
       "            break;\n",
       "        case 3:\n",
       "            cursor = 'move';\n",
       "            break;\n",
       "    }\n",
       "    fig.rubberband_canvas.style.cursor = cursor;\n",
       "};\n",
       "\n",
       "mpl.figure.prototype.handle_message = function (fig, msg) {\n",
       "    fig.message.textContent = msg['message'];\n",
       "};\n",
       "\n",
       "mpl.figure.prototype.handle_draw = function (fig, _msg) {\n",
       "    // Request the server to send over a new figure.\n",
       "    fig.send_draw_message();\n",
       "};\n",
       "\n",
       "mpl.figure.prototype.handle_image_mode = function (fig, msg) {\n",
       "    fig.image_mode = msg['mode'];\n",
       "};\n",
       "\n",
       "mpl.figure.prototype.handle_history_buttons = function (fig, msg) {\n",
       "    for (var key in msg) {\n",
       "        if (!(key in fig.buttons)) {\n",
       "            continue;\n",
       "        }\n",
       "        fig.buttons[key].disabled = !msg[key];\n",
       "        fig.buttons[key].setAttribute('aria-disabled', !msg[key]);\n",
       "    }\n",
       "};\n",
       "\n",
       "mpl.figure.prototype.handle_navigate_mode = function (fig, msg) {\n",
       "    if (msg['mode'] === 'PAN') {\n",
       "        fig.buttons['Pan'].classList.add('active');\n",
       "        fig.buttons['Zoom'].classList.remove('active');\n",
       "    } else if (msg['mode'] === 'ZOOM') {\n",
       "        fig.buttons['Pan'].classList.remove('active');\n",
       "        fig.buttons['Zoom'].classList.add('active');\n",
       "    } else {\n",
       "        fig.buttons['Pan'].classList.remove('active');\n",
       "        fig.buttons['Zoom'].classList.remove('active');\n",
       "    }\n",
       "};\n",
       "\n",
       "mpl.figure.prototype.updated_canvas_event = function () {\n",
       "    // Called whenever the canvas gets updated.\n",
       "    this.send_message('ack', {});\n",
       "};\n",
       "\n",
       "// A function to construct a web socket function for onmessage handling.\n",
       "// Called in the figure constructor.\n",
       "mpl.figure.prototype._make_on_message_function = function (fig) {\n",
       "    return function socket_on_message(evt) {\n",
       "        if (evt.data instanceof Blob) {\n",
       "            /* FIXME: We get \"Resource interpreted as Image but\n",
       "             * transferred with MIME type text/plain:\" errors on\n",
       "             * Chrome.  But how to set the MIME type?  It doesn't seem\n",
       "             * to be part of the websocket stream */\n",
       "            evt.data.type = 'image/png';\n",
       "\n",
       "            /* Free the memory for the previous frames */\n",
       "            if (fig.imageObj.src) {\n",
       "                (window.URL || window.webkitURL).revokeObjectURL(\n",
       "                    fig.imageObj.src\n",
       "                );\n",
       "            }\n",
       "\n",
       "            fig.imageObj.src = (window.URL || window.webkitURL).createObjectURL(\n",
       "                evt.data\n",
       "            );\n",
       "            fig.updated_canvas_event();\n",
       "            fig.waiting = false;\n",
       "            return;\n",
       "        } else if (\n",
       "            typeof evt.data === 'string' &&\n",
       "            evt.data.slice(0, 21) === 'data:image/png;base64'\n",
       "        ) {\n",
       "            fig.imageObj.src = evt.data;\n",
       "            fig.updated_canvas_event();\n",
       "            fig.waiting = false;\n",
       "            return;\n",
       "        }\n",
       "\n",
       "        var msg = JSON.parse(evt.data);\n",
       "        var msg_type = msg['type'];\n",
       "\n",
       "        // Call the  \"handle_{type}\" callback, which takes\n",
       "        // the figure and JSON message as its only arguments.\n",
       "        try {\n",
       "            var callback = fig['handle_' + msg_type];\n",
       "        } catch (e) {\n",
       "            console.log(\n",
       "                \"No handler for the '\" + msg_type + \"' message type: \",\n",
       "                msg\n",
       "            );\n",
       "            return;\n",
       "        }\n",
       "\n",
       "        if (callback) {\n",
       "            try {\n",
       "                // console.log(\"Handling '\" + msg_type + \"' message: \", msg);\n",
       "                callback(fig, msg);\n",
       "            } catch (e) {\n",
       "                console.log(\n",
       "                    \"Exception inside the 'handler_\" + msg_type + \"' callback:\",\n",
       "                    e,\n",
       "                    e.stack,\n",
       "                    msg\n",
       "                );\n",
       "            }\n",
       "        }\n",
       "    };\n",
       "};\n",
       "\n",
       "// from http://stackoverflow.com/questions/1114465/getting-mouse-location-in-canvas\n",
       "mpl.findpos = function (e) {\n",
       "    //this section is from http://www.quirksmode.org/js/events_properties.html\n",
       "    var targ;\n",
       "    if (!e) {\n",
       "        e = window.event;\n",
       "    }\n",
       "    if (e.target) {\n",
       "        targ = e.target;\n",
       "    } else if (e.srcElement) {\n",
       "        targ = e.srcElement;\n",
       "    }\n",
       "    if (targ.nodeType === 3) {\n",
       "        // defeat Safari bug\n",
       "        targ = targ.parentNode;\n",
       "    }\n",
       "\n",
       "    // pageX,Y are the mouse positions relative to the document\n",
       "    var boundingRect = targ.getBoundingClientRect();\n",
       "    var x = e.pageX - (boundingRect.left + document.body.scrollLeft);\n",
       "    var y = e.pageY - (boundingRect.top + document.body.scrollTop);\n",
       "\n",
       "    return { x: x, y: y };\n",
       "};\n",
       "\n",
       "/*\n",
       " * return a copy of an object with only non-object keys\n",
       " * we need this to avoid circular references\n",
       " * http://stackoverflow.com/a/24161582/3208463\n",
       " */\n",
       "function simpleKeys(original) {\n",
       "    return Object.keys(original).reduce(function (obj, key) {\n",
       "        if (typeof original[key] !== 'object') {\n",
       "            obj[key] = original[key];\n",
       "        }\n",
       "        return obj;\n",
       "    }, {});\n",
       "}\n",
       "\n",
       "mpl.figure.prototype.mouse_event = function (event, name) {\n",
       "    var canvas_pos = mpl.findpos(event);\n",
       "\n",
       "    if (name === 'button_press') {\n",
       "        this.canvas.focus();\n",
       "        this.canvas_div.focus();\n",
       "    }\n",
       "\n",
       "    var x = canvas_pos.x * this.ratio;\n",
       "    var y = canvas_pos.y * this.ratio;\n",
       "\n",
       "    this.send_message(name, {\n",
       "        x: x,\n",
       "        y: y,\n",
       "        button: event.button,\n",
       "        step: event.step,\n",
       "        guiEvent: simpleKeys(event),\n",
       "    });\n",
       "\n",
       "    /* This prevents the web browser from automatically changing to\n",
       "     * the text insertion cursor when the button is pressed.  We want\n",
       "     * to control all of the cursor setting manually through the\n",
       "     * 'cursor' event from matplotlib */\n",
       "    event.preventDefault();\n",
       "    return false;\n",
       "};\n",
       "\n",
       "mpl.figure.prototype._key_event_extra = function (_event, _name) {\n",
       "    // Handle any extra behaviour associated with a key event\n",
       "};\n",
       "\n",
       "mpl.figure.prototype.key_event = function (event, name) {\n",
       "    // Prevent repeat events\n",
       "    if (name === 'key_press') {\n",
       "        if (event.which === this._key) {\n",
       "            return;\n",
       "        } else {\n",
       "            this._key = event.which;\n",
       "        }\n",
       "    }\n",
       "    if (name === 'key_release') {\n",
       "        this._key = null;\n",
       "    }\n",
       "\n",
       "    var value = '';\n",
       "    if (event.ctrlKey && event.which !== 17) {\n",
       "        value += 'ctrl+';\n",
       "    }\n",
       "    if (event.altKey && event.which !== 18) {\n",
       "        value += 'alt+';\n",
       "    }\n",
       "    if (event.shiftKey && event.which !== 16) {\n",
       "        value += 'shift+';\n",
       "    }\n",
       "\n",
       "    value += 'k';\n",
       "    value += event.which.toString();\n",
       "\n",
       "    this._key_event_extra(event, name);\n",
       "\n",
       "    this.send_message(name, { key: value, guiEvent: simpleKeys(event) });\n",
       "    return false;\n",
       "};\n",
       "\n",
       "mpl.figure.prototype.toolbar_button_onclick = function (name) {\n",
       "    if (name === 'download') {\n",
       "        this.handle_save(this, null);\n",
       "    } else {\n",
       "        this.send_message('toolbar_button', { name: name });\n",
       "    }\n",
       "};\n",
       "\n",
       "mpl.figure.prototype.toolbar_button_onmouseover = function (tooltip) {\n",
       "    this.message.textContent = tooltip;\n",
       "};\n",
       "\n",
       "///////////////// REMAINING CONTENT GENERATED BY embed_js.py /////////////////\n",
       "// prettier-ignore\n",
       "var _JSXTOOLS_RESIZE_OBSERVER=function(A){var t,i=new WeakMap,n=new WeakMap,a=new WeakMap,r=new WeakMap,o=new Set;function s(e){if(!(this instanceof s))throw new TypeError(\"Constructor requires 'new' operator\");i.set(this,e)}function h(){throw new TypeError(\"Function is not a constructor\")}function c(e,t,i,n){e=0 in arguments?Number(arguments[0]):0,t=1 in arguments?Number(arguments[1]):0,i=2 in arguments?Number(arguments[2]):0,n=3 in arguments?Number(arguments[3]):0,this.right=(this.x=this.left=e)+(this.width=i),this.bottom=(this.y=this.top=t)+(this.height=n),Object.freeze(this)}function d(){t=requestAnimationFrame(d);var s=new WeakMap,p=new Set;o.forEach((function(t){r.get(t).forEach((function(i){var r=t instanceof window.SVGElement,o=a.get(t),d=r?0:parseFloat(o.paddingTop),f=r?0:parseFloat(o.paddingRight),l=r?0:parseFloat(o.paddingBottom),u=r?0:parseFloat(o.paddingLeft),g=r?0:parseFloat(o.borderTopWidth),m=r?0:parseFloat(o.borderRightWidth),w=r?0:parseFloat(o.borderBottomWidth),b=u+f,F=d+l,v=(r?0:parseFloat(o.borderLeftWidth))+m,W=g+w,y=r?0:t.offsetHeight-W-t.clientHeight,E=r?0:t.offsetWidth-v-t.clientWidth,R=b+v,z=F+W,M=r?t.width:parseFloat(o.width)-R-E,O=r?t.height:parseFloat(o.height)-z-y;if(n.has(t)){var k=n.get(t);if(k[0]===M&&k[1]===O)return}n.set(t,[M,O]);var S=Object.create(h.prototype);S.target=t,S.contentRect=new c(u,d,M,O),s.has(i)||(s.set(i,[]),p.add(i)),s.get(i).push(S)}))})),p.forEach((function(e){i.get(e).call(e,s.get(e),e)}))}return s.prototype.observe=function(i){if(i instanceof window.Element){r.has(i)||(r.set(i,new Set),o.add(i),a.set(i,window.getComputedStyle(i)));var n=r.get(i);n.has(this)||n.add(this),cancelAnimationFrame(t),t=requestAnimationFrame(d)}},s.prototype.unobserve=function(i){if(i instanceof window.Element&&r.has(i)){var n=r.get(i);n.has(this)&&(n.delete(this),n.size||(r.delete(i),o.delete(i))),n.size||r.delete(i),o.size||cancelAnimationFrame(t)}},A.DOMRectReadOnly=c,A.ResizeObserver=s,A.ResizeObserverEntry=h,A}; // eslint-disable-line\n",
       "mpl.toolbar_items = [[\"Home\", \"Reset original view\", \"fa fa-home icon-home\", \"home\"], [\"Back\", \"Back to previous view\", \"fa fa-arrow-left icon-arrow-left\", \"back\"], [\"Forward\", \"Forward to next view\", \"fa fa-arrow-right icon-arrow-right\", \"forward\"], [\"\", \"\", \"\", \"\"], [\"Pan\", \"Left button pans, Right button zooms\\nx/y fixes axis, CTRL fixes aspect\", \"fa fa-arrows icon-move\", \"pan\"], [\"Zoom\", \"Zoom to rectangle\\nx/y fixes axis, CTRL fixes aspect\", \"fa fa-square-o icon-check-empty\", \"zoom\"], [\"\", \"\", \"\", \"\"], [\"Download\", \"Download plot\", \"fa fa-floppy-o icon-save\", \"download\"]];\n",
       "\n",
       "mpl.extensions = [\"eps\", \"jpeg\", \"pdf\", \"png\", \"ps\", \"raw\", \"svg\", \"tif\"];\n",
       "\n",
       "mpl.default_extension = \"png\";/* global mpl */\n",
       "\n",
       "var comm_websocket_adapter = function (comm) {\n",
       "    // Create a \"websocket\"-like object which calls the given IPython comm\n",
       "    // object with the appropriate methods. Currently this is a non binary\n",
       "    // socket, so there is still some room for performance tuning.\n",
       "    var ws = {};\n",
       "\n",
       "    ws.close = function () {\n",
       "        comm.close();\n",
       "    };\n",
       "    ws.send = function (m) {\n",
       "        //console.log('sending', m);\n",
       "        comm.send(m);\n",
       "    };\n",
       "    // Register the callback with on_msg.\n",
       "    comm.on_msg(function (msg) {\n",
       "        //console.log('receiving', msg['content']['data'], msg);\n",
       "        // Pass the mpl event to the overridden (by mpl) onmessage function.\n",
       "        ws.onmessage(msg['content']['data']);\n",
       "    });\n",
       "    return ws;\n",
       "};\n",
       "\n",
       "mpl.mpl_figure_comm = function (comm, msg) {\n",
       "    // This is the function which gets called when the mpl process\n",
       "    // starts-up an IPython Comm through the \"matplotlib\" channel.\n",
       "\n",
       "    var id = msg.content.data.id;\n",
       "    // Get hold of the div created by the display call when the Comm\n",
       "    // socket was opened in Python.\n",
       "    var element = document.getElementById(id);\n",
       "    var ws_proxy = comm_websocket_adapter(comm);\n",
       "\n",
       "    function ondownload(figure, _format) {\n",
       "        window.open(figure.canvas.toDataURL());\n",
       "    }\n",
       "\n",
       "    var fig = new mpl.figure(id, ws_proxy, ondownload, element);\n",
       "\n",
       "    // Call onopen now - mpl needs it, as it is assuming we've passed it a real\n",
       "    // web socket which is closed, not our websocket->open comm proxy.\n",
       "    ws_proxy.onopen();\n",
       "\n",
       "    fig.parent_element = element;\n",
       "    fig.cell_info = mpl.find_output_cell(\"<div id='\" + id + \"'></div>\");\n",
       "    if (!fig.cell_info) {\n",
       "        console.error('Failed to find cell for figure', id, fig);\n",
       "        return;\n",
       "    }\n",
       "    fig.cell_info[0].output_area.element.on(\n",
       "        'cleared',\n",
       "        { fig: fig },\n",
       "        fig._remove_fig_handler\n",
       "    );\n",
       "};\n",
       "\n",
       "mpl.figure.prototype.handle_close = function (fig, msg) {\n",
       "    var width = fig.canvas.width / fig.ratio;\n",
       "    fig.cell_info[0].output_area.element.off(\n",
       "        'cleared',\n",
       "        fig._remove_fig_handler\n",
       "    );\n",
       "    fig.resizeObserverInstance.unobserve(fig.canvas_div);\n",
       "\n",
       "    // Update the output cell to use the data from the current canvas.\n",
       "    fig.push_to_output();\n",
       "    var dataURL = fig.canvas.toDataURL();\n",
       "    // Re-enable the keyboard manager in IPython - without this line, in FF,\n",
       "    // the notebook keyboard shortcuts fail.\n",
       "    IPython.keyboard_manager.enable();\n",
       "    fig.parent_element.innerHTML =\n",
       "        '<img src=\"' + dataURL + '\" width=\"' + width + '\">';\n",
       "    fig.close_ws(fig, msg);\n",
       "};\n",
       "\n",
       "mpl.figure.prototype.close_ws = function (fig, msg) {\n",
       "    fig.send_message('closing', msg);\n",
       "    // fig.ws.close()\n",
       "};\n",
       "\n",
       "mpl.figure.prototype.push_to_output = function (_remove_interactive) {\n",
       "    // Turn the data on the canvas into data in the output cell.\n",
       "    var width = this.canvas.width / this.ratio;\n",
       "    var dataURL = this.canvas.toDataURL();\n",
       "    this.cell_info[1]['text/html'] =\n",
       "        '<img src=\"' + dataURL + '\" width=\"' + width + '\">';\n",
       "};\n",
       "\n",
       "mpl.figure.prototype.updated_canvas_event = function () {\n",
       "    // Tell IPython that the notebook contents must change.\n",
       "    IPython.notebook.set_dirty(true);\n",
       "    this.send_message('ack', {});\n",
       "    var fig = this;\n",
       "    // Wait a second, then push the new image to the DOM so\n",
       "    // that it is saved nicely (might be nice to debounce this).\n",
       "    setTimeout(function () {\n",
       "        fig.push_to_output();\n",
       "    }, 1000);\n",
       "};\n",
       "\n",
       "mpl.figure.prototype._init_toolbar = function () {\n",
       "    var fig = this;\n",
       "\n",
       "    var toolbar = document.createElement('div');\n",
       "    toolbar.classList = 'btn-toolbar';\n",
       "    this.root.appendChild(toolbar);\n",
       "\n",
       "    function on_click_closure(name) {\n",
       "        return function (_event) {\n",
       "            return fig.toolbar_button_onclick(name);\n",
       "        };\n",
       "    }\n",
       "\n",
       "    function on_mouseover_closure(tooltip) {\n",
       "        return function (event) {\n",
       "            if (!event.currentTarget.disabled) {\n",
       "                return fig.toolbar_button_onmouseover(tooltip);\n",
       "            }\n",
       "        };\n",
       "    }\n",
       "\n",
       "    fig.buttons = {};\n",
       "    var buttonGroup = document.createElement('div');\n",
       "    buttonGroup.classList = 'btn-group';\n",
       "    var button;\n",
       "    for (var toolbar_ind in mpl.toolbar_items) {\n",
       "        var name = mpl.toolbar_items[toolbar_ind][0];\n",
       "        var tooltip = mpl.toolbar_items[toolbar_ind][1];\n",
       "        var image = mpl.toolbar_items[toolbar_ind][2];\n",
       "        var method_name = mpl.toolbar_items[toolbar_ind][3];\n",
       "\n",
       "        if (!name) {\n",
       "            /* Instead of a spacer, we start a new button group. */\n",
       "            if (buttonGroup.hasChildNodes()) {\n",
       "                toolbar.appendChild(buttonGroup);\n",
       "            }\n",
       "            buttonGroup = document.createElement('div');\n",
       "            buttonGroup.classList = 'btn-group';\n",
       "            continue;\n",
       "        }\n",
       "\n",
       "        button = fig.buttons[name] = document.createElement('button');\n",
       "        button.classList = 'btn btn-default';\n",
       "        button.href = '#';\n",
       "        button.title = name;\n",
       "        button.innerHTML = '<i class=\"fa ' + image + ' fa-lg\"></i>';\n",
       "        button.addEventListener('click', on_click_closure(method_name));\n",
       "        button.addEventListener('mouseover', on_mouseover_closure(tooltip));\n",
       "        buttonGroup.appendChild(button);\n",
       "    }\n",
       "\n",
       "    if (buttonGroup.hasChildNodes()) {\n",
       "        toolbar.appendChild(buttonGroup);\n",
       "    }\n",
       "\n",
       "    // Add the status bar.\n",
       "    var status_bar = document.createElement('span');\n",
       "    status_bar.classList = 'mpl-message pull-right';\n",
       "    toolbar.appendChild(status_bar);\n",
       "    this.message = status_bar;\n",
       "\n",
       "    // Add the close button to the window.\n",
       "    var buttongrp = document.createElement('div');\n",
       "    buttongrp.classList = 'btn-group inline pull-right';\n",
       "    button = document.createElement('button');\n",
       "    button.classList = 'btn btn-mini btn-primary';\n",
       "    button.href = '#';\n",
       "    button.title = 'Stop Interaction';\n",
       "    button.innerHTML = '<i class=\"fa fa-power-off icon-remove icon-large\"></i>';\n",
       "    button.addEventListener('click', function (_evt) {\n",
       "        fig.handle_close(fig, {});\n",
       "    });\n",
       "    button.addEventListener(\n",
       "        'mouseover',\n",
       "        on_mouseover_closure('Stop Interaction')\n",
       "    );\n",
       "    buttongrp.appendChild(button);\n",
       "    var titlebar = this.root.querySelector('.ui-dialog-titlebar');\n",
       "    titlebar.insertBefore(buttongrp, titlebar.firstChild);\n",
       "};\n",
       "\n",
       "mpl.figure.prototype._remove_fig_handler = function (event) {\n",
       "    var fig = event.data.fig;\n",
       "    if (event.target !== this) {\n",
       "        // Ignore bubbled events from children.\n",
       "        return;\n",
       "    }\n",
       "    fig.close_ws(fig, {});\n",
       "};\n",
       "\n",
       "mpl.figure.prototype._root_extra_style = function (el) {\n",
       "    el.style.boxSizing = 'content-box'; // override notebook setting of border-box.\n",
       "};\n",
       "\n",
       "mpl.figure.prototype._canvas_extra_style = function (el) {\n",
       "    // this is important to make the div 'focusable\n",
       "    el.setAttribute('tabindex', 0);\n",
       "    // reach out to IPython and tell the keyboard manager to turn it's self\n",
       "    // off when our div gets focus\n",
       "\n",
       "    // location in version 3\n",
       "    if (IPython.notebook.keyboard_manager) {\n",
       "        IPython.notebook.keyboard_manager.register_events(el);\n",
       "    } else {\n",
       "        // location in version 2\n",
       "        IPython.keyboard_manager.register_events(el);\n",
       "    }\n",
       "};\n",
       "\n",
       "mpl.figure.prototype._key_event_extra = function (event, _name) {\n",
       "    var manager = IPython.notebook.keyboard_manager;\n",
       "    if (!manager) {\n",
       "        manager = IPython.keyboard_manager;\n",
       "    }\n",
       "\n",
       "    // Check for shift+enter\n",
       "    if (event.shiftKey && event.which === 13) {\n",
       "        this.canvas_div.blur();\n",
       "        // select the cell after this one\n",
       "        var index = IPython.notebook.find_cell_index(this.cell_info[0]);\n",
       "        IPython.notebook.select(index + 1);\n",
       "    }\n",
       "};\n",
       "\n",
       "mpl.figure.prototype.handle_save = function (fig, _msg) {\n",
       "    fig.ondownload(fig, null);\n",
       "};\n",
       "\n",
       "mpl.find_output_cell = function (html_output) {\n",
       "    // Return the cell and output element which can be found *uniquely* in the notebook.\n",
       "    // Note - this is a bit hacky, but it is done because the \"notebook_saving.Notebook\"\n",
       "    // IPython event is triggered only after the cells have been serialised, which for\n",
       "    // our purposes (turning an active figure into a static one), is too late.\n",
       "    var cells = IPython.notebook.get_cells();\n",
       "    var ncells = cells.length;\n",
       "    for (var i = 0; i < ncells; i++) {\n",
       "        var cell = cells[i];\n",
       "        if (cell.cell_type === 'code') {\n",
       "            for (var j = 0; j < cell.output_area.outputs.length; j++) {\n",
       "                var data = cell.output_area.outputs[j];\n",
       "                if (data.data) {\n",
       "                    // IPython >= 3 moved mimebundle to data attribute of output\n",
       "                    data = data.data;\n",
       "                }\n",
       "                if (data['text/html'] === html_output) {\n",
       "                    return [cell, data, j];\n",
       "                }\n",
       "            }\n",
       "        }\n",
       "    }\n",
       "};\n",
       "\n",
       "// Register the function which deals with the matplotlib target/channel.\n",
       "// The kernel may be null if the page has been refreshed.\n",
       "if (IPython.notebook.kernel !== null) {\n",
       "    IPython.notebook.kernel.comm_manager.register_target(\n",
       "        'matplotlib',\n",
       "        mpl.mpl_figure_comm\n",
       "    );\n",
       "}\n"
      ],
      "text/plain": [
       "<IPython.core.display.Javascript object>"
      ]
     },
     "metadata": {},
     "output_type": "display_data"
    },
    {
     "data": {
      "text/html": [
       "<img src=\"data:image/png;base64,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\" width=\"515.2\">"
      ],
      "text/plain": [
       "<IPython.core.display.HTML object>"
      ]
     },
     "metadata": {},
     "output_type": "display_data"
    }
   ],
   "source": [
    "%matplotlib notebook\n",
    "plt.plot(x,'bo');"
   ]
  },
  {
   "cell_type": "markdown",
   "metadata": {},
   "source": [
    "Let's work with \"inline\" as a default, unless interactivity is needed."
   ]
  },
  {
   "cell_type": "code",
   "execution_count": 9,
   "metadata": {},
   "outputs": [],
   "source": [
    "%matplotlib inline"
   ]
  },
  {
   "cell_type": "code",
   "execution_count": 12,
   "metadata": {},
   "outputs": [
    {
     "data": {
      "image/png": "[encoded data removed]",
      "text/plain": [
       "<Figure size 432x288 with 1 Axes>"
      ]
     },
     "metadata": {
      "needs_background": "light"
     },
     "output_type": "display_data"
    }
   ],
   "source": [
    "plt.plot(x,x*x,'rx');"
   ]
  },
  {
   "cell_type": "markdown",
   "metadata": {},
   "source": [
    "**Q:** Do you understand why this plot looks like a parabola despite the random samples?"
   ]
  },
  {
   "cell_type": "markdown",
   "metadata": {},
   "source": [
    "### Histogram\n",
    "\n",
    "A **histogram** of a sample 1D sample array is a bar plot on which the $x$-axis indicates a certain range of sample values, and the $y$-axis indicates how many samples are contained in the respective range."
   ]
  },
  {
   "cell_type": "code",
   "execution_count": 15,
   "metadata": {},
   "outputs": [
    {
     "data": {
      "image/png": "[encoded data removed]",
      "text/plain": [
       "<Figure size 432x288 with 1 Axes>"
      ]
     },
     "metadata": {
      "needs_background": "light"
     },
     "output_type": "display_data"
    }
   ],
   "source": [
    "h = plt.hist(x,bins=50)"
   ]
  },
  {
   "cell_type": "markdown",
   "metadata": {},
   "source": [
    "### Location\n",
    "\n",
    "Some quantities describing properties of the dataset are the following."
   ]
  },
  {
   "cell_type": "markdown",
   "metadata": {},
   "source": [
    "- **Sample average** (also called **sample mean**)\n",
    "\n",
    "> $\\displaystyle \\bar{x} = \\frac{1}{N} \\sum_{i=1}^N x_i$\n",
    "<br><br>\n",
    "> but indexing starts with 0 in Python and most computer languages\n",
    "<br><br>\n",
    "> $\\displaystyle \\bar{x} = \\frac{1}{N} \\sum_{i=0}^{N-1} x_i$\n",
    "\n",
    "Using numpy, it can be computed as follows:"
   ]
  },
  {
   "cell_type": "code",
   "execution_count": 18,
   "metadata": {},
   "outputs": [
    {
     "data": {
      "text/plain": [
       "(0.03956383215952083, 0.03956383215952083)"
      ]
     },
     "execution_count": 18,
     "metadata": {},
     "output_type": "execute_result"
    }
   ],
   "source": [
    "avg = np.sum(x) / N \n",
    "avg, np.mean(x)"
   ]
  },
  {
   "cell_type": "code",
   "execution_count": 22,
   "metadata": {},
   "outputs": [
    {
     "data": {
      "text/plain": [
       "(int, int)"
      ]
     },
     "execution_count": 22,
     "metadata": {},
     "output_type": "execute_result"
    }
   ],
   "source": [
    "type(N),type(x.size)"
   ]
  },
  {
   "cell_type": "code",
   "execution_count": 19,
   "metadata": {},
   "outputs": [
    {
     "data": {
      "text/plain": [
       "(0.03956383215952086, 0.03956383215952083)"
      ]
     },
     "execution_count": 19,
     "metadata": {},
     "output_type": "execute_result"
    }
   ],
   "source": [
    "sum(x)/N, x.sum()/x.size # this uses the native Python commands instead of numpy functions"
   ]
  },
  {
   "cell_type": "code",
   "execution_count": 24,
   "metadata": {},
   "outputs": [
    {
     "data": {
      "text/plain": [
       "(numpy.float64, numpy.float64)"
      ]
     },
     "execution_count": 24,
     "metadata": {},
     "output_type": "execute_result"
    }
   ],
   "source": [
    "type(sum(x)),type(x.sum())"
   ]
  },
  {
   "cell_type": "markdown",
   "metadata": {},
   "source": [
    "- **Sample median**\n",
    "\n",
    "> The number **sample median** is such that half of the samples are _larger_, and half of the samples are _smaller_."
   ]
  },
  {
   "cell_type": "code",
   "execution_count": 25,
   "metadata": {},
   "outputs": [
    {
     "data": {
      "text/plain": [
       "0.058763270705214754"
      ]
     },
     "execution_count": 25,
     "metadata": {},
     "output_type": "execute_result"
    }
   ],
   "source": [
    "med = np.median(x)\n",
    "med"
   ]
  },
  {
   "cell_type": "markdown",
   "metadata": {},
   "source": [
    "- **Mode** \n",
    "\n",
    "> Informally, where it peaks\n",
    "<br>\n",
    "> unimodal vs multimodal"
   ]
  },
  {
   "cell_type": "code",
   "execution_count": 26,
   "metadata": {
    "scrolled": true
   },
   "outputs": [
    {
     "data": {
      "image/png": "[encoded data removed]",
      "text/plain": [
       "<Figure size 288x288 with 1 Axes>"
      ]
     },
     "metadata": {
      "needs_background": "light"
     },
     "output_type": "display_data"
    }
   ],
   "source": [
    "fig = plt.figure(figsize=(4,4))  #define a figure size\n",
    "ax = fig.add_subplot(1,1,1)   \n",
    "ax.hist(x,20)\n",
    "ax.arrow(avg,0,0,15,color='r') # Arrow from (avg,0) to (avg+0,0+15), indicating _average_ of distribution\n",
    "ax.arrow(med,5,0,15,color='y') # Arrow from (med,5) to (med+0,5+15), indicating _median_ of distribution\n",
    "ax.set_xlim(-10, 10);"
   ]
  },
  {
   "cell_type": "markdown",
   "metadata": {},
   "source": [
    "### Dispersion\n",
    "- Sample variance\n",
    "\n",
    "> $\\displaystyle s^2 = \\frac{1}{N\\!-\\!1} \\sum_{i=1}^N \\left(x_i - \\bar{x}\\right)^2$\n",
    "\n",
    "- (Sample) standard deviation\n",
    "\n",
    "> $\\displaystyle s = \\sqrt{s^2}$"
   ]
  },
  {
   "cell_type": "code",
   "execution_count": 27,
   "metadata": {},
   "outputs": [
    {
     "data": {
      "text/plain": [
       "0.9881677546193893"
      ]
     },
     "execution_count": 27,
     "metadata": {},
     "output_type": "execute_result"
    }
   ],
   "source": [
    "s2   = np.sum( (x-avg)**2 ) /(N-1) # sample variance\n",
    "s2"
   ]
  },
  {
   "cell_type": "code",
   "execution_count": 34,
   "metadata": {},
   "outputs": [
    {
     "data": {
      "text/plain": [
       "0.9935691152933297"
      ]
     },
     "execution_count": 34,
     "metadata": {},
     "output_type": "execute_result"
    }
   ],
   "source": [
    "b = np.var(x)   #easier way to calculate\n",
    "np.sqrt(b)"
   ]
  },
  {
   "cell_type": "code",
   "execution_count": 31,
   "metadata": {},
   "outputs": [
    {
     "data": {
      "text/plain": [
       "0.9881677546193893"
      ]
     },
     "execution_count": 31,
     "metadata": {},
     "output_type": "execute_result"
    }
   ],
   "source": [
    "import statistics\n",
    "statistics.variance(x)"
   ]
  },
  {
   "cell_type": "code",
   "execution_count": 33,
   "metadata": {},
   "outputs": [
    {
     "data": {
      "text/plain": [
       "0.9940662727501569"
      ]
     },
     "execution_count": 33,
     "metadata": {},
     "output_type": "execute_result"
    }
   ],
   "source": [
    "s = np.sqrt(s2)\n",
    "s"
   ]
  },
  {
   "cell_type": "markdown",
   "metadata": {},
   "source": [
    "#### Exercise\n",
    "- Why is $(N\\!-\\!1)$ in the denominator above?"
   ]
  }
 ],
 "metadata": {
  "anaconda-cloud": {},
  "kernelspec": {
   "display_name": "Python 3",
   "language": "python",
   "name": "python3"
  },
  "language_info": {
   "codemirror_mode": {
    "name": "ipython",
    "version": 3
   },
   "file_extension": ".py",
   "mimetype": "text/x-python",
   "name": "python",
   "nbconvert_exporter": "python",
   "pygments_lexer": "ipython3",
   "version": "3.8.8"
  }
 },
 "nbformat": 4,
 "nbformat_minor": 1
}
