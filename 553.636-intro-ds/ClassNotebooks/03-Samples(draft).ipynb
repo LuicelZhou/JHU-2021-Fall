{
 "cells": [
  {
   "cell_type": "markdown",
   "metadata": {
    "slideshow": {
     "slide_type": "slide"
    }
   },
   "source": [
    "<hr/>\n",
    "\n",
    "# Introduction to Data Science - Fall 2021\n",
    "**Jinchao Feng and Christian Kuemmerle** - introdsfall2021@jh.edu <br/>\n",
    "\n",
    "- Sampling from distributions\n",
    "- Density estimation\n",
    "\n",
    "<hr/>\n"
   ]
  },
  {
   "cell_type": "markdown",
   "metadata": {
    "slideshow": {
     "slide_type": "slide"
    }
   },
   "source": [
    "<h1><font color=\"darkblue\">Samples, PDFs in 1- and 2-D</font></h1>\n",
    "\n"
   ]
  },
  {
   "cell_type": "markdown",
   "metadata": {},
   "source": [
    "### Descriptive Statistics\n",
    "- Characterization of location, dispersion, etc.\n",
    "\n",
    "| | Sample Estimates <font color=\"white\">(notations)</font> | Probabilisty Density Functions   |\n",
    "|--|--------------|-------------|\n",
    "| **Average** | $\\displaystyle\\ \\bar{x}=\\frac{1}{N}\\sum_{i=1}^N x_i = \\big\\langle x_i \\big\\rangle_{i=1}^N$ | $\\displaystyle\\ \\mu = \\mathbb{E}[X] =\\!\\int\\!x\\,p(x)\\,dx$| \n",
    "| **Variance** | $\\displaystyle\\ s^2=\\frac{1}{N\\!-\\!1}\\sum_{i=1}^N \\big(x_i\\!-\\!\\bar{x}\\big)^2 $|  $\\displaystyle\\ \\mathbb{Var}[X] =\\!\\int\\!(x\\!-\\!\\mu)^2 p(x)\\,dx$| \n",
    "\n",
    "- Useful connection to sampling"
   ]
  },
  {
   "cell_type": "markdown",
   "metadata": {},
   "source": [
    "### Sampling from distributions\n",
    "\n",
    "- Uniform on [0,1): Pseudorandomness"
   ]
  },
  {
   "cell_type": "code",
   "execution_count": 1,
   "metadata": {},
   "outputs": [
    {
     "name": "stdout",
     "output_type": "stream",
     "text": [
      "Populating the interactive namespace from numpy and matplotlib\n"
     ]
    }
   ],
   "source": [
    "%pylab inline "
   ]
  },
  {
   "cell_type": "code",
   "execution_count": 11,
   "metadata": {},
   "outputs": [
    {
     "data": {
      "text/plain": [
       "array([0.56804456, 0.92559664, 0.07103606])"
      ]
     },
     "execution_count": 11,
     "metadata": {},
     "output_type": "execute_result"
    }
   ],
   "source": [
    "# generate some random numbers\n",
    "np.random.random(3)"
   ]
  },
  {
   "cell_type": "code",
   "execution_count": 13,
   "metadata": {},
   "outputs": [
    {
     "data": {
      "text/plain": [
       "array([0.5488135 , 0.71518937, 0.60276338])"
      ]
     },
     "execution_count": 13,
     "metadata": {},
     "output_type": "execute_result"
    }
   ],
   "source": [
    "# seed random number generator\n",
    "np.random.seed(0)\n",
    "np.random.random(3)"
   ]
  },
  {
   "cell_type": "markdown",
   "metadata": {},
   "source": [
    "- Uniform between $a$ and $b$: scale and shift （均匀概率分布）\n",
    "\n",
    "\n",
    ">$\\displaystyle U_{ab} = a + (b\\!-\\!a)\\,U_{01} $\n",
    "\n",
    "- Inverse transform sampling in $\\mathbb{R}$\n",
    "\n",
    ">$\\displaystyle X = \\mathrm{CDF}^{-1}(U_{01}) $\n",
    "><br/>\n",
    "> Unhomework: prove it!"
   ]
  },
  {
   "cell_type": "markdown",
   "metadata": {},
   "source": [
    "<img src=\"files/inv.png\" height=\"400\" width=\"400\" align=left>"
   ]
  },
  {
   "cell_type": "markdown",
   "metadata": {},
   "source": [
    ">1. the ability to calculate the indefinite integral of the required distribution.\n",
    "><br/>\n",
    ">2. the ability to calculate the inverse"
   ]
  },
  {
   "cell_type": "markdown",
   "metadata": {},
   "source": [
    "> Example: $\\displaystyle f(x) = \\frac{1}{\\lambda} e^{-\\frac{x}{\\lambda}},\\ x\\geq0,\\ \\lambda>0 $\n",
    "> * $\\displaystyle F(x) = 1 - e^{-\\frac{x}{\\lambda}}$\n",
    "><br/>\n",
    "> * $\\displaystyle F^{-1}(u) = -\\lambda\\log(1-u)$"
   ]
  },
  {
   "cell_type": "code",
   "execution_count": 14,
   "metadata": {},
   "outputs": [],
   "source": [
    "from scipy.stats import uniform\n",
    "from scipy.stats import expon"
   ]
  },
  {
   "cell_type": "code",
   "execution_count": 15,
   "metadata": {},
   "outputs": [
    {
     "data": {
      "image/png": "[encoded data removed]",
      "text/plain": [
       "<Figure size 432x288 with 1 Axes>"
      ]
     },
     "metadata": {
      "needs_background": "light"
     },
     "output_type": "display_data"
    }
   ],
   "source": [
    "# generate sample with size N\n",
    "mu, N = 1, 10000\n",
    "U = uniform.rvs(size=N)\n",
    "# compute the inverse\n",
    "X = -mu*np.log(1-U)\n",
    "actual = expon.rvs(size=N,scale=mu)\n",
    "\n",
    "# compare the samples from inverse transfomation with actual sampling\n",
    "plt.figure(figsize=(6,4))\n",
    "plt.hist(X, bins=100, alpha=0.5, label=\"Generated r.v.\")\n",
    "plt.hist(actual, bins=100, alpha=0.5, label=\"Actual r.v.\")\n",
    "plt.title(\"Generated vs Actual %i Exponential Random Variables\" %N)\n",
    "plt.legend()\n",
    "plt.show()"
   ]
  },
  {
   "cell_type": "markdown",
   "metadata": {},
   "source": [
    "- Rejection sampling - also works in $\\mathbb{R}^N$\n",
    "> * $\\displaystyle p(x) = \\frac{1}{Z_p}\\tilde{p}(x)$\n",
    "><br/>\n",
    "> where $\\tilde{p}(z)$ can readily be evaluated, but $Z_P$ is unknown"
   ]
  },
  {
   "cell_type": "markdown",
   "metadata": {},
   "source": [
    "<img src=\"files/rejection_sampling.png\" width=\"600\" align=left>"
   ]
  },
  {
   "cell_type": "markdown",
   "metadata": {},
   "source": [
    "<img src=\"files/anim.gif\" align=left>\n",
    "<!--<img src=\"http://dl.dropbox.com/u/27415200/anim.gif\">-->"
   ]
  },
  {
   "cell_type": "markdown",
   "metadata": {},
   "source": [
    "\n",
    "### Numerical Methods\n",
    "If the $\\left\\{x_i\\right\\}$ set is sampled from the probability density function $p(\\cdot)$,\n",
    "the following will be true:\n",
    "- Average\n",
    "\n",
    ">$\\displaystyle\\mathbb{E}[X] =\\!\\int x\\ p(x)\\,dx  \\ \\approx\\ \\frac{1}{N}\\sum_i x_i $\n",
    "\n",
    "- Variance\n",
    "\n",
    ">$\\displaystyle\\mathbb{E}[(X\\!-\\!\\mu)^2]=\\int (x\\!-\\!\\mu)^2\\ p(x)\\,dx \\approx \\frac{1}{N}\\sum_i (x_i\\!-\\!\\mu)^2$\n",
    "><br/><br/>\n",
    "> compare to\n",
    "><br/><br/>\n",
    ">$\\displaystyle\\ s^2=\\frac{1}{N\\!-\\!1}\\sum_{i=1}^N \\big(x_i\\!-\\!\\bar{x}\\big)^2 $\n",
    "><br/><br/>\n",
    "> Bessel correction: $N\\!-\\!1$ independent $(x_i\\!-\\!\\bar{x})$ differences\n",
    "<br/><br/>\n",
    ">$\\displaystyle \\sum_{i=1}^N (x_i\\!-\\!\\bar{x}) =\\ ???  (ansewr: 0)$ <font color=\"white\">.... 0 ...</font>\n"
   ]
  },
  {
   "cell_type": "code",
   "execution_count": 16,
   "metadata": {},
   "outputs": [],
   "source": [
    "from scipy.stats import norm as gaussian"
   ]
  },
  {
   "cell_type": "code",
   "execution_count": 17,
   "metadata": {},
   "outputs": [
    {
     "name": "stdout",
     "output_type": "stream",
     "text": [
      "0.3178982525682724\n"
     ]
    },
    {
     "data": {
      "text/plain": [
       "(0.28668687091807943, 0.25642053265181325, 0.4084247648605564)"
      ]
     },
     "execution_count": 17,
     "metadata": {},
     "output_type": "execute_result"
    }
   ],
   "source": [
    "# generate sample with size N\n",
    "mu, sigma, N = 0, 1, 5\n",
    "x = gaussian.rvs(mu, sigma, N)\n",
    "\n",
    "avg = np.mean(x)\n",
    "print (avg)\n",
    "\n",
    "# variance estimates\n",
    "s2   = np.sum( (x-avg)**2 ) /(N-1)  # correct\n",
    "s2n  = np.sum( (x-avg)**2 ) / N     # biased \n",
    "s2k  = np.sum( (x- mu)**2 ) / N     # known mean\n",
    "# standard deviation estimates\n",
    "sqrt(s2), sqrt(s2n), sqrt(s2k) "
   ]
  },
  {
   "cell_type": "code",
   "execution_count": 8,
   "metadata": {},
   "outputs": [
    {
     "name": "stdout",
     "output_type": "stream",
     "text": [
      "(5, 10000) (10000,)\n",
      "(10000,)\n",
      "0.9369631689455779 0.8380453352703727 0.9465998328845479\n"
     ]
    },
    {
     "data": {
      "image/png": "[encoded data removed]",
      "text/plain": [
       "<Figure size 432x288 with 1 Axes>"
      ]
     },
     "metadata": {
      "needs_background": "light"
     },
     "output_type": "display_data"
    }
   ],
   "source": [
    "# generate M runs with N samples each\n",
    "mu, sigma, N, M = 0, 1, 5, 10000\n",
    "X = gaussian.rvs(loc=mu, scale=sigma, size=(N,M))\n",
    "avg = np.mean(X, axis=0)\n",
    "print (X.shape, avg.shape)\n",
    "\n",
    "# variance estimates - check out broadcasting in X-avg\n",
    "s2   = np.sum( (X-avg)**2, axis=0) /(N-1) # correct\n",
    "s2n  = np.sum( (X-avg)**2, axis=0) / N    # biased\n",
    "s2k  = np.sum( (X- mu)**2, axis=0) / N    # known mean\n",
    "\n",
    "print (s2.shape)\n",
    "\n",
    "# standard deviation estimates\n",
    "s, sn, sk = np.sqrt(s2), np.sqrt(s2n), np.sqrt(s2k)\n",
    "print (mean(s), mean(sn), mean(sk))\n",
    "\n",
    "hist(s , 41, range=[0,2], color='r', alpha=0.5);\n",
    "hist(sn, 41, range=[0,2], color='b', alpha=0.5);\n",
    "grid()"
   ]
  },
  {
   "cell_type": "markdown",
   "metadata": {},
   "source": [
    "### Detour: broadcasting"
   ]
  },
  {
   "cell_type": "code",
   "execution_count": 18,
   "metadata": {},
   "outputs": [
    {
     "data": {
      "text/plain": [
       "array([5, 6, 7])"
      ]
     },
     "execution_count": 18,
     "metadata": {},
     "output_type": "execute_result"
    }
   ],
   "source": [
    "# arrays of the same size, element-by-element \n",
    "a = np.array([0, 1, 2])\n",
    "b = np.array([5, 5, 5])\n",
    "a + b"
   ]
  },
  {
   "cell_type": "code",
   "execution_count": 19,
   "metadata": {},
   "outputs": [
    {
     "data": {
      "text/plain": [
       "array([5, 6, 7])"
      ]
     },
     "execution_count": 19,
     "metadata": {},
     "output_type": "execute_result"
    }
   ],
   "source": [
    "# add a scalar to a one-dimensional array\n",
    "a + 5"
   ]
  },
  {
   "cell_type": "code",
   "execution_count": 23,
   "metadata": {},
   "outputs": [
    {
     "name": "stdout",
     "output_type": "stream",
     "text": [
      "[[1. 1. 1.]\n",
      " [1. 1. 1.]\n",
      " [1. 1. 1.]]\n",
      "[[1. 2. 3.]\n",
      " [1. 2. 3.]\n",
      " [1. 2. 3.]]\n"
     ]
    }
   ],
   "source": [
    "# add a one-dimensional array to a two-dimensional array\n",
    "M = np.ones((3, 3)) # matrix with ones\n",
    "print(M)\n",
    "print(M + a)"
   ]
  },
  {
   "cell_type": "markdown",
   "metadata": {},
   "source": [
    "### Density Estimation\n",
    "- Histograms\n",
    "    - Width of bins, $h$\n",
    "    - Start of bin boundary, $x_0$\n",
    "\n",
    " >$\\displaystyle \\mathrm{Hist}(x) = \\frac{1}{N}\\sum_i \\pmb{1}_{\\mathrm{bin}(x_i;x_0,h)}(x)$\n",
    "        \n",
    "- Kernel Density Estimation (KDE)\n",
    "    - Bandwidth $h$\n",
    "   \n",
    " >$\\displaystyle \\mathrm{KDE}(x) = \\frac{1}{N}\\sum_i K_h(x\\!-\\!x_i) = \\frac{1}{Nh}\\sum_i K\\left(\\frac{x\\!-\\!x_i}{h}\\right)$\n",
    "   \n",
    "    - Can use different $K(\\cdot)$ kernel functions\n",
    "        - E.g., Uniform, Triangular, Gauss, Epanechnikov\n",
    "\n",
    "See animations at\n",
    "http://www.mglerner.com/blog/?p=28\n"
   ]
  },
  {
   "cell_type": "markdown",
   "metadata": {},
   "source": [
    "### Kernel Function\n",
    "- Finite vs Infinite support\n",
    "- Numerical evaluations\n",
    "- Frequently used kernels\n",
    "\n",
    "<img src=\"https://upload.wikimedia.org/wikipedia/commons/4/47/Kernels.svg\" alt=\"All of the above kernels in a common coordinate system\"  width=\"350\" align=left>\n"
   ]
  },
  {
   "cell_type": "markdown",
   "metadata": {},
   "source": [
    "Learn more about KDE \n",
    "[here](https://jakevdp.github.io/blog/2013/12/01/kernel-density-estimation/) and also check out Bayesian Blocks \n",
    "[here](https://jakevdp.github.io/blog/2012/09/12/dynamic-programming-in-python/)\n",
    "<br>\n",
    "&mdash; tutorials by Jake Vanderplas"
   ]
  },
  {
   "cell_type": "markdown",
   "metadata": {},
   "source": [
    "### Detour: Dirac delta\n",
    "\n",
    "- In the limit of $h\\rightarrow{}0$, the kernel will become strange:\n",
    "\n",
    "<img src=\"files/488px-Dirac_distribution_PDF.svg.png\" align=right width=250>\n",
    "\n",
    "> **Dirac's $\\delta$** \"function\" is 0 everywhere except at 0 such that\n",
    "<br/>\n",
    "> $\\displaystyle \\int \\delta(x)\\,dx = 1$\n",
    "\n",
    "- Interesting properties, e.g., \n",
    "\n",
    "> $\\displaystyle \\int f(x)\\,\\delta(x\\!-\\!a)\\,dx = f(a)$\n",
    "\n",
    "-  See **distribution theory** and **functionals** for more background"
   ]
  },
  {
   "cell_type": "markdown",
   "metadata": {},
   "source": [
    "### An interesting result \n",
    "\n",
    "- Bad density estimation but if...\n",
    "\n",
    "> $\\displaystyle p(x) = \\frac{1}{N} \\sum_{i=1}^N \\delta(x\\!-\\!x_i)$\n",
    "\n",
    "- The expectation value\n",
    "\n",
    "> $\\displaystyle \\mathbb{E}[X] =  \\int x\\, \\frac{1}{N} \\sum_{i=1}^N  \\delta(x\\!-\\!x_i) \\,dx$\n",
    "> <br/><br/>\n",
    "> $\\displaystyle \\mathbb{E}[X] = \\frac{1}{N} \\sum_{i=1}^N \\int x\\, \\delta(x\\!-\\!x_i) \\,dx$\n",
    "><br/><br/>\n",
    "> $\\displaystyle \\mathbb{E}[X] = \\frac{1}{N} \\sum_{i=1}^N x_i$\n",
    "\n"
   ]
  },
  {
   "cell_type": "markdown",
   "metadata": {},
   "source": [
    "### Unhomework\n",
    "\n",
    "1. Sample from a mixture of two Gaussians using uniform random numbers in the [0,1) interval. Try different $(\\mu_1, \\sigma_1)$ and $(\\mu_2,\\sigma_2$) values and different $w_1$ and $w_2$ weights!\n",
    "1. Build different density estimators and compare to the original PDF. Try histogramming and KDE with different parameters."
   ]
  },
  {
   "cell_type": "code",
   "execution_count": null,
   "metadata": {},
   "outputs": [],
   "source": []
  }
 ],
 "metadata": {
  "anaconda-cloud": {},
  "kernelspec": {
   "display_name": "Python 3",
   "language": "python",
   "name": "python3"
  },
  "language_info": {
   "codemirror_mode": {
    "name": "ipython",
    "version": 3
   },
   "file_extension": ".py",
   "mimetype": "text/x-python",
   "name": "python",
   "nbconvert_exporter": "python",
   "pygments_lexer": "ipython3",
   "version": "3.8.8"
  }
 },
 "nbformat": 4,
 "nbformat_minor": 1
}
